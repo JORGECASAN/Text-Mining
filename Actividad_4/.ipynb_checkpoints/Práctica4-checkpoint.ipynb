{
 "cells": [
  {
   "cell_type": "markdown",
   "metadata": {},
   "source": [
    "# PRÁCTICA 4"
   ]
  },
  {
   "cell_type": "markdown",
   "metadata": {},
   "source": [
    "- JORGE CASAN VÁZQUEZ"
   ]
  },
  {
   "cell_type": "markdown",
   "metadata": {},
   "source": [
    "Nos importamos las librerías necesarias"
   ]
  },
  {
   "cell_type": "code",
   "execution_count": 18,
   "metadata": {},
   "outputs": [],
   "source": [
    "from nltk.tokenize import RegexpTokenizer\n",
    "from nltk.corpus import PlaintextCorpusReader\n",
    "from stop_words import get_stop_words\n",
    "from nltk.stem.porter import PorterStemmer\n",
    "from gensim import corpora, models\n",
    "import gensim\n",
    "import pyLDAvis.gensim\n",
    "import nltk, re, pprint, spacy\n",
    "import textacy\n",
    "from langdetect import *\n",
    "from nltk.stem import WordNetLemmatizer\n",
    "import pandas as pd"
   ]
  },
  {
   "cell_type": "markdown",
   "metadata": {},
   "source": [
    "Ahora creamos el conjunto de documentos, los cuales serán un total de 10 documentos, los cuales están en castellano y cubren diferentes tópicos cada uno de ellos "
   ]
  },
  {
   "cell_type": "markdown",
   "metadata": {},
   "source": [
    "# Importamos todos nuestros documentos guardados "
   ]
  },
  {
   "cell_type": "code",
   "execution_count": 19,
   "metadata": {},
   "outputs": [
    {
     "data": {
      "text/plain": [
       "['Documento1',\n",
       " 'Documento10',\n",
       " 'Documento2',\n",
       " 'Documento3',\n",
       " 'Documento4',\n",
       " 'Documento5',\n",
       " 'Documento6',\n",
       " 'Documento7',\n",
       " 'Documento8',\n",
       " 'Documento9']"
      ]
     },
     "execution_count": 19,
     "metadata": {},
     "output_type": "execute_result"
    }
   ],
   "source": [
    "doc_list=[]\n",
    "docs_dir = \"C:/Users/jcasa/OneDrive/Escritorio/2º SEMESTRE/Analisis de informacion no estructurada/Actividad_4/Corpus Documentos\"\n",
    "documentos = PlaintextCorpusReader(docs_dir, '.*')\n",
    "\n",
    "for fileid in documentos.fileids():\n",
    "    doc_list.append(documentos.raw(fileids=fileid))\n",
    "documentos.fileids()"
   ]
  },
  {
   "cell_type": "markdown",
   "metadata": {},
   "source": [
    "# Análisis completo de los documentos"
   ]
  },
  {
   "cell_type": "markdown",
   "metadata": {},
   "source": [
    "Realizamos un análisis sobre los siguientes términos, sobre el primer documento:\n",
    "- Frases\n",
    "- Palabras\n",
    "- POS\n",
    "- Forma Normal\n",
    "- Entidades"
   ]
  },
  {
   "cell_type": "code",
   "execution_count": 36,
   "metadata": {},
   "outputs": [
    {
     "data": {
      "text/plain": [
       "'La historia de la ciudad de Valencia abarca desde la época anterior a la fundación formal de la ciudad cuando la región ya estaba habitada por pueblos prerromanos hasta la actualidad. Gracias a la fértil huerta sobre la que se sustenta, los alrededores de Valencia (España) fueron ya una zona de alta densidad humana antes de su fundación en el siglo II a. C. por los romanos. Desde entonces, la ciudad ha constituido uno de los mayores núcleos urbanos de la península ibérica'"
      ]
     },
     "execution_count": 36,
     "metadata": {},
     "output_type": "execute_result"
    }
   ],
   "source": [
    "documento = documentos.raw(fileids=\"Documento1\")\n",
    "documento"
   ]
  },
  {
   "cell_type": "code",
   "execution_count": 37,
   "metadata": {},
   "outputs": [
    {
     "name": "stderr",
     "output_type": "stream",
     "text": [
      "<input>:4: DeprecationWarning: invalid escape sequence \\F\n",
      "<input>:4: DeprecationWarning: invalid escape sequence \\F\n",
      "<input>:4: DeprecationWarning: invalid escape sequence \\F\n",
      "<ipython-input-37-742bfb4a5e78>:4: DeprecationWarning: invalid escape sequence \\F\n",
      "  print(\"\\Frases\")\n"
     ]
    },
    {
     "name": "stdout",
     "output_type": "stream",
     "text": [
      "\\Frases\n",
      "La historia de la ciudad de Valencia abarca desde la época anterior a la fundación formal de la ciudad cuando la región ya estaba habitada por pueblos prerromanos hasta la actualidad.\n",
      "Gracias a la fértil huerta sobre la que se sustenta, los alrededores de Valencia (España) fueron ya una zona de alta densidad humana antes de su fundación en el siglo II a. C. por los romanos.\n",
      "Desde entonces, la ciudad ha constituido uno de los mayores núcleos urbanos de la península ibérica\n",
      "\n",
      "Tokens\n",
      "La La DET DET__Definite=Def|Gender=Fem|Number=Sing|PronType=Art det\n",
      "historia historia NOUN NOUN__Gender=Fem|Number=Sing nsubj\n",
      "de de ADP ADP__AdpType=Prep case\n",
      "la lo DET DET__Definite=Def|Gender=Fem|Number=Sing|PronType=Art det\n",
      "ciudad ciudad NOUN NOUN__Gender=Fem|Number=Sing nmod\n",
      "de de ADP ADP__AdpType=Prep case\n",
      "Valencia Valencia PROPN PROPN___ nmod\n",
      "abarca abarcar VERB VERB__Mood=Ind|Number=Sing|Person=3|Tense=Pres|VerbForm=Fin ROOT\n",
      "desde desde ADP ADP__AdpType=Prep case\n",
      "la lo DET DET__Definite=Def|Gender=Fem|Number=Sing|PronType=Art det\n",
      "época época NOUN NOUN__Gender=Fem|Number=Sing obl\n",
      "anterior anterior ADJ ADJ__Number=Sing amod\n",
      "a a ADP ADP__AdpType=Prep case\n",
      "la lo DET DET__Definite=Def|Gender=Fem|Number=Sing|PronType=Art det\n",
      "fundación fundación NOUN NOUN__Gender=Fem|Number=Sing nmod\n",
      "formal formal ADJ ADJ__Number=Sing amod\n",
      "de de ADP ADP__AdpType=Prep case\n",
      "la lo DET DET__Definite=Def|Gender=Fem|Number=Sing|PronType=Art det\n",
      "ciudad ciudad NOUN NOUN__Gender=Fem|Number=Sing nmod\n",
      "cuando cuando SCONJ SCONJ___ mark\n",
      "la lo DET DET__Definite=Def|Gender=Fem|Number=Sing|PronType=Art det\n",
      "región región NOUN NOUN__Gender=Fem|Number=Sing nsubj\n",
      "ya ya ADV ADV___ advmod\n",
      "estaba estar AUX AUX__Mood=Ind|Number=Sing|Person=3|Tense=Imp|VerbForm=Fin cop\n",
      "habitada habitar ADJ ADJ__Gender=Fem|Number=Sing|VerbForm=Part advcl\n",
      "por por ADP ADP__AdpType=Prep case\n",
      "pueblos pueblo NOUN NOUN__Gender=Masc|Number=Plur obj\n",
      "prerromanos prerromano ADJ ADJ__Gender=Masc|Number=Plur amod\n",
      "hasta hasta ADP ADP__AdpType=Prep case\n",
      "la lo DET DET__Definite=Def|Gender=Fem|Number=Sing|PronType=Art det\n",
      "actualidad actualidad NOUN NOUN__Gender=Fem|Number=Sing obl\n",
      ". . PUNCT PUNCT__PunctType=Peri punct\n",
      "Gracias Gracias NOUN NOUN___ case\n",
      "a a ADP ADP__AdpType=Prep fixed\n",
      "la lo DET DET__Definite=Def|Gender=Fem|Number=Sing|PronType=Art det\n",
      "fértil fértil ADJ ADJ__Number=Sing obl\n",
      "huerta huerta NOUN NOUN__Gender=Fem|Number=Sing ROOT\n",
      "sobre sobrar ADP ADP__AdpType=Prep case\n",
      "la lo DET DET__Definite=Def|Gender=Fem|Number=Sing|PronType=Art det\n",
      "que que PRON PRON__PronType=Rel obl\n",
      "se se PRON PRON__Person=3 obj\n",
      "sustenta sustentar VERB VERB__Mood=Ind|Number=Sing|Person=3|Tense=Pres|VerbForm=Fin ccomp\n",
      ", , PUNCT PUNCT__PunctType=Comm punct\n",
      "los lo DET DET__Definite=Def|Gender=Masc|Number=Plur|PronType=Art det\n",
      "alrededores alrededor NOUN NOUN__Gender=Masc|Number=Plur nsubj\n",
      "de de ADP ADP__AdpType=Prep case\n",
      "Valencia Valencia PROPN PROPN___ nmod\n",
      "( ( PUNCT PUNCT__PunctSide=Ini|PunctType=Brck punct\n",
      "España España PROPN PROPN___ flat\n",
      ") ) PUNCT PUNCT__PunctSide=Fin|PunctType=Brck punct\n",
      "fueron ser AUX AUX__Mood=Ind|Number=Plur|Person=3|Tense=Past|VerbForm=Fin cop\n",
      "ya ya ADV ADV___ advmod\n",
      "una uno DET DET__Definite=Ind|Gender=Fem|Number=Sing|PronType=Art det\n",
      "zona zona NOUN NOUN__Gender=Fem|Number=Sing advcl\n",
      "de de ADP ADP__AdpType=Prep case\n",
      "alta alto ADJ ADJ__Gender=Fem|Number=Sing amod\n",
      "densidad densidad NOUN NOUN__Gender=Fem|Number=Sing nmod\n",
      "humana humano ADJ ADJ__Gender=Fem|Number=Sing amod\n",
      "antes antes ADV ADV___ advmod\n",
      "de de ADP ADP__AdpType=Prep case\n",
      "su su DET DET__Number=Sing|Person=3|Poss=Yes|PronType=Prs det\n",
      "fundación fundación NOUN NOUN__Gender=Fem|Number=Sing obl\n",
      "en en ADP ADP__AdpType=Prep case\n",
      "el el DET DET__Definite=Def|Gender=Masc|Number=Sing|PronType=Art det\n",
      "siglo siglo NOUN NOUN__Gender=Masc|Number=Sing nmod\n",
      "II II PROPN PROPN___ compound\n",
      "a. a. ADP ADP__AdpType=Prep amod\n",
      "C. C. PROPN PROPN___ appos\n",
      "por por ADP ADP__AdpType=Prep case\n",
      "los lo DET DET__Definite=Def|Gender=Masc|Number=Plur|PronType=Art det\n",
      "romanos romano NOUN NOUN__Gender=Masc|Number=Plur nmod\n",
      ". . PUNCT PUNCT__PunctType=Peri punct\n",
      "Desde Desde ADP ADP__AdpType=Prep case\n",
      "entonces entonces ADV ADV___ advmod\n",
      ", , PUNCT PUNCT__PunctType=Comm punct\n",
      "la lo DET DET__Definite=Def|Gender=Fem|Number=Sing|PronType=Art det\n",
      "ciudad ciudad NOUN NOUN__Gender=Fem|Number=Sing nsubj\n",
      "ha haber AUX AUX__Mood=Ind|Number=Sing|Person=3|Tense=Pres|VerbForm=Fin aux\n",
      "constituido constituir VERB VERB__Gender=Masc|Number=Sing|Tense=Past|VerbForm=Part ROOT\n",
      "uno unir PRON PRON__Gender=Masc|Number=Sing|PronType=Ind obj\n",
      "de de ADP ADP__AdpType=Prep case\n",
      "los lo DET DET__Definite=Def|Gender=Masc|Number=Plur|PronType=Art det\n",
      "mayores mayor ADJ ADJ__Number=Plur amod\n",
      "núcleos núcleo NOUN NOUN__Gender=Masc|Number=Plur nmod\n",
      "urbanos urbano ADJ ADJ__Gender=Masc|Number=Plur amod\n",
      "de de ADP ADP__AdpType=Prep case\n",
      "la lo DET DET__Definite=Def|Gender=Fem|Number=Sing|PronType=Art det\n",
      "península península NOUN NOUN__Gender=Fem|Number=Sing nmod\n",
      "ibérica ibérico ADJ ADJ__Gender=Fem|Number=Sing amod\n",
      "\n",
      "Entidades\n",
      "de Valencia LOC\n",
      "Gracias LOC\n",
      "Valencia LOC\n",
      "España LOC\n"
     ]
    }
   ],
   "source": [
    "nlp = spacy.load('es_core_news_sm')\n",
    "doc = nlp(documento)\n",
    "\n",
    "print(\"\\Frases\")\n",
    "for sent in doc.sents:\n",
    "    print(sent.text)\n",
    "\n",
    "print(\"\\nTokens\")\n",
    "for token in doc:\n",
    "    print(token.text, token.lemma_, token.pos_, token.tag_, token.dep_)\n",
    "\n",
    "print(\"\\nEntidades\")\n",
    "for ent in doc.ents:\n",
    "    print(ent.text, ent.label_)"
   ]
  },
  {
   "cell_type": "markdown",
   "metadata": {},
   "source": [
    "Spacy ofrecía mejores resultados que la librería NLTK para trabajar sobre textos en español, por lo que decidimos trabajar sobre ella. Cargamos el modelo de español sobre Spacy y vamos a cargar la lista de palabras vacías en español"
   ]
  },
  {
   "cell_type": "markdown",
   "metadata": {},
   "source": [
    "# Preparación previa para Análisis LDA"
   ]
  },
  {
   "cell_type": "markdown",
   "metadata": {},
   "source": [
    "Pasaremos todas las palabras a minúsculas y a las formas normales y retiraremos las palabras vacías"
   ]
  },
  {
   "cell_type": "code",
   "execution_count": 38,
   "metadata": {},
   "outputs": [],
   "source": [
    "es_stop = get_stop_words('es')"
   ]
  },
  {
   "cell_type": "code",
   "execution_count": 39,
   "metadata": {},
   "outputs": [],
   "source": [
    "textos = []\n",
    "palabras = []\n",
    "\n",
    "for doc in doc_list:\n",
    "    doc_min = doc.lower()\n",
    "    doc = nlp(doc_min)\n",
    "    \n",
    "    for token in doc:\n",
    "        if (not token.lemma_ in es_stop) and (len(token.lemma_)>1):\n",
    "            palabras.append(token.lemma_)\n",
    "    \n",
    "    textos.append(palabras)\n",
    "    palabras = []"
   ]
  },
  {
   "cell_type": "markdown",
   "metadata": {},
   "source": [
    "# Construimos el diccionario y la matriz de términos-documentos"
   ]
  },
  {
   "cell_type": "code",
   "execution_count": 40,
   "metadata": {},
   "outputs": [],
   "source": [
    "# Construímos el diccionario, que es una lista de las palabras que aparecen en el corpus textos\n",
    "\n",
    "dictionary = corpora.Dictionary(textos)\n",
    "    \n",
    "# Ahora generamos la matriz términos documentos que nos hace falta para llamar a la función que genera el modelo LDA\n",
    "corpus = [dictionary.doc2bow(texto) for texto in textos]"
   ]
  },
  {
   "cell_type": "markdown",
   "metadata": {},
   "source": [
    "# Modelo LDA"
   ]
  },
  {
   "cell_type": "code",
   "execution_count": null,
   "metadata": {},
   "outputs": [],
   "source": [
    "vldamodel = gensim.models.ldamodel.LdaModel(corpus, num_topics=7, id2word = dictionary, passes=50)"
   ]
  },
  {
   "cell_type": "markdown",
   "metadata": {},
   "source": [
    "# Representar los valores obtenidos"
   ]
  },
  {
   "cell_type": "code",
   "execution_count": 41,
   "metadata": {},
   "outputs": [
    {
     "name": "stdout",
     "output_type": "stream",
     "text": [
      "[(0, '0.034*\"ciudad\" + 0.027*\"ser\" + 0.014*\"sobrar\" + 0.014*\"haber\" + 0.014*\"cordillera\" + 0.014*\"poblar\" + 0.014*\"sureste\" + 0.014*\"fundación\" + 0.014*\"valencia\" + 0.007*\"romano\"'), (1, '0.030*\"abogar\" + 0.020*\"unir\" + 0.020*\"seriar\" + 0.020*\"mike\" + 0.011*\"sobrar\" + 0.011*\"después\" + 0.011*\"alejar\" + 0.011*\"gracia\" + 0.011*\"historia\" + 0.011*\"gran\"'), (2, '0.049*\"dato\" + 0.022*\"comer\" + 0.022*\"fuente\" + 0.022*\"ciencia\" + 0.015*\"poder\" + 0.015*\"deber\" + 0.015*\"tener\" + 0.015*\"médico\" + 0.015*\"analizar\" + 0.015*\"negociar\"'), (3, '0.024*\"ser\" + 0.019*\"trofeo\" + 0.019*\"tener\" + 0.014*\"do\" + 0.014*\"nuevo\" + 0.014*\"valencia\" + 0.014*\"parejo\" + 0.014*\"rey\" + 0.014*\"jugador\" + 0.010*\"anterior\"'), (4, '0.034*\"ser\" + 0.023*\"planeta\" + 0.017*\"comer\" + 0.012*\"marte\" + 0.012*\"mitología\" + 0.012*\"pequeño\" + 0.012*\"formar\" + 0.012*\"sol\" + 0.012*\"fruto\" + 0.012*\"recetar\"'), (5, '0.002*\"dato\" + 0.002*\"ser\" + 0.002*\"tener\" + 0.002*\"comer\" + 0.002*\"trofeo\" + 0.002*\"valencia\" + 0.002*\"haber\" + 0.002*\"anterior\" + 0.002*\"nuevo\" + 0.002*\"ciencia\"'), (6, '0.030*\"eiffel\" + 0.022*\"ser\" + 0.022*\"300\" + 0.022*\"metro\" + 0.022*\"estructurar\" + 0.022*\"torrar\" + 0.015*\"año\" + 0.015*\"tour\" + 0.015*\"francés\" + 0.015*\"mundo\"')]\n"
     ]
    }
   ],
   "source": [
    "print(ldamodel.print_topics(num_topics=7, num_words=10))"
   ]
  },
  {
   "cell_type": "markdown",
   "metadata": {},
   "source": [
    "# Resultado gráfico"
   ]
  },
  {
   "cell_type": "code",
   "execution_count": 42,
   "metadata": {},
   "outputs": [
    {
     "name": "stderr",
     "output_type": "stream",
     "text": [
      "C:\\Users\\jcasa\\Anaconda3\\lib\\site-packages\\pyLDAvis\\_prepare.py:257: FutureWarning: Sorting because non-concatenation axis is not aligned. A future version\n",
      "of pandas will change to not sort by default.\n",
      "\n",
      "To accept the future behavior, pass 'sort=False'.\n",
      "\n",
      "To retain the current behavior and silence the warning, pass 'sort=True'.\n",
      "\n",
      "  return pd.concat([default_term_info] + list(topic_dfs))\n"
     ]
    }
   ],
   "source": [
    "pyLDAvis.enable_notebook()\n",
    "\n",
    "data = pyLDAvis.gensim.prepare(ldamodel, corpus, dictionary)"
   ]
  },
  {
   "cell_type": "code",
   "execution_count": 43,
   "metadata": {},
   "outputs": [
    {
     "data": {
      "text/html": [
       "\n",
       "<link rel=\"stylesheet\" type=\"text/css\" href=\"https://cdn.rawgit.com/bmabey/pyLDAvis/files/ldavis.v1.0.0.css\">\n",
       "\n",
       "\n",
       "<div id=\"ldavis_el291621160668970168402360251\"></div>\n",
       "<script type=\"text/javascript\">\n",
       "\n",
       "var ldavis_el291621160668970168402360251_data = {\"mdsDat\": {\"x\": [-0.11709930814499002, 0.1099025883142104, -0.0684200112600952, 0.10767691177202866, -0.011629204216644302, -0.0223882323748074, 0.0019572559102977827], \"y\": [0.12557399400779815, 0.005037761121797995, -0.081792136143868, 0.0665453061997204, -0.11846562789291525, -0.00023096863268947987, 0.0033316713401562587], \"topics\": [1, 2, 3, 4, 5, 6, 7], \"cluster\": [1, 1, 1, 1, 1, 1, 1], \"Freq\": [26.610267639160156, 20.822166442871094, 15.721821784973145, 14.696208953857422, 13.84598445892334, 8.065113067626953, 0.23844216763973236]}, \"tinfo\": {\"Category\": [\"Default\", \"Default\", \"Default\", \"Default\", \"Default\", \"Default\", \"Default\", \"Default\", \"Default\", \"Default\", \"Default\", \"Default\", \"Default\", \"Default\", \"Default\", \"Default\", \"Default\", \"Default\", \"Default\", \"Default\", \"Default\", \"Default\", \"Default\", \"Default\", \"Default\", \"Default\", \"Default\", \"Default\", \"Default\", \"Default\", \"Topic1\", \"Topic1\", \"Topic1\", \"Topic1\", \"Topic1\", \"Topic1\", \"Topic1\", \"Topic1\", \"Topic1\", \"Topic1\", \"Topic1\", \"Topic1\", \"Topic1\", \"Topic1\", \"Topic1\", \"Topic1\", \"Topic1\", \"Topic1\", \"Topic1\", \"Topic1\", \"Topic1\", \"Topic1\", \"Topic1\", \"Topic1\", \"Topic1\", \"Topic1\", \"Topic1\", \"Topic1\", \"Topic1\", \"Topic1\", \"Topic1\", \"Topic1\", \"Topic1\", \"Topic1\", \"Topic1\", \"Topic1\", \"Topic1\", \"Topic1\", \"Topic1\", \"Topic1\", \"Topic1\", \"Topic1\", \"Topic1\", \"Topic1\", \"Topic1\", \"Topic1\", \"Topic1\", \"Topic1\", \"Topic1\", \"Topic1\", \"Topic1\", \"Topic1\", \"Topic1\", \"Topic1\", \"Topic1\", \"Topic1\", \"Topic1\", \"Topic1\", \"Topic1\", \"Topic2\", \"Topic2\", \"Topic2\", \"Topic2\", \"Topic2\", \"Topic2\", \"Topic2\", \"Topic2\", \"Topic2\", \"Topic2\", \"Topic2\", \"Topic2\", \"Topic2\", \"Topic2\", \"Topic2\", \"Topic2\", \"Topic2\", \"Topic2\", \"Topic2\", \"Topic2\", \"Topic2\", \"Topic2\", \"Topic2\", \"Topic2\", \"Topic2\", \"Topic2\", \"Topic2\", \"Topic2\", \"Topic2\", \"Topic2\", \"Topic2\", \"Topic2\", \"Topic2\", \"Topic2\", \"Topic2\", \"Topic2\", \"Topic2\", \"Topic2\", \"Topic2\", \"Topic2\", \"Topic2\", \"Topic2\", \"Topic2\", \"Topic2\", \"Topic2\", \"Topic2\", \"Topic2\", \"Topic2\", \"Topic2\", \"Topic2\", \"Topic2\", \"Topic2\", \"Topic2\", \"Topic2\", \"Topic2\", \"Topic2\", \"Topic2\", \"Topic2\", \"Topic2\", \"Topic2\", \"Topic2\", \"Topic2\", \"Topic2\", \"Topic2\", \"Topic2\", \"Topic2\", \"Topic2\", \"Topic2\", \"Topic3\", \"Topic3\", \"Topic3\", \"Topic3\", \"Topic3\", \"Topic3\", \"Topic3\", \"Topic3\", \"Topic3\", \"Topic3\", \"Topic3\", \"Topic3\", \"Topic3\", \"Topic3\", \"Topic3\", \"Topic3\", \"Topic3\", \"Topic3\", \"Topic3\", \"Topic3\", \"Topic3\", \"Topic3\", \"Topic3\", \"Topic3\", \"Topic3\", \"Topic3\", \"Topic3\", \"Topic3\", \"Topic3\", \"Topic3\", \"Topic3\", \"Topic3\", \"Topic3\", \"Topic3\", \"Topic3\", \"Topic3\", \"Topic3\", \"Topic3\", \"Topic3\", \"Topic3\", \"Topic3\", \"Topic3\", \"Topic3\", \"Topic3\", \"Topic3\", \"Topic4\", \"Topic4\", \"Topic4\", \"Topic4\", \"Topic4\", \"Topic4\", \"Topic4\", \"Topic4\", \"Topic4\", \"Topic4\", \"Topic4\", \"Topic4\", \"Topic4\", \"Topic4\", \"Topic4\", \"Topic4\", \"Topic4\", \"Topic4\", \"Topic4\", \"Topic4\", \"Topic4\", \"Topic4\", \"Topic4\", \"Topic4\", \"Topic4\", \"Topic4\", \"Topic4\", \"Topic4\", \"Topic4\", \"Topic4\", \"Topic4\", \"Topic4\", \"Topic4\", \"Topic4\", \"Topic4\", \"Topic4\", \"Topic4\", \"Topic4\", \"Topic4\", \"Topic4\", \"Topic4\", \"Topic4\", \"Topic4\", \"Topic4\", \"Topic4\", \"Topic4\", \"Topic4\", \"Topic4\", \"Topic5\", \"Topic5\", \"Topic5\", \"Topic5\", \"Topic5\", \"Topic5\", \"Topic5\", \"Topic5\", \"Topic5\", \"Topic5\", \"Topic5\", \"Topic5\", \"Topic5\", \"Topic5\", \"Topic5\", \"Topic5\", \"Topic5\", \"Topic5\", \"Topic5\", \"Topic5\", \"Topic5\", \"Topic5\", \"Topic5\", \"Topic5\", \"Topic5\", \"Topic5\", \"Topic5\", \"Topic5\", \"Topic5\", \"Topic5\", \"Topic5\", \"Topic5\", \"Topic5\", \"Topic5\", \"Topic5\", \"Topic5\", \"Topic5\", \"Topic5\", \"Topic5\", \"Topic5\", \"Topic5\", \"Topic5\", \"Topic5\", \"Topic5\", \"Topic5\", \"Topic5\", \"Topic5\", \"Topic5\", \"Topic5\", \"Topic5\", \"Topic5\", \"Topic5\", \"Topic5\", \"Topic5\", \"Topic5\", \"Topic5\", \"Topic5\", \"Topic5\", \"Topic5\", \"Topic6\", \"Topic6\", \"Topic6\", \"Topic6\", \"Topic6\", \"Topic6\", \"Topic6\", \"Topic6\", \"Topic6\", \"Topic6\", \"Topic6\", \"Topic6\", \"Topic6\", \"Topic6\", \"Topic6\", \"Topic6\", \"Topic6\", \"Topic6\", \"Topic6\", \"Topic6\", \"Topic6\", \"Topic6\", \"Topic6\", \"Topic6\", \"Topic6\", \"Topic6\", \"Topic6\", \"Topic6\", \"Topic6\", \"Topic6\", \"Topic6\", \"Topic6\", \"Topic6\", \"Topic6\", \"Topic6\", \"Topic6\", \"Topic6\", \"Topic6\", \"Topic7\", \"Topic7\", \"Topic7\", \"Topic7\", \"Topic7\", \"Topic7\", \"Topic7\", \"Topic7\", \"Topic7\", \"Topic7\", \"Topic7\", \"Topic7\", \"Topic7\", \"Topic7\", \"Topic7\", \"Topic7\", \"Topic7\", \"Topic7\", \"Topic7\", \"Topic7\", \"Topic7\", \"Topic7\", \"Topic7\", \"Topic7\", \"Topic7\", \"Topic7\", \"Topic7\", \"Topic7\", \"Topic7\", \"Topic7\", \"Topic7\", \"Topic7\", \"Topic7\", \"Topic7\", \"Topic7\", \"Topic7\", \"Topic7\", \"Topic7\", \"Topic7\", \"Topic7\", \"Topic7\", \"Topic7\", \"Topic7\", \"Topic7\", \"Topic7\", \"Topic7\", \"Topic7\", \"Topic7\", \"Topic7\", \"Topic7\", \"Topic7\", \"Topic7\", \"Topic7\", \"Topic7\", \"Topic7\", \"Topic7\", \"Topic7\", \"Topic7\", \"Topic7\", \"Topic7\", \"Topic7\", \"Topic7\", \"Topic7\", \"Topic7\", \"Topic7\", \"Topic7\", \"Topic7\", \"Topic7\", \"Topic7\", \"Topic7\", \"Topic7\", \"Topic7\", \"Topic7\"], \"Freq\": [4.0, 4.0, 2.0, 1.0, 3.0, 2.0, 2.0, 2.0, 2.0, 2.0, 2.0, 4.0, 2.0, 3.0, 6.0, 3.0, 1.0, 1.0, 3.0, 3.0, 2.0, 2.0, 1.0, 1.0, 1.0, 1.0, 1.0, 2.0, 2.0, 2.0, 2.981375217437744, 2.2617275714874268, 2.2617273330688477, 2.2617268562316895, 1.5420788526535034, 1.5420788526535034, 1.542078971862793, 1.5420788526535034, 1.5420788526535034, 1.5420787334442139, 1.5420782566070557, 1.5420781373977661, 2.26173734664917, 0.8224270939826965, 0.8224270939826965, 0.8224270939826965, 0.8224270939826965, 0.8224270939826965, 0.8224270939826965, 0.8224270939826965, 0.8224270939826965, 0.8224270939826965, 0.8224270939826965, 0.8224270939826965, 0.8224270939826965, 0.8224270939826965, 0.8224270939826965, 0.8224270939826965, 0.8224270939826965, 0.8224270939826965, 2.9813709259033203, 0.8224270939826965, 0.8224270939826965, 0.8224270343780518, 0.8224270343780518, 0.8224270939826965, 0.8224270939826965, 0.8224270343780518, 0.8224270343780518, 0.8224270343780518, 0.8224270343780518, 0.8224270939826965, 2.261737108230591, 2.261751890182495, 0.8224270343780518, 0.8224270939826965, 1.5420905351638794, 0.8224270343780518, 0.8224270939826965, 0.8224270343780518, 0.8224270939826965, 3.7009825706481934, 1.542080044746399, 1.5420467853546143, 1.5420551300048828, 0.8224269151687622, 0.8224269151687622, 0.822426974773407, 0.8224278092384338, 2.780452013015747, 1.4381555318832397, 1.4381555318832397, 1.4381554126739502, 1.4381554126739502, 1.438155174255371, 1.438155174255371, 0.7670045495033264, 0.7670045495033264, 0.7670044898986816, 0.7670045495033264, 0.7670045495033264, 0.7670045495033264, 0.7670044302940369, 0.7670044898986816, 0.7670044898986816, 0.7670044898986816, 0.7670044898986816, 0.7670044302940369, 0.7670044898986816, 0.7670044302940369, 0.7670044898986816, 0.7670044898986816, 0.7670044898986816, 0.7670044302940369, 0.7670044898986816, 0.7670044898986816, 0.7670044898986816, 0.7670044898986816, 0.7670044898986816, 0.7670044898986816, 0.7670044898986816, 0.7670044898986816, 0.7670044898986816, 0.7670044898986816, 1.438157081604004, 4.122831344604492, 0.7670044898986816, 0.7670044898986816, 0.7670044898986816, 0.7670044898986816, 0.7670044898986816, 2.1093099117279053, 0.7670044898986816, 0.7670044898986816, 0.7670044898986816, 0.7670044898986816, 0.7670043110847473, 0.7670043110847473, 0.7670043110847473, 0.7670043110847473, 0.7670043110847473, 0.7670043110847473, 0.7670043110847473, 0.7670043110847473, 0.7670043110847473, 0.7670043110847473, 0.7670043110847473, 0.7670043110847473, 0.7670043110847473, 0.7670043110847473, 0.7670148611068726, 0.7670121788978577, 0.767009437084198, 0.7670052647590637, 0.7670048475265503, 0.7670048475265503, 0.7670048475265503, 3.119070053100586, 1.2995948791503906, 1.2995948791503906, 1.2995948791503906, 1.299594759941101, 0.6931083798408508, 0.6931083798408508, 0.6931083798408508, 0.6931083798408508, 0.6931083798408508, 0.6931083798408508, 0.6931083798408508, 0.6931083798408508, 0.6931083798408508, 0.6931083798408508, 0.6931083798408508, 0.6931083798408508, 0.6931083798408508, 0.6931083798408508, 0.6931084394454956, 0.6931083798408508, 0.6931084394454956, 0.6931082010269165, 0.6931082010269165, 0.6931084394454956, 0.6931084394454956, 0.6931084394454956, 0.6931084394454956, 0.6931084394454956, 0.6931084394454956, 0.6931084394454956, 0.6931084394454956, 0.6931082010269165, 0.6931082010269165, 0.6931082010269165, 0.6931083798408508, 0.6931084394454956, 0.6931084394454956, 0.6931084394454956, 1.2996329069137573, 1.2995998859405518, 2.5125844478607178, 1.2995868921279907, 0.6931082010269165, 0.6931094527244568, 4.244311809539795, 1.8674901723861694, 1.867490530014038, 1.273284912109375, 1.2732845544815063, 1.2732845544815063, 1.2732845544815063, 1.2732845544815063, 1.2732845544815063, 0.6790769100189209, 0.6790769100189209, 0.6790769100189209, 0.6790769100189209, 0.6790769100189209, 0.6790768504142761, 0.6790768504142761, 0.6790768504142761, 0.6790768504142761, 0.6790768504142761, 0.6790768504142761, 0.6790769100189209, 0.6790768504142761, 0.6790769100189209, 0.6790768504142761, 0.6790768504142761, 0.6790769100189209, 0.6790768504142761, 0.6790768504142761, 0.6790769100189209, 0.6790768504142761, 0.6790767312049866, 0.6790768504142761, 0.6790768504142761, 0.6790767312049866, 0.6790767312049866, 0.6790767312049866, 0.6790767312049866, 1.2733025550842285, 0.6790767312049866, 0.6790767312049866, 1.8675357103347778, 1.2733255624771118, 1.2732882499694824, 1.2732782363891602, 0.6790876984596252, 0.6790821552276611, 0.6790803670883179, 0.6790803074836731, 2.401857614517212, 1.8220961093902588, 1.8220961093902588, 1.8220961093902588, 1.822095513343811, 1.242334008216858, 1.242334008216858, 1.242334008216858, 1.242334008216858, 1.2423338890075684, 0.6625704169273376, 0.6625703573226929, 0.6625704169273376, 0.6625703573226929, 0.6625703573226929, 0.6625704169273376, 0.6625703573226929, 0.6625704765319824, 0.6625704169273376, 0.6625704169273376, 0.6625703573226929, 0.6625704169273376, 0.6625704169273376, 0.6625704169273376, 0.6625704169273376, 0.6625703573226929, 0.6625704169273376, 0.6625704169273376, 0.6625704169273376, 0.6625704169273376, 0.6625704169273376, 0.6625704169273376, 0.6625703573226929, 0.6625704765319824, 0.6625702381134033, 0.6625704169273376, 0.6625704169273376, 0.6625704169273376, 0.6625702381134033, 0.6625704169273376, 0.6625704169273376, 0.6625702381134033, 0.6625704169273376, 0.6625702381134033, 0.6625704169273376, 1.2423471212387085, 0.6625702381134033, 0.6625702381134033, 1.822142481803894, 0.6625869870185852, 0.6625843644142151, 0.6625834703445435, 0.6625815033912659, 0.6625756621360779, 0.6625754833221436, 0.6625743508338928, 0.6625741720199585, 0.6625741720199585, 0.6625741720199585, 1.4004087448120117, 0.9548217058181763, 0.9548217058181763, 0.5092337131500244, 0.5092337131500244, 0.5092337131500244, 0.5092337727546692, 0.5092337727546692, 0.5092337131500244, 0.5092337131500244, 0.5092337727546692, 0.5092337131500244, 0.5092337131500244, 0.5092337131500244, 0.5092336535453796, 0.5092337131500244, 0.5092337131500244, 0.5092337131500244, 0.5092337131500244, 0.5092336535453796, 0.5092337131500244, 0.5092337131500244, 0.5092337131500244, 0.5092336535453796, 0.5092337131500244, 0.5092337131500244, 0.5092337131500244, 0.5092335343360901, 0.9548797607421875, 0.5092390179634094, 0.5092452764511108, 0.5092429518699646, 0.5092390775680542, 0.5092388987541199, 0.5092376470565796, 0.5092376470565796, 0.5092374086380005, 0.5092373490333557, 0.003370284801349044, 0.003370284801349044, 0.003370284801349044, 0.003370284801349044, 0.003370284801349044, 0.003370284801349044, 0.003370284801349044, 0.003370284801349044, 0.003370284801349044, 0.003370284801349044, 0.003370284801349044, 0.003370284801349044, 0.003370284801349044, 0.003370284801349044, 0.003370284801349044, 0.003370284801349044, 0.003370284801349044, 0.003370284801349044, 0.003370284801349044, 0.003370284801349044, 0.003370284801349044, 0.003370284801349044, 0.003370284801349044, 0.003370284801349044, 0.003370284801349044, 0.003370285267010331, 0.003370285267010331, 0.003370285267010331, 0.003370285267010331, 0.003370285267010331, 0.003370285267010331, 0.003370285267010331, 0.003370285267010331, 0.003370285267010331, 0.003370285267010331, 0.003370285267010331, 0.0033702850341796875, 0.0033702850341796875, 0.0033702850341796875, 0.0033702850341796875, 0.0033702850341796875, 0.0033702850341796875, 0.0033702850341796875, 0.003370329737663269, 0.0033703201916068792, 0.003370317630469799, 0.00337031576782465, 0.0033703134395182133, 0.003370309481397271, 0.0033703078515827656, 0.00337030878290534, 0.003370306920260191, 0.00337030366063118, 0.003370302729308605, 0.003370300168171525, 0.0033703004010021687, 0.0033702997025102377, 0.0033702997025102377, 0.0033703004010021687, 0.0033702990040183067, 0.0033702990040183067, 0.003370299469679594, 0.0033702971413731575, 0.0033702971413731575, 0.003370297374203801, 0.0033702964428812265, 0.0033702957443892956, 0.003370295511558652, 0.0033702957443892956, 0.003370296210050583, 0.003370296210050583, 0.003370295511558652, 0.0033702952787280083], \"Term\": [\"dato\", \"ciudad\", \"eiffel\", \"abogar\", \"planeta\", \"300\", \"metro\", \"estructurar\", \"torrar\", \"fuente\", \"ciencia\", \"tener\", \"unir\", \"trofeo\", \"comer\", \"nuevo\", \"seriar\", \"mike\", \"valencia\", \"haber\", \"sobrar\", \"a\\u00f1o\", \"franc\\u00e9s\", \"tour\", \"mundo\", \"ingeniero\", \"monumento\", \"parejo\", \"rey\", \"jugador\", \"trofeo\", \"parejo\", \"rey\", \"jugador\", \"red\", \"barcelona\", \"campe\\u00f3n\", \"hacer\", \"manir\", \"copar\", \"ganar\", \"dividir\", \"nuevo\", \"ninguno\", \"trabajar\", \"peana\", \"estrenar\", \"vario\", \"f\\u00fatbol\", \"impoluto\", \"coger\", \"encargar\", \"dani\", \"decir\", \"detalle\", \"tras\", \"tornear\", \"2018\", \"tal\", \"siempre\", \"tener\", \"referenciar\", \"real\", \"racha\", \"espa\\u00f1olar\", \"capit\\u00e1n\", \"felipe\", \"rfef\", \"privilegiar\", \"victoria\", \"obtener\", \"19\", \"valencia\", \"do\", \"placa\", \"primero\", \"anterior\", \"final\", \"pasar\", \"finalmente\", \"llevar\", \"ser\", \"haber\", \"poder\", \"comer\", \"empezar\", \"cogerla\", \"entregar\", \"cuartar\", \"planeta\", \"mitolog\\u00eda\", \"peque\\u00f1o\", \"sol\", \"formar\", \"recetar\", \"fruto\", \"dios\", \"guerra\", \"irregular\", \"delgado\", \"atm\\u00f3sfera\", \"superficie\", \"tel\\u00farico\", \"di\\u00f3xido\", \"homenaje\", \"conferir\", \"apariencia\", \"\\u00f3xido\", \"mercurio\", \"interior\", \"orden\", \"poseer\", \"recibir\", \"rojizo\", \"rojo\", \"sat\\u00e9lite\", \"segundar\", \"seco\", \"celebraci\\u00f3n\", \"griego\", \"principal\", \"utilizaci\\u00f3n\", \"solar\", \"predominante\", \"marte\", \"ser\", \"carne\", \"vegetal\", \"arar\", \"simple\", \"carbonar\", \"comer\", \"herencia\", \"verdura\", \"arom\\u00e1tico\", \"nombrar\", \"similar\", \"rico\", \"t\\u00edpico\", \"riqueza\", \"saludable\", \"valioso\", \"representar\", \"recoger\", \"proporcionar\", \"producto\", \"plato\", \"pescar\", \"costumbre\", \"caracterizar\", \"diverso\", \"sistema\", \"entrar\", \"humano\", \"destacar\", \"temporada\", \"propiedad\", \"ciudad\", \"cordillera\", \"sureste\", \"poblar\", \"fundaci\\u00f3n\", \"brisbane\", \"dragar\", \"habitante\", \"hom\\u00f3nimo\", \"tr\\u00e1nsito\", \"bah\\u00eda\", \"concretar\", \"oc\\u00e9ano\", \"pa\\u00eds\", \"entonces\", \"barco\", \"tercero\", \"coral\", \"geogr\\u00e1ficamente\", \"divisorio\", \"facilitar\", \"costa\", \"regi\\u00f3n\", \"a.\", \"mar\", \"melbourne\", \"pac\\u00edfico\", \"queensland\", \"s\\u00eddney\", \"taylor\", \"2014\", \"australiano\", \"\\u00e9poca\", \"zona\", \"urbano\", \"moret\\u00f3n\", \"cercano\", \"ubicar\", \"\\u2014en\", \"sobrar\", \"haber\", \"ser\", \"valencia\", \"sustentar\", \"romano\", \"dato\", \"ciencia\", \"fuente\", \"m\\u00e9dico\", \"social\", \"negociar\", \"datar\", \"s\\u00f3lo\", \"analizar\", \"alguno\", \"conjunto\", \"\\n\\n\", \"p\\u00e1gina\", \"big\", \"formato\", \"\\u00fanico\", \"m\\u00e9todo\", \"electr\\u00f3nico\", \"generar\", \"nacido\", \"diferenciar\", \"recomendaci\\u00f3n\", \"inmenso\", \"citar\", \"redar\", \"responsable\", \"scientist\", \"analista\", \"transmitir\", \"adem\\u00e1s\", \"investigaci\\u00f3n\", \"inform\\u00e1tico\", \"manera\", \"menudo\", \"significativo\", \"provenir\", \"m\\u00faltiple\", \"deber\", \"visi\\u00f3n\", \"fuerte\", \"comer\", \"poder\", \"tener\", \"ser\", \"parir\", \"conocer\", \"salud\", \"tipo\", \"eiffel\", \"estructurar\", \"300\", \"metro\", \"torrar\", \"tour\", \"franc\\u00e9s\", \"mundo\", \"ingeniero\", \"monumento\", \"arquitecto\", \"tardar\", \"324\", \"\\u00e9mile\", \"inicialmente\", \"visitar\", \"1889\", \"m\\u00e8tres\", \"41\", \"nouguier\", \"construir\", \"universal\", \"gustave\", \"maurice\", \"altura\", \"colaborador\", \"cobrar\", \"par\\u00eds.situada\", \"prolongar\", \"pudelar\", \"turista\", \"s\\u00edmbolo\", \"stephen\", \"sauvestre\", \"antena\", \"extremar\", \"exposici\\u00f3n\", \"aspecto\", \"elevar\", \"dotar\", \"dise\\u00f1ar\", \"definitivo\", \"francia\", \"koechlin\", \"parisino\", \"a\\u00f1o\", \"alexandre\", \"llamar\", \"ser\", \"entrar\", \"cada\", \"campar\", \"parir\", \"herrar\", \"alto\", \"re\\u00edr\", \"mill\\u00f3n\", \"capital\", \"orillar\", \"abogar\", \"mike\", \"seriar\", \"york\", \"decidir\", \"especie\", \"estudiar\", \"fotogr\\u00e1fico\", \"mejorar\", \"nadar\", \"ross\", \"tomar\", \"pupilo\", \"specter\", \"azarar\", \"contar\", \"destinar\", \"genio\", \"harvey\", \"ley\", \"maravillar\", \"memoria\", \"procedimental\", \"restar\", \"saber\", \"suits\", \"bufete\", \"d\\u00eda\", \"unir\", \"gracia\", \"sobrar\", \"despu\\u00e9s\", \"alejar\", \"historia\", \"encontrar\", \"gran\", \"quedarse\", \"\\u00faltimo\", \"destinar\", \"fotogr\\u00e1fico\", \"tomar\", \"york\", \"saber\", \"ross\", \"restar\", \"pupilo\", \"nadar\", \"memoria\", \"mejorar\", \"maravillar\", \"ley\", \"harvey\", \"specter\", \"genio\", \"estudiar\", \"decidir\", \"azarar\", \"contar\", \"suits\", \"d\\u00eda\", \"especie\", \"bufete\", \"procedimental\", \"definitivo\", \"nouguier\", \"tardar\", \"parisino\", \"universal\", \"construir\", \"aspecto\", \"antena\", \"sauvestre\", \"exposici\\u00f3n\", \"dise\\u00f1ar\", \"colaborador\", \"maurice\", \"s\\u00edmbolo\", \"stephen\", \"gustave\", \"cobrar\", \"1889\", \"dato\", \"ser\", \"tener\", \"comer\", \"trofeo\", \"valencia\", \"anterior\", \"haber\", \"nuevo\", \"ciencia\", \"copar\", \"siglo\", \"rey\", \"fuente\", \"barcelona\", \"parejo\", \"s\\u00f3lo\", \"manir\", \"poder\", \"parir\", \"empezar\", \"deber\", \"datar\", \"negociar\", \"campe\\u00f3n\", \"analizar\", \"final\\u00edsima\", \"social\", \"federaci\\u00f3n\", \"hacer\"], \"Total\": [4.0, 4.0, 2.0, 1.0, 3.0, 2.0, 2.0, 2.0, 2.0, 2.0, 2.0, 4.0, 2.0, 3.0, 6.0, 3.0, 1.0, 1.0, 3.0, 3.0, 2.0, 2.0, 1.0, 1.0, 1.0, 1.0, 1.0, 2.0, 2.0, 2.0, 3.398630142211914, 2.6789824962615967, 2.6789824962615967, 2.6789824962615967, 1.9593331813812256, 1.9593331813812256, 1.9593333005905151, 1.9593331813812256, 1.9593331813812256, 1.9593331813812256, 1.9593331813812256, 1.9593333005905151, 3.1245646476745605, 1.2396812438964844, 1.2396812438964844, 1.2396812438964844, 1.2396812438964844, 1.2396812438964844, 1.2396812438964844, 1.2396812438964844, 1.2396812438964844, 1.2396812438964844, 1.2396812438964844, 1.2396812438964844, 1.2396812438964844, 1.239681363105774, 1.239681363105774, 1.239681363105774, 1.239681363105774, 1.239681363105774, 4.587028503417969, 1.239681363105774, 1.239681363105774, 1.2396812438964844, 1.2396812438964844, 1.239681363105774, 1.239681363105774, 1.2396812438964844, 1.2396812438964844, 1.2396812438964844, 1.2396812438964844, 1.239681363105774, 3.891937732696533, 3.9565792083740234, 1.2396812438964844, 1.239681363105774, 2.565802812576294, 1.2396812438964844, 1.239681363105774, 1.2396812438964844, 1.239681363105774, 13.944352149963379, 3.617868423461914, 3.8188514709472656, 6.200948238372803, 1.2396811246871948, 1.2396812438964844, 1.2396812438964844, 1.9108079671859741, 3.204636573791504, 1.862338900566101, 1.862338900566101, 1.8623390197753906, 1.8623391389846802, 1.8623391389846802, 1.8623391389846802, 1.1911875009536743, 1.1911875009536743, 1.1911873817443848, 1.1911875009536743, 1.1911875009536743, 1.1911875009536743, 1.1911875009536743, 1.1911875009536743, 1.1911875009536743, 1.1911875009536743, 1.1911875009536743, 1.1911875009536743, 1.1911875009536743, 1.1911875009536743, 1.1911875009536743, 1.1911875009536743, 1.1911875009536743, 1.1911875009536743, 1.1911875009536743, 1.1911875009536743, 1.1911875009536743, 1.1911877393722534, 1.1911877393722534, 1.1911876201629639, 1.1911877393722534, 1.1911877393722534, 1.1911876201629639, 1.1911876201629639, 2.442087411880493, 13.944352149963379, 1.1911877393722534, 1.1911877393722534, 1.1911876201629639, 1.1911877393722534, 1.1911876201629639, 6.200948238372803, 1.191187858581543, 1.191187858581543, 1.191187858581543, 1.1911876201629639, 1.1911876201629639, 1.1911876201629639, 1.1911877393722534, 1.1911876201629639, 1.1911876201629639, 1.1911876201629639, 1.1911876201629639, 1.1911876201629639, 1.1911877393722534, 1.191187858581543, 1.1911876201629639, 1.1911876201629639, 1.1911877393722534, 1.1911877393722534, 1.9108071327209473, 1.9108072519302368, 2.490551471710205, 1.797655701637268, 1.9108078479766846, 1.9108080863952637, 1.9108078479766846, 4.132216453552246, 1.7330154180526733, 1.7330154180526733, 1.7330154180526733, 1.7330150604248047, 1.1265287399291992, 1.1265287399291992, 1.1265287399291992, 1.1265287399291992, 1.1265287399291992, 1.1265287399291992, 1.1265287399291992, 1.1265287399291992, 1.1265287399291992, 1.1265287399291992, 1.1265287399291992, 1.1265287399291992, 1.1265287399291992, 1.1265287399291992, 1.1265288591384888, 1.1265288591384888, 1.1265288591384888, 1.1265286207199097, 1.1265286207199097, 1.1265288591384888, 1.1265288591384888, 1.1265288591384888, 1.1265288591384888, 1.1265288591384888, 1.1265288591384888, 1.1265288591384888, 1.1265288591384888, 1.1265286207199097, 1.1265286207199097, 1.1265286207199097, 1.1265288591384888, 1.1265288591384888, 1.1265288591384888, 1.1265288591384888, 2.898200035095215, 3.617868423461914, 13.944352149963379, 3.891937732696533, 1.1265286207199097, 1.7976553440093994, 4.679490089416504, 2.302666425704956, 2.3026669025421143, 1.7084600925445557, 1.7084599733352661, 1.7084599733352661, 1.7084599733352661, 1.7084599733352661, 1.7084600925445557, 1.114251732826233, 1.114251732826233, 1.114251732826233, 1.114251732826233, 1.114251732826233, 1.114251732826233, 1.114251732826233, 1.114251732826233, 1.114251732826233, 1.114251732826233, 1.114251732826233, 1.1142518520355225, 1.114251732826233, 1.1142518520355225, 1.114251732826233, 1.114251732826233, 1.1142518520355225, 1.114251732826233, 1.114251732826233, 1.1142518520355225, 1.114251732826233, 1.114251732826233, 1.1142518520355225, 1.1142518520355225, 1.114251732826233, 1.114251732826233, 1.114251732826233, 1.114251732826233, 2.379584312438965, 1.114251732826233, 1.1142516136169434, 6.200948238372803, 3.8188514709472656, 4.587028503417969, 13.944352149963379, 3.691211462020874, 1.785377860069275, 1.7853782176971436, 1.785378098487854, 2.8390984535217285, 2.259335994720459, 2.259335994720459, 2.259335994720459, 2.25933575630188, 1.6795734167099, 1.6795734167099, 1.6795732975006104, 1.6795732975006104, 1.6795734167099, 1.099808931350708, 1.099808931350708, 1.099808931350708, 1.099808931350708, 1.099808931350708, 1.099808931350708, 1.099808931350708, 1.0998090505599976, 1.0998088121414185, 1.099808931350708, 1.099808931350708, 1.099808931350708, 1.099808931350708, 1.099808931350708, 1.099808931350708, 1.099808931350708, 1.099808931350708, 1.099808931350708, 1.099808931350708, 1.099808931350708, 1.099808931350708, 1.099808931350708, 1.099808931350708, 1.0998090505599976, 1.099808931350708, 1.0998090505599976, 1.0998090505599976, 1.099808931350708, 1.099808931350708, 1.0998090505599976, 1.0998090505599976, 1.099808931350708, 1.0998090505599976, 1.099808931350708, 1.099808931350708, 2.399190664291382, 1.099808931350708, 1.099808931350708, 13.944352149963379, 2.490551471710205, 1.8194255828857422, 1.8194258213043213, 3.691211462020874, 1.7709347009658813, 1.706276535987854, 1.706276774406433, 1.7062764167785645, 1.706276535987854, 1.7062766551971436, 1.856816291809082, 1.4112284183502197, 1.4112284183502197, 0.9656399488449097, 0.9656399488449097, 0.9656399488449097, 0.9656399488449097, 0.9656399488449097, 0.9656399488449097, 0.9656399488449097, 0.9656399488449097, 0.9656399488449097, 0.9656399488449097, 0.9656400084495544, 0.9656399488449097, 0.9656399488449097, 0.9656399488449097, 0.9656399488449097, 0.9656400084495544, 0.9656399488449097, 0.9656400084495544, 0.9656400084495544, 0.9656400680541992, 0.9656399488449097, 0.9656399488449097, 0.9656399488449097, 0.9656400680541992, 0.9656399488449097, 2.737283706665039, 1.572105884552002, 2.898200035095215, 2.243230104446411, 1.6367638111114502, 1.572105884552002, 1.5721064805984497, 1.5721064805984497, 1.6852580308914185, 1.685257911682129, 0.9656399488449097, 0.9656399488449097, 0.9656399488449097, 0.9656399488449097, 0.9656399488449097, 0.9656399488449097, 0.9656399488449097, 0.9656399488449097, 0.9656399488449097, 0.9656400084495544, 0.9656399488449097, 0.9656400084495544, 0.9656399488449097, 0.9656400084495544, 0.9656400084495544, 0.9656399488449097, 0.9656399488449097, 0.9656399488449097, 0.9656399488449097, 0.9656399488449097, 0.9656399488449097, 0.9656399488449097, 0.9656399488449097, 0.9656400680541992, 0.9656400680541992, 1.099808931350708, 1.099808931350708, 1.099808931350708, 1.099808931350708, 1.099808931350708, 1.099808931350708, 1.099808931350708, 1.099808931350708, 1.0998090505599976, 1.0998090505599976, 1.0998090505599976, 1.099808931350708, 1.099808931350708, 1.099808931350708, 1.099808931350708, 1.099808931350708, 1.099808931350708, 1.099808931350708, 4.679490089416504, 13.944352149963379, 4.587028503417969, 6.200948238372803, 3.398630142211914, 3.891937732696533, 2.565802812576294, 3.617868423461914, 3.1245646476745605, 2.302666425704956, 1.9593331813812256, 1.84614896774292, 2.6789824962615967, 2.3026669025421143, 1.9593331813812256, 2.6789824962615967, 1.7084599733352661, 1.9593331813812256, 3.8188514709472656, 3.691211462020874, 1.2396811246871948, 2.379584312438965, 1.7084599733352661, 1.7084599733352661, 1.9593333005905151, 1.7084600925445557, 1.2396812438964844, 1.7084599733352661, 1.2396811246871948, 1.9593331813812256], \"loglift\": [30.0, 29.0, 28.0, 27.0, 26.0, 25.0, 24.0, 23.0, 22.0, 21.0, 20.0, 19.0, 18.0, 17.0, 16.0, 15.0, 14.0, 13.0, 12.0, 11.0, 10.0, 9.0, 8.0, 7.0, 6.0, 5.0, 4.0, 3.0, 2.0, 1.0, 1.1928999423980713, 1.1546000242233276, 1.1546000242233276, 1.1546000242233276, 1.0844000577926636, 1.0844000577926636, 1.0844000577926636, 1.0844000577926636, 1.0844000577926636, 1.0844000577926636, 1.0844000577926636, 1.0844000577926636, 1.0006999969482422, 0.9135000109672546, 0.9135000109672546, 0.9135000109672546, 0.9135000109672546, 0.9135000109672546, 0.9135000109672546, 0.9135000109672546, 0.9135000109672546, 0.9135000109672546, 0.9135000109672546, 0.9135000109672546, 0.9135000109672546, 0.9135000109672546, 0.9135000109672546, 0.9135000109672546, 0.9135000109672546, 0.9135000109672546, 0.8930000066757202, 0.9135000109672546, 0.9135000109672546, 0.9135000109672546, 0.9135000109672546, 0.9135000109672546, 0.9135000109672546, 0.9135000109672546, 0.9135000109672546, 0.9135000109672546, 0.9135000109672546, 0.9135000109672546, 0.7810999751091003, 0.7645999789237976, 0.9135000109672546, 0.9135000109672546, 0.8147000074386597, 0.9135000109672546, 0.9135000109672546, 0.9135000109672546, 0.9135000109672546, -0.0026000000070780516, 0.47110000252723694, 0.4169999957084656, -0.06769999861717224, 0.9135000109672546, 0.9135000109672546, 0.9135000109672546, 0.48089998960494995, 1.4271999597549438, 1.3107000589370728, 1.3107000589370728, 1.3107000589370728, 1.3107000589370728, 1.3107000589370728, 1.3107000589370728, 1.1289000511169434, 1.1289000511169434, 1.1289000511169434, 1.1289000511169434, 1.1289000511169434, 1.1289000511169434, 1.1289000511169434, 1.1289000511169434, 1.1289000511169434, 1.1289000511169434, 1.1289000511169434, 1.1289000511169434, 1.1289000511169434, 1.1289000511169434, 1.1289000511169434, 1.1289000511169434, 1.1289000511169434, 1.1289000511169434, 1.1289000511169434, 1.1289000511169434, 1.1289000511169434, 1.1289000511169434, 1.1289000511169434, 1.1289000511169434, 1.1289000511169434, 1.1289000511169434, 1.1289000511169434, 1.1289000511169434, 1.0397000312805176, 0.350600004196167, 1.1289000511169434, 1.1289000511169434, 1.1289000511169434, 1.1289000511169434, 1.1289000511169434, 0.49079999327659607, 1.1289000511169434, 1.1289000511169434, 1.1289000511169434, 1.1289000511169434, 1.1289000511169434, 1.1289000511169434, 1.1289000511169434, 1.1289000511169434, 1.1289000511169434, 1.1289000511169434, 1.1289000511169434, 1.1289000511169434, 1.1289000511169434, 1.1289000511169434, 1.1289000511169434, 1.1289000511169434, 1.1289000511169434, 1.1289000511169434, 0.6564000248908997, 0.6564000248908997, 0.391400009393692, 0.7174000144004822, 0.6564000248908997, 0.6564000248908997, 0.6564000248908997, 1.5687999725341797, 1.5622999668121338, 1.5622999668121338, 1.5622999668121338, 1.5622999668121338, 1.364400029182434, 1.364400029182434, 1.364400029182434, 1.364400029182434, 1.364400029182434, 1.364400029182434, 1.364400029182434, 1.364400029182434, 1.364400029182434, 1.364400029182434, 1.364400029182434, 1.364400029182434, 1.364400029182434, 1.364400029182434, 1.364400029182434, 1.364400029182434, 1.364400029182434, 1.364400029182434, 1.364400029182434, 1.364400029182434, 1.364400029182434, 1.364400029182434, 1.364400029182434, 1.364400029182434, 1.364400029182434, 1.364400029182434, 1.364400029182434, 1.364400029182434, 1.364400029182434, 1.364400029182434, 1.364400029182434, 1.364400029182434, 1.364400029182434, 1.364400029182434, 1.0480999946594238, 0.8263000249862671, 0.1363999992609024, 0.7533000111579895, 1.364400029182434, 0.8970999717712402, 1.8200000524520874, 1.7080999612808228, 1.7080999612808228, 1.6236000061035156, 1.6236000061035156, 1.6236000061035156, 1.6236000061035156, 1.6236000061035156, 1.6236000061035156, 1.4223999977111816, 1.4223999977111816, 1.4223999977111816, 1.4223999977111816, 1.4223999977111816, 1.4223999977111816, 1.4223999977111816, 1.4223999977111816, 1.4223999977111816, 1.4223999977111816, 1.4223999977111816, 1.4223999977111816, 1.4223999977111816, 1.4223999977111816, 1.4223999977111816, 1.4223999977111816, 1.4223999977111816, 1.4223999977111816, 1.4223999977111816, 1.4223999977111816, 1.4223999977111816, 1.4223999977111816, 1.4223999977111816, 1.4223999977111816, 1.4223999977111816, 1.4223999977111816, 1.4223999977111816, 1.4223999977111816, 1.2922999858856201, 1.4223999977111816, 1.4223999977111816, 0.7174999713897705, 0.8192999958992004, 0.6359999775886536, -0.47589999437332153, 0.22460000216960907, 0.9509000182151794, 0.9509000182151794, 0.9509000182151794, 1.8099000453948975, 1.7620999813079834, 1.7620999813079834, 1.7620999813079834, 1.7620999813079834, 1.6756000518798828, 1.6756000518798828, 1.6756000518798828, 1.6756000518798828, 1.6756000518798828, 1.4703999757766724, 1.4703999757766724, 1.4703999757766724, 1.4703999757766724, 1.4703999757766724, 1.4703999757766724, 1.4703999757766724, 1.4703999757766724, 1.4703999757766724, 1.4703999757766724, 1.4703999757766724, 1.4703999757766724, 1.4703999757766724, 1.4703999757766724, 1.4703999757766724, 1.4703999757766724, 1.4703999757766724, 1.4703999757766724, 1.4703999757766724, 1.4703999757766724, 1.4703999757766724, 1.4703999757766724, 1.4703999757766724, 1.4703999757766724, 1.4703999757766724, 1.4703999757766724, 1.4703999757766724, 1.4703999757766724, 1.4703999757766724, 1.4703999757766724, 1.4703999757766724, 1.4703999757766724, 1.4703999757766724, 1.4703999757766724, 1.4703999757766724, 1.319000005722046, 1.4703999757766724, 1.4703999757766724, -0.05790000036358833, 0.6531000137329102, 0.9670000076293945, 0.9670000076293945, 0.2596000134944916, 0.9940000176429749, 1.0312000513076782, 1.0312000513076782, 1.0312000513076782, 1.0312000513076782, 1.0312000513076782, 2.2355000972747803, 2.1268999576568604, 2.1268999576568604, 1.8776999711990356, 1.8776999711990356, 1.8776999711990356, 1.8776999711990356, 1.8776999711990356, 1.8776999711990356, 1.8776999711990356, 1.8776999711990356, 1.8776999711990356, 1.8776999711990356, 1.8776999711990356, 1.8776999711990356, 1.8776999711990356, 1.8776999711990356, 1.8776999711990356, 1.8776999711990356, 1.8776999711990356, 1.8776999711990356, 1.8776999711990356, 1.8776999711990356, 1.8776999711990356, 1.8776999711990356, 1.8776999711990356, 1.8776999711990356, 1.8776999711990356, 1.4644999504089355, 1.3904000520706177, 0.7786999940872192, 1.0348999500274658, 1.350100040435791, 1.3904000520706177, 1.3904000520706177, 1.3904000520706177, 1.3208999633789062, 1.3208999633789062, 0.38100001215934753, 0.38100001215934753, 0.38100001215934753, 0.38100001215934753, 0.38100001215934753, 0.38100001215934753, 0.38100001215934753, 0.38100001215934753, 0.38100001215934753, 0.38100001215934753, 0.38100001215934753, 0.38100001215934753, 0.38100001215934753, 0.38100001215934753, 0.38100001215934753, 0.38100001215934753, 0.38100001215934753, 0.38100001215934753, 0.38100001215934753, 0.38100001215934753, 0.38100001215934753, 0.38100001215934753, 0.38100001215934753, 0.38100001215934753, 0.38100001215934753, 0.250900000333786, 0.250900000333786, 0.250900000333786, 0.250900000333786, 0.250900000333786, 0.250900000333786, 0.250900000333786, 0.250900000333786, 0.250900000333786, 0.250900000333786, 0.250900000333786, 0.250900000333786, 0.250900000333786, 0.250900000333786, 0.250900000333786, 0.250900000333786, 0.250900000333786, 0.250900000333786, -1.197100043296814, -2.2890000343322754, -1.1771999597549438, -1.478700041770935, -0.8773000240325928, -1.0128999948501587, -0.5961999893188477, -0.9398000240325928, -0.7932000160217285, -0.4880000054836273, -0.32659998536109924, -0.2671000063419342, -0.6394000053405762, -0.4880000054836273, -0.32659998536109924, -0.6394000053405762, -0.18950000405311584, -0.32659998536109924, -0.9939000010490417, -0.9599000215530396, 0.13120000064373016, -0.5209000110626221, -0.18950000405311584, -0.18950000405311584, -0.32659998536109924, -0.18950000405311584, 0.13120000064373016, -0.18950000405311584, 0.13120000064373016, -0.32659998536109924], \"logprob\": [30.0, 29.0, 28.0, 27.0, 26.0, 25.0, 24.0, 23.0, 22.0, 21.0, 20.0, 19.0, 18.0, 17.0, 16.0, 15.0, 14.0, 13.0, 12.0, 11.0, 10.0, 9.0, 8.0, 7.0, 6.0, 5.0, 4.0, 3.0, 2.0, 1.0, -3.9605000019073486, -4.236700057983398, -4.236700057983398, -4.236700057983398, -4.619699954986572, -4.619699954986572, -4.619699954986572, -4.619699954986572, -4.619699954986572, -4.619699954986572, -4.619699954986572, -4.619699954986572, -4.236700057983398, -5.248300075531006, -5.248300075531006, -5.248300075531006, -5.248300075531006, -5.248300075531006, -5.248300075531006, -5.248300075531006, -5.248300075531006, -5.248300075531006, -5.248300075531006, -5.248300075531006, -5.248300075531006, -5.248300075531006, -5.248300075531006, -5.248300075531006, -5.248300075531006, -5.248300075531006, -3.9605000019073486, -5.248300075531006, -5.248300075531006, -5.248300075531006, -5.248300075531006, -5.248300075531006, -5.248300075531006, -5.248300075531006, -5.248300075531006, -5.248300075531006, -5.248300075531006, -5.248300075531006, -4.236700057983398, -4.236700057983398, -5.248300075531006, -5.248300075531006, -4.619699954986572, -5.248300075531006, -5.248300075531006, -5.248300075531006, -5.248300075531006, -3.74429988861084, -4.619699954986572, -4.619699954986572, -4.619699954986572, -5.248300075531006, -5.248300075531006, -5.248300075531006, -5.248300075531006, -3.7850000858306885, -4.444200038909912, -4.444200038909912, -4.444200038909912, -4.444200038909912, -4.444200038909912, -4.444200038909912, -5.072800159454346, -5.072800159454346, -5.072800159454346, -5.072800159454346, -5.072800159454346, -5.072800159454346, -5.072800159454346, -5.072800159454346, -5.072800159454346, -5.072800159454346, -5.072800159454346, -5.072800159454346, -5.072800159454346, -5.072800159454346, -5.072800159454346, -5.072800159454346, -5.072800159454346, -5.072800159454346, -5.072800159454346, -5.072800159454346, -5.072800159454346, -5.072800159454346, -5.072800159454346, -5.072800159454346, -5.072800159454346, -5.072800159454346, -5.072800159454346, -5.072800159454346, -4.444200038909912, -3.3910000324249268, -5.072800159454346, -5.072800159454346, -5.072800159454346, -5.072800159454346, -5.072800159454346, -4.061200141906738, -5.072800159454346, -5.072800159454346, -5.072800159454346, -5.072800159454346, -5.072800159454346, -5.072800159454346, -5.072800159454346, -5.072800159454346, -5.072800159454346, -5.072800159454346, -5.072800159454346, -5.072800159454346, -5.072800159454346, -5.072800159454346, -5.072800159454346, -5.072800159454346, -5.072800159454346, -5.072800159454346, -5.072800159454346, -5.072800159454346, -5.072800159454346, -5.072800159454346, -5.072800159454346, -5.072800159454346, -5.072800159454346, -3.3891000747680664, -4.264599800109863, -4.264599800109863, -4.264599800109863, -4.264599800109863, -4.893199920654297, -4.893199920654297, -4.893199920654297, -4.893199920654297, -4.893199920654297, -4.893199920654297, -4.893199920654297, -4.893199920654297, -4.893199920654297, -4.893199920654297, -4.893199920654297, -4.893199920654297, -4.893199920654297, -4.893199920654297, -4.893199920654297, -4.893199920654297, -4.893199920654297, -4.893199920654297, -4.893199920654297, -4.893199920654297, -4.893199920654297, -4.893199920654297, -4.893199920654297, -4.893199920654297, -4.893199920654297, -4.893199920654297, -4.893199920654297, -4.893199920654297, -4.893199920654297, -4.893199920654297, -4.893199920654297, -4.893199920654297, -4.893199920654297, -4.893199920654297, -4.264500141143799, -4.264599800109863, -3.605299949645996, -4.264599800109863, -4.893199920654297, -4.893199920654297, -3.0136001110076904, -3.8345999717712402, -3.8345999717712402, -4.21750020980835, -4.21750020980835, -4.21750020980835, -4.21750020980835, -4.21750020980835, -4.21750020980835, -4.846199989318848, -4.846199989318848, -4.846199989318848, -4.846199989318848, -4.846199989318848, -4.846199989318848, -4.846199989318848, -4.846199989318848, -4.846199989318848, -4.846199989318848, -4.846199989318848, -4.846199989318848, -4.846199989318848, -4.846199989318848, -4.846199989318848, -4.846199989318848, -4.846199989318848, -4.846199989318848, -4.846199989318848, -4.846199989318848, -4.846199989318848, -4.846199989318848, -4.846199989318848, -4.846199989318848, -4.846199989318848, -4.846199989318848, -4.846199989318848, -4.846199989318848, -4.21750020980835, -4.846199989318848, -4.846199989318848, -3.8345000743865967, -4.21750020980835, -4.21750020980835, -4.217599868774414, -4.846199989318848, -4.846199989318848, -4.846199989318848, -4.846199989318848, -3.5232999324798584, -3.7995998859405518, -3.7995998859405518, -3.7995998859405518, -3.7995998859405518, -4.182600021362305, -4.182600021362305, -4.182600021362305, -4.182600021362305, -4.182600021362305, -4.811200141906738, -4.811200141906738, -4.811200141906738, -4.811200141906738, -4.811200141906738, -4.811200141906738, -4.811200141906738, -4.811200141906738, -4.811200141906738, -4.811200141906738, -4.811200141906738, -4.811200141906738, -4.811200141906738, -4.811200141906738, -4.811200141906738, -4.811200141906738, -4.811200141906738, -4.811200141906738, -4.811200141906738, -4.811200141906738, -4.811200141906738, -4.811200141906738, -4.811200141906738, -4.811200141906738, -4.811200141906738, -4.811200141906738, -4.811200141906738, -4.811200141906738, -4.811200141906738, -4.811200141906738, -4.811200141906738, -4.811200141906738, -4.811200141906738, -4.811200141906738, -4.811200141906738, -4.182499885559082, -4.811200141906738, -4.811200141906738, -3.799499988555908, -4.811200141906738, -4.811200141906738, -4.811200141906738, -4.811200141906738, -4.811200141906738, -4.811200141906738, -4.811200141906738, -4.811200141906738, -4.811200141906738, -4.811200141906738, -3.5223000049591064, -3.9052999019622803, -3.9052999019622803, -4.533999919891357, -4.533999919891357, -4.533999919891357, -4.533999919891357, -4.533999919891357, -4.533999919891357, -4.533999919891357, -4.533999919891357, -4.533999919891357, -4.533999919891357, -4.533999919891357, -4.533999919891357, -4.533999919891357, -4.533999919891357, -4.533999919891357, -4.533999919891357, -4.533999919891357, -4.533999919891357, -4.533999919891357, -4.533999919891357, -4.533999919891357, -4.533999919891357, -4.533999919891357, -4.533999919891357, -4.533999919891357, -3.9052999019622803, -4.533899784088135, -4.533899784088135, -4.533899784088135, -4.533899784088135, -4.533899784088135, -4.533899784088135, -4.533899784088135, -4.533899784088135, -4.533899784088135, -6.030700206756592, -6.030700206756592, -6.030700206756592, -6.030700206756592, -6.030700206756592, -6.030700206756592, -6.030700206756592, -6.030700206756592, -6.030700206756592, -6.030700206756592, -6.030700206756592, -6.030700206756592, -6.030700206756592, -6.030700206756592, -6.030700206756592, -6.030700206756592, -6.030700206756592, -6.030700206756592, -6.030700206756592, -6.030700206756592, -6.030700206756592, -6.030700206756592, -6.030700206756592, -6.030700206756592, -6.030700206756592, -6.030700206756592, -6.030700206756592, -6.030700206756592, -6.030700206756592, -6.030700206756592, -6.030700206756592, -6.030700206756592, -6.030700206756592, -6.030700206756592, -6.030700206756592, -6.030700206756592, -6.030700206756592, -6.030700206756592, -6.030700206756592, -6.030700206756592, -6.030700206756592, -6.030700206756592, -6.030700206756592, -6.030700206756592, -6.030700206756592, -6.030700206756592, -6.030700206756592, -6.030700206756592, -6.030700206756592, -6.030700206756592, -6.030700206756592, -6.030700206756592, -6.030700206756592, -6.030700206756592, -6.030700206756592, -6.030700206756592, -6.030700206756592, -6.030700206756592, -6.030700206756592, -6.030700206756592, -6.030700206756592, -6.030700206756592, -6.030700206756592, -6.030700206756592, -6.030700206756592, -6.030700206756592, -6.030700206756592, -6.030700206756592, -6.030700206756592, -6.030700206756592, -6.030700206756592, -6.030700206756592, -6.030700206756592]}, \"token.table\": {\"Topic\": [4, 5, 1, 3, 1, 5, 5, 5, 3, 6, 4, 2, 6, 5, 4, 3, 5, 5, 4, 4, 5, 1, 3, 2, 2, 2, 5, 5, 2, 3, 6, 1, 5, 3, 1, 3, 4, 3, 6, 1, 5, 1, 5, 1, 3, 5, 1, 2, 2, 2, 2, 3, 4, 4, 3, 5, 5, 1, 1, 5, 1, 2, 4, 6, 3, 2, 4, 2, 4, 5, 6, 1, 3, 3, 3, 2, 1, 2, 1, 4, 4, 2, 4, 6, 1, 5, 2, 2, 3, 6, 1, 2, 6, 1, 4, 2, 5, 1, 2, 1, 3, 2, 1, 2, 3, 5, 3, 6, 5, 4, 5, 1, 1, 3, 6, 3, 1, 2, 5, 1, 1, 6, 1, 5, 6, 5, 5, 3, 1, 1, 1, 1, 1, 2, 4, 6, 5, 5, 2, 4, 4, 3, 1, 1, 4, 6, 3, 3, 6, 3, 6, 2, 2, 5, 1, 3, 6, 3, 1, 6, 2, 2, 5, 3, 6, 2, 3, 2, 3, 1, 4, 5, 5, 4, 2, 4, 2, 1, 5, 6, 5, 1, 4, 1, 3, 6, 2, 5, 5, 6, 3, 6, 4, 2, 5, 6, 3, 5, 2, 5, 3, 5, 5, 4, 4, 4, 4, 6, 4, 1, 2, 5, 1, 6, 1, 3, 2, 3, 5, 3, 1, 1, 2, 3, 4, 5, 5, 5, 1, 3, 1, 2, 2, 1, 2, 2, 3, 1, 2, 4, 2, 2, 1, 2, 1, 6, 2, 5, 1, 2, 2, 4, 5, 6, 4, 1, 6, 3, 1, 1, 2, 2, 2, 4, 1, 4, 1, 3, 2, 4, 6, 1, 3, 5, 1, 2, 2, 2, 2, 2, 3, 6, 6, 2, 4, 2, 2, 5, 4, 2, 2, 1, 2, 3, 4, 5, 6, 6, 1, 1, 3, 4, 2, 2, 1, 2, 1, 3, 6, 4, 2, 2, 6, 5, 6, 2, 3, 3, 3, 5, 4, 1, 5, 3, 2, 1, 2, 1, 4, 3, 2, 4, 6, 1, 5, 5, 1, 4, 1, 1, 3, 5, 2, 3, 1, 3, 6, 5, 3, 2, 1, 3, 2, 1, 2, 2, 1, 5, 4, 6, 3, 5, 3, 2, 1, 6, 4, 3], \"Freq\": [0.8974632620811462, 0.9092488288879395, 0.806658923625946, 0.8876825571060181, 0.806658923625946, 0.8852158188819885, 0.9092488288879395, 0.909248948097229, 0.8876827359199524, 0.5385562181472778, 0.8974632620811462, 0.6109616756439209, 0.6109616756439209, 0.9092488288879395, 0.8974632620811462, 0.5860714912414551, 0.5860714912414551, 0.9092488288879395, 0.8974632620811462, 0.5853224396705627, 0.9092488288879395, 0.7794831395149231, 0.38974156975746155, 0.8394984006881714, 0.8394983410835266, 0.8394981622695923, 0.9092488288879395, 0.9092488288879395, 0.8394984006881714, 0.8876825571060181, 1.0355826616287231, 0.41680723428726196, 0.41680723428726196, 0.8876826167106628, 1.020755410194397, 0.8876826167106628, 0.8974632620811462, 0.8876826167106628, 1.0355825424194336, 0.5496240258216858, 0.5496240258216858, 0.549623966217041, 0.549623966217041, 1.020755410194397, 0.5860714912414551, 0.5860714912414551, 0.806658923625946, 0.8394982218742371, 0.8394983410835266, 0.8394982218742371, 0.8394982218742371, 0.8876825571060181, 0.8685582876205444, 0.8974632620811462, 0.7260026335716248, 0.24200087785720825, 0.9092488288879395, 0.8066589832305908, 0.8066589832305908, 0.9092488288879395, 0.3225313127040863, 0.3225313127040863, 0.3225313127040863, 0.16126565635204315, 0.8876826167106628, 0.8394984006881714, 0.8974632620811462, 0.5601055026054382, 0.5601055026054382, 0.9092488288879395, 1.0355826616287231, 1.020755410194397, 0.8876826167106628, 0.5770289301872253, 0.8876825571060181, 0.8394982218742371, 0.5233388543128967, 0.5233388543128967, 0.8066589832305908, 0.5853224396705627, 0.8547939658164978, 0.42024147510528564, 0.42024147510528564, 1.0355826616287231, 0.8066589832305908, 0.9092488288879395, 0.8394984006881714, 0.4457857310771942, 0.4457857310771942, 0.4457857310771942, 0.5233388543128967, 0.5233388543128967, 1.0355826616287231, 0.8066589832305908, 0.8974631428718567, 0.8394984006881714, 0.9092487692832947, 0.523339033126831, 0.523339033126831, 1.020755410194397, 0.8876825571060181, 0.8394984006881714, 0.5054871439933777, 0.25274357199668884, 0.25274357199668884, 0.9092487692832947, 0.8876826167106628, 1.0355826616287231, 0.7044489979743958, 0.8974632620811462, 0.9092488288879395, 0.8066590428352356, 0.8066589832305908, 0.6360892057418823, 0.6360892057418823, 0.8876826167106628, 0.40151751041412354, 0.40151751041412354, 0.40151751041412354, 0.8066589832305908, 0.8066589832305908, 1.0355826616287231, 0.8066589832305908, 0.8852158188819885, 1.0355826616287231, 0.9092487692832947, 0.9092487692832947, 0.8876825571060181, 0.8066590428352356, 0.806658923625946, 0.8066589832305908, 0.8066589832305908, 0.8066589832305908, 0.5369591116905212, 0.8974632620811462, 1.0355826616287231, 0.9092487692832947, 0.5953892469406128, 0.5369591116905212, 0.8685581088066101, 0.8974633812904358, 0.5770290493965149, 0.8066589832305908, 1.020755410194397, 0.8974632620811462, 1.0355826616287231, 0.8876826167106628, 0.6360894441604614, 0.6360894441604614, 0.6360892057418823, 0.6360892057418823, 0.8394983410835266, 0.8394984006881714, 0.9092488288879395, 0.5528116822242737, 0.27640584111213684, 0.27640584111213684, 0.8876826167106628, 1.020755410194397, 1.0355826616287231, 0.8394981622695923, 0.5646735429763794, 0.5646735429763794, 0.6360894441604614, 0.6360894441604614, 0.8394984006881714, 0.8876826167106628, 0.5562800765037537, 0.5562800765037537, 0.8066589832305908, 0.8974631428718567, 0.5953893065452576, 0.9092488288879395, 0.8974631428718567, 0.8394984006881714, 0.8974632620811462, 0.8394984602928162, 0.7465521097183228, 0.9092488288879395, 1.0355826616287231, 0.9092488288879395, 0.806658923625946, 0.8974631428718567, 1.020755410194397, 0.8876825571060181, 1.0355826616287231, 0.40948575735092163, 0.40948575735092163, 0.9092488288879395, 1.0355826616287231, 0.8876825571060181, 1.0355826616287231, 0.8974632620811462, 0.8394984006881714, 0.8852158188819885, 0.7086024880409241, 0.5860714912414551, 0.5860714912414551, 0.536959171295166, 0.5953892469406128, 0.8876825571060181, 0.5953893065452576, 0.9092487692832947, 0.5853224396705627, 0.8974632620811462, 0.8974632620811462, 0.8974632620811462, 1.0355826616287231, 0.5853224396705627, 0.8066589832305908, 0.8394983410835266, 0.9092488288879395, 0.6400891542434692, 0.3200445771217346, 0.8066589832305908, 0.8876826167106628, 0.8394984006881714, 0.5860714316368103, 0.5860714316368103, 0.8876825571060181, 0.7465521097183228, 0.2709137797355652, 0.2709137797355652, 0.2709137797355652, 0.2709137797355652, 0.2709137797355652, 0.9092488288879395, 0.9092488288879395, 0.806658923625946, 0.8876826167106628, 0.8066589832305908, 0.536959171295166, 0.8394983410835266, 0.8066589832305908, 0.9361435770988464, 0.8394983410835266, 0.5770289301872253, 0.5237176418304443, 0.26185882091522217, 0.26185882091522217, 0.8394984006881714, 0.8394983410835266, 0.806658923625946, 0.8394982218742371, 0.8066589832305908, 1.0355825424194336, 0.8394981622695923, 0.9092488288879395, 0.5233388543128967, 0.5233388543128967, 0.8394982218742371, 0.8974632620811462, 0.9092488288879395, 1.0355826616287231, 0.8974632620811462, 0.5933809280395508, 0.5933809280395508, 0.8876825571060181, 0.8066589832305908, 0.806658923625946, 0.5369591116905212, 0.8394984006881714, 0.8394983410835266, 0.8974632620811462, 1.020755410194397, 0.8974632620811462, 0.806658923625946, 0.8876827359199524, 0.8394983410835266, 0.8974631428718567, 1.0355826616287231, 0.7465521097183228, 0.5860713720321655, 0.5860713720321655, 0.8066589832305908, 0.8394983410835266, 0.8394983410835266, 0.8394984006881714, 0.8394984006881714, 0.5562801361083984, 0.5562801361083984, 1.0355826616287231, 1.0355826616287231, 0.5601053833961487, 0.5601053833961487, 0.8394983410835266, 0.8394984006881714, 0.9092487692832947, 0.8974632620811462, 0.8394982218742371, 0.8394984006881714, 0.28685447573661804, 0.28685447573661804, 0.21514086425304413, 0.07171361893415451, 0.14342723786830902, 0.07171361893415451, 0.7086024880409241, 0.806658923625946, 0.5416681170463562, 0.5416681170463562, 0.8974632620811462, 0.8394983410835266, 0.8394982218742371, 0.523339033126831, 0.523339033126831, 0.34504175186157227, 0.34504175186157227, 0.34504175186157227, 0.5853224396705627, 0.536959171295166, 0.8394983410835266, 1.0355826616287231, 0.9092488288879395, 1.0355826616287231, 0.8394984006881714, 0.5770289301872253, 0.8876827359199524, 0.8876825571060181, 0.9092488288879395, 0.5853224396705627, 0.806658923625946, 0.9092488288879395, 0.8876825571060181, 0.8394984006881714, 0.523338794708252, 0.523338794708252, 0.6540181636810303, 0.21800605952739716, 0.8876826167106628, 0.5601054430007935, 0.5601054430007935, 1.0355826616287231, 0.806658923625946, 0.8852159380912781, 0.5953892469406128, 0.8066589832305908, 0.8974631428718567, 0.806658923625946, 0.8827086091041565, 0.8876826167106628, 0.9092488288879395, 0.8394982218742371, 0.8876825571060181, 0.3653256595134735, 0.3653256595134735, 0.3653256595134735, 0.9092488288879395, 0.8876827359199524, 0.8394982218742371, 0.5138828158378601, 0.25694140791893005, 0.8394983410835266, 0.8066589832305908, 0.8394982218742371, 0.8394981622695923, 0.8066589832305908, 0.9092488288879395, 0.8974632620811462, 1.0355826616287231, 0.8876827359199524, 0.9092488288879395, 0.8876827359199524, 0.8394984006881714, 0.5933809876441956, 0.5933809876441956, 0.8974632620811462, 0.8876825571060181], \"Term\": [\"\\n\\n\", \"1889\", \"19\", \"2014\", \"2018\", \"300\", \"324\", \"41\", \"a.\", \"abogar\", \"adem\\u00e1s\", \"alejar\", \"alejar\", \"alexandre\", \"alguno\", \"alto\", \"alto\", \"altura\", \"analista\", \"analizar\", \"antena\", \"anterior\", \"anterior\", \"apariencia\", \"arar\", \"arom\\u00e1tico\", \"arquitecto\", \"aspecto\", \"atm\\u00f3sfera\", \"australiano\", \"azarar\", \"a\\u00f1o\", \"a\\u00f1o\", \"bah\\u00eda\", \"barcelona\", \"barco\", \"big\", \"brisbane\", \"bufete\", \"cada\", \"cada\", \"campar\", \"campar\", \"campe\\u00f3n\", \"capital\", \"capital\", \"capit\\u00e1n\", \"caracterizar\", \"carbonar\", \"carne\", \"celebraci\\u00f3n\", \"cercano\", \"ciencia\", \"citar\", \"ciudad\", \"ciudad\", \"cobrar\", \"coger\", \"cogerla\", \"colaborador\", \"comer\", \"comer\", \"comer\", \"comer\", \"concretar\", \"conferir\", \"conjunto\", \"conocer\", \"conocer\", \"construir\", \"contar\", \"copar\", \"coral\", \"cordillera\", \"costa\", \"costumbre\", \"cuartar\", \"cuartar\", \"dani\", \"datar\", \"dato\", \"deber\", \"deber\", \"decidir\", \"decir\", \"definitivo\", \"delgado\", \"despu\\u00e9s\", \"despu\\u00e9s\", \"despu\\u00e9s\", \"destacar\", \"destacar\", \"destinar\", \"detalle\", \"diferenciar\", \"dios\", \"dise\\u00f1ar\", \"diverso\", \"diverso\", \"dividir\", \"divisorio\", \"di\\u00f3xido\", \"do\", \"do\", \"do\", \"dotar\", \"dragar\", \"d\\u00eda\", \"eiffel\", \"electr\\u00f3nico\", \"elevar\", \"empezar\", \"encargar\", \"encontrar\", \"encontrar\", \"entonces\", \"entrar\", \"entrar\", \"entrar\", \"entregar\", \"espa\\u00f1olar\", \"especie\", \"estrenar\", \"estructurar\", \"estudiar\", \"exposici\\u00f3n\", \"extremar\", \"facilitar\", \"federaci\\u00f3n\", \"felipe\", \"final\", \"finalmente\", \"final\\u00edsima\", \"formar\", \"formato\", \"fotogr\\u00e1fico\", \"francia\", \"franc\\u00e9s\", \"fruto\", \"fuente\", \"fuerte\", \"fundaci\\u00f3n\", \"f\\u00fatbol\", \"ganar\", \"generar\", \"genio\", \"geogr\\u00e1ficamente\", \"gracia\", \"gracia\", \"gran\", \"gran\", \"griego\", \"guerra\", \"gustave\", \"haber\", \"haber\", \"haber\", \"habitante\", \"hacer\", \"harvey\", \"herencia\", \"herrar\", \"herrar\", \"historia\", \"historia\", \"homenaje\", \"hom\\u00f3nimo\", \"humano\", \"humano\", \"impoluto\", \"inform\\u00e1tico\", \"ingeniero\", \"inicialmente\", \"inmenso\", \"interior\", \"investigaci\\u00f3n\", \"irregular\", \"jugador\", \"koechlin\", \"ley\", \"llamar\", \"llevar\", \"manera\", \"manir\", \"mar\", \"maravillar\", \"marte\", \"marte\", \"maurice\", \"mejorar\", \"melbourne\", \"memoria\", \"menudo\", \"mercurio\", \"metro\", \"mike\", \"mill\\u00f3n\", \"mill\\u00f3n\", \"mitolog\\u00eda\", \"monumento\", \"moret\\u00f3n\", \"mundo\", \"m\\u00e8tres\", \"m\\u00e9dico\", \"m\\u00e9todo\", \"m\\u00faltiple\", \"nacido\", \"nadar\", \"negociar\", \"ninguno\", \"nombrar\", \"nouguier\", \"nuevo\", \"nuevo\", \"obtener\", \"oc\\u00e9ano\", \"orden\", \"orillar\", \"orillar\", \"pac\\u00edfico\", \"parejo\", \"parir\", \"parir\", \"parir\", \"parir\", \"parir\", \"parisino\", \"par\\u00eds.situada\", \"pasar\", \"pa\\u00eds\", \"peana\", \"peque\\u00f1o\", \"pescar\", \"placa\", \"planeta\", \"plato\", \"poblar\", \"poder\", \"poder\", \"poder\", \"poseer\", \"predominante\", \"primero\", \"principal\", \"privilegiar\", \"procedimental\", \"producto\", \"prolongar\", \"propiedad\", \"propiedad\", \"proporcionar\", \"provenir\", \"pudelar\", \"pupilo\", \"p\\u00e1gina\", \"quedarse\", \"quedarse\", \"queensland\", \"racha\", \"real\", \"recetar\", \"recibir\", \"recoger\", \"recomendaci\\u00f3n\", \"red\", \"redar\", \"referenciar\", \"regi\\u00f3n\", \"representar\", \"responsable\", \"restar\", \"rey\", \"re\\u00edr\", \"re\\u00edr\", \"rfef\", \"rico\", \"riqueza\", \"rojizo\", \"rojo\", \"romano\", \"romano\", \"ross\", \"saber\", \"salud\", \"salud\", \"saludable\", \"sat\\u00e9lite\", \"sauvestre\", \"scientist\", \"seco\", \"segundar\", \"ser\", \"ser\", \"ser\", \"ser\", \"ser\", \"ser\", \"seriar\", \"siempre\", \"siglo\", \"siglo\", \"significativo\", \"similar\", \"simple\", \"sistema\", \"sistema\", \"sobrar\", \"sobrar\", \"sobrar\", \"social\", \"sol\", \"solar\", \"specter\", \"stephen\", \"suits\", \"superficie\", \"sureste\", \"sustentar\", \"s\\u00eddney\", \"s\\u00edmbolo\", \"s\\u00f3lo\", \"tal\", \"tardar\", \"taylor\", \"tel\\u00farico\", \"temporada\", \"temporada\", \"tener\", \"tener\", \"tercero\", \"tipo\", \"tipo\", \"tomar\", \"tornear\", \"torrar\", \"tour\", \"trabajar\", \"transmitir\", \"tras\", \"trofeo\", \"tr\\u00e1nsito\", \"turista\", \"t\\u00edpico\", \"ubicar\", \"unir\", \"unir\", \"unir\", \"universal\", \"urbano\", \"utilizaci\\u00f3n\", \"valencia\", \"valencia\", \"valioso\", \"vario\", \"vegetal\", \"verdura\", \"victoria\", \"visitar\", \"visi\\u00f3n\", \"york\", \"zona\", \"\\u00e9mile\", \"\\u00e9poca\", \"\\u00f3xido\", \"\\u00faltimo\", \"\\u00faltimo\", \"\\u00fanico\", \"\\u2014en\"]}, \"R\": 30, \"lambda.step\": 0.01, \"plot.opts\": {\"xlab\": \"PC1\", \"ylab\": \"PC2\"}, \"topic.order\": [4, 5, 1, 3, 7, 2, 6]};\n",
       "\n",
       "function LDAvis_load_lib(url, callback){\n",
       "  var s = document.createElement('script');\n",
       "  s.src = url;\n",
       "  s.async = true;\n",
       "  s.onreadystatechange = s.onload = callback;\n",
       "  s.onerror = function(){console.warn(\"failed to load library \" + url);};\n",
       "  document.getElementsByTagName(\"head\")[0].appendChild(s);\n",
       "}\n",
       "\n",
       "if(typeof(LDAvis) !== \"undefined\"){\n",
       "   // already loaded: just create the visualization\n",
       "   !function(LDAvis){\n",
       "       new LDAvis(\"#\" + \"ldavis_el291621160668970168402360251\", ldavis_el291621160668970168402360251_data);\n",
       "   }(LDAvis);\n",
       "}else if(typeof define === \"function\" && define.amd){\n",
       "   // require.js is available: use it to load d3/LDAvis\n",
       "   require.config({paths: {d3: \"https://cdnjs.cloudflare.com/ajax/libs/d3/3.5.5/d3.min\"}});\n",
       "   require([\"d3\"], function(d3){\n",
       "      window.d3 = d3;\n",
       "      LDAvis_load_lib(\"https://cdn.rawgit.com/bmabey/pyLDAvis/files/ldavis.v1.0.0.js\", function(){\n",
       "        new LDAvis(\"#\" + \"ldavis_el291621160668970168402360251\", ldavis_el291621160668970168402360251_data);\n",
       "      });\n",
       "    });\n",
       "}else{\n",
       "    // require.js not available: dynamically load d3 & LDAvis\n",
       "    LDAvis_load_lib(\"https://cdnjs.cloudflare.com/ajax/libs/d3/3.5.5/d3.min.js\", function(){\n",
       "         LDAvis_load_lib(\"https://cdn.rawgit.com/bmabey/pyLDAvis/files/ldavis.v1.0.0.js\", function(){\n",
       "                 new LDAvis(\"#\" + \"ldavis_el291621160668970168402360251\", ldavis_el291621160668970168402360251_data);\n",
       "            })\n",
       "         });\n",
       "}\n",
       "</script>"
      ],
      "text/plain": [
       "<IPython.core.display.HTML object>"
      ]
     },
     "execution_count": 43,
     "metadata": {},
     "output_type": "execute_result"
    }
   ],
   "source": [
    "pyLDAvis.display(data)"
   ]
  }
 ],
 "metadata": {
  "kernelspec": {
   "display_name": "Python 3",
   "language": "python",
   "name": "python3"
  },
  "language_info": {
   "codemirror_mode": {
    "name": "ipython",
    "version": 3
   },
   "file_extension": ".py",
   "mimetype": "text/x-python",
   "name": "python",
   "nbconvert_exporter": "python",
   "pygments_lexer": "ipython3",
   "version": "3.7.0"
  },
  "toc": {
   "base_numbering": 1,
   "nav_menu": {},
   "number_sections": true,
   "sideBar": true,
   "skip_h1_title": false,
   "title_cell": "Table of Contents",
   "title_sidebar": "Contents",
   "toc_cell": false,
   "toc_position": {},
   "toc_section_display": true,
   "toc_window_display": false
  }
 },
 "nbformat": 4,
 "nbformat_minor": 2
}

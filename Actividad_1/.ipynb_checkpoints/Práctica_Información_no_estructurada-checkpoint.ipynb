{
 "cells": [
  {
   "cell_type": "markdown",
   "metadata": {},
   "source": [
    " PRÁCTICA1 TEXT MINING\n",
    " - Alumno: Jorge Casan Vazquez\n",
    " - Asignatura: Análisis de Información no estructurada\n",
    " - Fecha: 04/04/2019"
   ]
  },
  {
   "cell_type": "markdown",
   "metadata": {},
   "source": [
    "# Informe ejecutivo"
   ]
  },
  {
   "cell_type": "markdown",
   "metadata": {},
   "source": [
    "Este informe tiene como principal objetivo realizar una comparativa entre un texto seleccionado, el cual he cogido una parte de la novela del Conde de Montecristo, de Alejandro Dumas. Por una parte, he realizado un análisis del texto en español para posteriormente comparar los resultados con el mismo texto en inglés. De los resultados que he obtenido, trabajando con la tokenización y el análisis de la raiz de las palabras se observa como el análisis en ingles resulta ser mas clarificador que el español, debido a la simplificación en cuanto a cambios gramaticales se refiere. Además que con el español tenemos que emplear mayor número de palabras para explicar la misma información que con el inglés."
   ]
  },
  {
   "cell_type": "markdown",
   "metadata": {},
   "source": [
    "# Cadena de texto "
   ]
  },
  {
   "cell_type": "markdown",
   "metadata": {},
   "source": [
    "Nos cargamos el corpus reader en donde especificamos la ruta donde tenemos todos los archivos. Aqui tenemos los siguientes archivos:\n",
    "- El jupyter nb de la práctica_1\n",
    "- El pdf sobre las instrucciones de la práctica\n",
    "- El archivo word sobre la frase objeto de extudio"
   ]
  },
  {
   "cell_type": "code",
   "execution_count": 133,
   "metadata": {},
   "outputs": [
    {
     "data": {
      "text/plain": [
       "['.ipynb_checkpoints/Práctica_Información_no_estructurada-checkpoint.ipynb',\n",
       " 'Lab 1 Pre-procesamiento.pdf',\n",
       " 'Práctica_Información_no_estructurada.html',\n",
       " 'Práctica_Información_no_estructurada.ipynb',\n",
       " 'Texto_Practica1.docx']"
      ]
     },
     "execution_count": 133,
     "metadata": {},
     "output_type": "execute_result"
    }
   ],
   "source": [
    "import nltk, re, pprint\n",
    "\n",
    "from nltk.corpus import PlaintextCorpusReader\n",
    "\n",
    "docs_dir = \"C:/Users/jcasa/OneDrive/Escritorio/2º SEMESTRE/Analisis de informacion no estructurada/Actividad_1\"\n",
    "\n",
    "documentos = PlaintextCorpusReader(docs_dir, '.*')\n",
    "documentos.fileids()"
   ]
  },
  {
   "cell_type": "markdown",
   "metadata": {},
   "source": [
    "En el archivo Word tenemos la frase objeto de análisis, existen dos formas para poder trabajar con ella:\n",
    "\n",
    "- Forma 1: Podemos invocarla a través de una URL\n",
    "- Forma 2: Directamente transcribimos la frase"
   ]
  },
  {
   "cell_type": "markdown",
   "metadata": {},
   "source": [
    "He elegido la forma 2, directamente la escribo y la llamo 'frase', en donde generaré la cadena de texto"
   ]
  },
  {
   "cell_type": "code",
   "execution_count": 134,
   "metadata": {},
   "outputs": [],
   "source": [
    "frase= ''''La novela empieza con Edmundo Dantès volviendo a Marsella, donde se encuentra con su familia y sus amigos. Dantès está a punto de recibir una promoción a capitán, y también a punto de casarse con una bella española, Mercedes Herrera.\n",
    "\n",
    "Sin embargo, el inocente Dantès no se da cuenta de cómo su fortuna afecta a los que él considera sus amigos. Danglars, el jefe de cargamento que envidia la promoción de Edmond, y Fernando, el primo de Mercédès que ama a esta, pretenden acusar a Edmond como agente bonapartista. Dantés, siguiendo la última voluntad del capitán del barco, que muere en el viaje de vuelta a Marsella, hace una parada en la isla de Elba donde se encontraba preso Napoleón. Este le da una carta dirigida a un hombre en París del cual sólo le dice el nombre, Noirtier. Al llegar a la ciudad y presos de la envidia, Danglars y Fernando redactan una carta anónima acusando a Dantés de agente bonapartista, en presencia del vecino de Edmond. Dantés es arrestado el día de la boda y es llevado ante Villefort, el sustituto del procurador del rey. Villefort le informa de que ha sido denunciado como espía de Napoleón pero que dada la buena reputación de Edmond no cree en la veracidad de la denuncia, además, le entrega la carta que había recibido del emperador la cual contiene los horarios de los guardías que le vigilan. Villefort iba a dejar marchar al muchacho pero le pregunta por el destinatario de la carta, Noirtier, y al conocer este dato hace arrestar a Dantés en el castillo de If. Noirtier es el padre de Villefort y no puede permitir que se le involucre en un asunto de traición ayudando al emperador a regresar a Francia, denegando todas sus posibilidades de llegar a ser una persona importante en el país.'''"
   ]
  },
  {
   "cell_type": "code",
   "execution_count": 135,
   "metadata": {},
   "outputs": [
    {
     "name": "stdout",
     "output_type": "stream",
     "text": [
      "El número total de caracteres es de : 1731\n"
     ]
    }
   ],
   "source": [
    "print('El número total de caracteres es de : {}'.format(len(frase)))"
   ]
  },
  {
   "cell_type": "code",
   "execution_count": 136,
   "metadata": {},
   "outputs": [
    {
     "name": "stdout",
     "output_type": "stream",
     "text": [
      "El extracto que he escogido de la novela del Conde de Montecristo es de tipo:  <class 'str'> y contiene  1731  palabras\n"
     ]
    }
   ],
   "source": [
    "print(\"El extracto que he escogido de la novela del Conde de Montecristo es de tipo: \", type(frase),\\\n",
    "      \"y contiene \", len(frase), \" palabras\")"
   ]
  },
  {
   "cell_type": "markdown",
   "metadata": {},
   "source": [
    "# Analisis exploratorio de los datos"
   ]
  },
  {
   "cell_type": "markdown",
   "metadata": {},
   "source": [
    "Realizar una partición del texto por palabras para ver cuáles son las palabras con más de 10 letras"
   ]
  },
  {
   "cell_type": "code",
   "execution_count": 137,
   "metadata": {},
   "outputs": [],
   "source": [
    "trozos_espanol = frase.split()"
   ]
  },
  {
   "cell_type": "code",
   "execution_count": 138,
   "metadata": {},
   "outputs": [
    {
     "name": "stdout",
     "output_type": "stream",
     "text": [
      "Las palabras con más de 14 letras son:  ['bonapartista.', 'bonapartista,', 'destinatario', 'posibilidades']\n",
      " El número total de palabras que tienen más de 14 letras es de 4 palabras\n"
     ]
    }
   ],
   "source": [
    "palabras_largas = [word for word in trozos_espanol if(len(word)>10)]\n",
    "print(\"Las palabras con más de 14 letras son: \",palabras_largas)\n",
    "print(' El número total de palabras que tienen más de 14 letras es de {} palabras'.format(len(palabras_largas)))"
   ]
  },
  {
   "cell_type": "markdown",
   "metadata": {},
   "source": [
    "Adicionalmente, podemos ver qué palabras son las que empiezan con mayúscula"
   ]
  },
  {
   "cell_type": "code",
   "execution_count": 139,
   "metadata": {},
   "outputs": [
    {
     "name": "stdout",
     "output_type": "stream",
     "text": [
      "Capitalized words:  [\"'La\", 'Edmundo', 'Dantès', 'Marsella,', 'Dantès', 'Mercedes', 'Herrera.', 'Sin', 'Dantès', 'Danglars,', 'Edmond,', 'Fernando,', 'Mercédès', 'Edmond', 'Dantés,', 'Marsella,', 'Elba', 'Napoleón.', 'Este', 'París', 'Noirtier.', 'Al', 'Danglars', 'Fernando', 'Dantés', 'Edmond.', 'Dantés', 'Villefort,', 'Villefort', 'Napoleón', 'Edmond', 'Villefort', 'Noirtier,', 'Dantés', 'If.', 'Noirtier', 'Villefort', 'Francia,']\n",
      "El número de palabras que empiezan con mayúscula es de 38 palabras\n"
     ]
    }
   ],
   "source": [
    "palabras_mayuscula = [ word for word in trozos_espanol if word.istitle()]\n",
    "print(\"Capitalized words: \",palabras_mayuscula)\n",
    "print('El número de palabras que empiezan con mayúscula es de {} palabras'.format(len(palabras_mayuscula)))"
   ]
  },
  {
   "cell_type": "markdown",
   "metadata": {},
   "source": [
    "Podemos también ver por ejemplo las palabras que empiezan con la letra F"
   ]
  },
  {
   "cell_type": "code",
   "execution_count": 140,
   "metadata": {},
   "outputs": [
    {
     "name": "stdout",
     "output_type": "stream",
     "text": [
      "Palabras con la letra f:  ['familia', 'fortuna']\n",
      "El número total de palabras que empiezan con la letra F es de 2 palabras\n"
     ]
    }
   ],
   "source": [
    "palabras_con_f = [word for word in trozos_espanol if word.startswith(\"f\")]\n",
    "print(\"Palabras con la letra f: \",palabras_con_f)\n",
    "print('El número total de palabras que empiezan con la letra F es de {} palabras'.format(len(palabras_con_f)))"
   ]
  },
  {
   "cell_type": "markdown",
   "metadata": {},
   "source": [
    "También podemos ver las palabras que no se repiten en todo el texto"
   ]
  },
  {
   "cell_type": "code",
   "execution_count": 141,
   "metadata": {},
   "outputs": [
    {
     "name": "stdout",
     "output_type": "stream",
     "text": [
      "Las palabras que no se repiten son:  {'regresar', 'informa', 'Danglars,', 'encuentra', 'inocente', 'Sin', 'que', 'Fernando,', 'está', 'Edmundo', 'ayudando', 'hace', 'del', 'asunto', 'veracidad', 'If.', 'familia', 'Noirtier', 'volviendo', 'voluntad', 'cual', 'dirigida', 'vigilan.', 'cree', 'arrestar', 'recibido', 'bonapartista,', 'país.', 'boda', 'padre', 'Edmond', 'Noirtier.', 'vecino', 'ante', 'Este', 'es', 'su', 'Dantés,', 'redactan', 'contiene', 'involucre', 'cómo', 'sólo', 'Al', 'Edmond,', 'sido', \"'La\", 'permitir', 'bonapartista.', 'importante', 'denunciado', 'fortuna', 'los', 'también', 'posibilidades', 'capitán,', 'pero', 'reputación', 'viaje', 'Edmond.', 'denegando', 'Napoleón', 'había', 'ciudad', 'empieza', 'Villefort', 'carta,', 'él', 'cargamento', 'le', 'horarios', 'conocer', 'puede', 'espía', 'la', 'Marsella,', 'isla', 'todas', 'buena', 'París', 'Dantés', 'promoción', 'casarse', 'marchar', 'pregunta', 'guardías', 'no', 'jefe', 'primo', 'ama', 'amigos.', 'considera', 'Mercédès', 'en', 'destinatario', 'Mercedes', 'parada', 'acusando', 'ha', 'a', 'muere', 'castillo', 'vuelta', 'afecta', 'presencia', 'iba', 'muchacho', 'nombre,', 'como', 'barco,', 'agente', 'dato', 'da', 'Francia,', 'cuenta', 'emperador', 'recibir', 'denuncia,', 'Dantès', 'procurador', 'encontraba', 'persona', 'dejar', 'envidia', 'punto', 'el', 'una', 'esta,', 'rey.', 'llevado', 'este', 'novela', 'se', 'un', 'Elba', 'con', 'donde', 'española,', 'capitán', 'y', 'anónima', 'Danglars', 'embargo,', 'sustituto', 'preso', 'presos', 'por', 'Herrera.', 'última', 'traición', 'además,', 'llegar', 'carta', 'entrega', 'bella', 'sus', 'pretenden', 'de', 'arrestado', 'al', 'Noirtier,', 'Fernando', 'hombre', 'Napoleón.', 'envidia,', 'dice', 'dada', 'ser', 'día', 'siguiendo', 'Villefort,', 'acusar'}\n"
     ]
    }
   ],
   "source": [
    "print(\"Las palabras que no se repiten son: \",set(trozos_espanol))"
   ]
  },
  {
   "cell_type": "code",
   "execution_count": 142,
   "metadata": {},
   "outputs": [
    {
     "name": "stdout",
     "output_type": "stream",
     "text": [
      "El número de líneas es de 3\n"
     ]
    }
   ],
   "source": [
    "lineas= frase.splitlines()\n",
    "print('El número de líneas es de {}'. format(len(lineas)))"
   ]
  },
  {
   "cell_type": "markdown",
   "metadata": {},
   "source": [
    "# Idioma del documento"
   ]
  },
  {
   "cell_type": "code",
   "execution_count": 143,
   "metadata": {},
   "outputs": [],
   "source": [
    "import textacy"
   ]
  },
  {
   "cell_type": "code",
   "execution_count": 144,
   "metadata": {},
   "outputs": [
    {
     "name": "stdout",
     "output_type": "stream",
     "text": [
      "\n",
      "Idioma:  es\n"
     ]
    }
   ],
   "source": [
    "print(\"\")\n",
    "print(\"Idioma: \",textacy.text_utils.detect_language(frase))"
   ]
  },
  {
   "cell_type": "markdown",
   "metadata": {},
   "source": [
    "# División en frases"
   ]
  },
  {
   "cell_type": "code",
   "execution_count": 145,
   "metadata": {},
   "outputs": [
    {
     "name": "stdout",
     "output_type": "stream",
     "text": [
      "Danglars, el jefe de cargamento que envidia la promoción de Edmond, y Fernando, el primo de Mercédès que ama a esta, pretenden acusar a Edmond como agente bonapartista.\n"
     ]
    }
   ],
   "source": [
    "sentences = sent_tokenize(frase)\n",
    "print(sentences[3])"
   ]
  },
  {
   "cell_type": "code",
   "execution_count": 146,
   "metadata": {},
   "outputs": [
    {
     "data": {
      "text/plain": [
       "[(\"'La novela empieza con Edmundo Dantès volviendo a Marsella, donde se encuentra con su familia y sus amigos.\",\n",
       "  'POS'),\n",
       " ('Dantès está a punto de recibir una promoción a capitán, y también a punto de casarse con una bella española, Mercedes Herrera.',\n",
       "  'NNP'),\n",
       " ('Sin embargo, el inocente Dantès no se da cuenta de cómo su fortuna afecta a los que él considera sus amigos.',\n",
       "  'NNP'),\n",
       " ('Danglars, el jefe de cargamento que envidia la promoción de Edmond, y Fernando, el primo de Mercédès que ama a esta, pretenden acusar a Edmond como agente bonapartista.',\n",
       "  'NNP'),\n",
       " ('Dantés, siguiendo la última voluntad del capitán del barco, que muere en el viaje de vuelta a Marsella, hace una parada en la isla de Elba donde se encontraba preso Napoleón.',\n",
       "  'NNP'),\n",
       " ('Este le da una carta dirigida a un hombre en París del cual sólo le dice el nombre, Noirtier.',\n",
       "  'NNP')]"
      ]
     },
     "execution_count": 146,
     "metadata": {},
     "output_type": "execute_result"
    }
   ],
   "source": [
    "tagged = nltk.pos_tag(sentences)\n",
    "tagged[0:6]"
   ]
  },
  {
   "cell_type": "markdown",
   "metadata": {},
   "source": [
    "# Tokenización del texto"
   ]
  },
  {
   "cell_type": "markdown",
   "metadata": {},
   "source": [
    "La tokenización es el proceso de dividir un texto en las unidades más pequeñas que tengan significado, es decir, en palabras"
   ]
  },
  {
   "cell_type": "code",
   "execution_count": 147,
   "metadata": {},
   "outputs": [],
   "source": [
    "from nltk.tokenize import word_tokenize"
   ]
  },
  {
   "cell_type": "code",
   "execution_count": 148,
   "metadata": {},
   "outputs": [
    {
     "data": {
      "text/plain": [
       "[\"'La\",\n",
       " 'novela',\n",
       " 'empieza',\n",
       " 'con',\n",
       " 'Edmundo',\n",
       " 'Dantès',\n",
       " 'volviendo',\n",
       " 'a',\n",
       " 'Marsella',\n",
       " ',']"
      ]
     },
     "execution_count": 148,
     "metadata": {},
     "output_type": "execute_result"
    }
   ],
   "source": [
    "tokens = nltk.word_tokenize(frase)\n",
    "tokens[:10]"
   ]
  },
  {
   "cell_type": "markdown",
   "metadata": {},
   "source": [
    "A través de este comando quitaremos todos los tokens que no sean alfanuméricos"
   ]
  },
  {
   "cell_type": "code",
   "execution_count": 149,
   "metadata": {},
   "outputs": [
    {
     "data": {
      "text/plain": [
       "['novela', 'empieza']"
      ]
     },
     "execution_count": 149,
     "metadata": {},
     "output_type": "execute_result"
    }
   ],
   "source": [
    "words = [word for word in tokens if word.isalpha()]\n",
    "words[:2]"
   ]
  },
  {
   "cell_type": "markdown",
   "metadata": {},
   "source": [
    "También podemos quitar los 'stop words', puesto que para nuestro análisis no añaden información relevante. De hecho, estudios experimentales sostienen que eliminar todas las palabras que no estén dentro del 10% de las más frecuentes, no perjudica la clasificación"
   ]
  },
  {
   "cell_type": "code",
   "execution_count": 150,
   "metadata": {},
   "outputs": [],
   "source": [
    "from nltk.corpus import stopwords"
   ]
  },
  {
   "cell_type": "code",
   "execution_count": 151,
   "metadata": {},
   "outputs": [
    {
     "name": "stdout",
     "output_type": "stream",
     "text": [
      "['novela', 'empieza', 'Edmundo', 'Dantès', 'volviendo', 'Marsella', 'encuentra', 'familia', 'amigos', 'Dantès', 'punto', 'recibir', 'promoción', 'capitán', 'punto', 'casarse', 'bella', 'española', 'Mercedes', 'Herrera', 'Sin', 'embargo', 'inocente', 'Dantès', 'da', 'cuenta', 'cómo', 'fortuna', 'afecta', 'considera', 'amigos', 'Danglars', 'jefe', 'cargamento', 'envidia', 'promoción', 'Edmond', 'Fernando', 'primo', 'Mercédès', 'ama', 'pretenden', 'acusar', 'Edmond', 'agente', 'bonapartista', 'Dantés', 'siguiendo', 'última', 'voluntad', 'capitán', 'barco', 'muere', 'viaje', 'vuelta', 'Marsella', 'hace', 'parada', 'isla', 'Elba', 'encontraba', 'preso', 'Napoleón', 'Este', 'da', 'carta', 'dirigida', 'hombre', 'París', 'sólo', 'dice', 'nombre', 'Noirtier', 'Al', 'llegar', 'ciudad', 'presos', 'envidia', 'Danglars', 'Fernando', 'redactan', 'carta', 'anónima', 'acusando', 'Dantés', 'agente', 'bonapartista', 'presencia', 'vecino', 'Edmond', 'Dantés', 'arrestado', 'día', 'boda', 'llevado', 'Villefort', 'sustituto', 'procurador', 'rey', 'Villefort']\n"
     ]
    }
   ],
   "source": [
    "stop_words = stopwords.words('spanish')\n",
    "words = [w for w in words if not w in stop_words]\n",
    "print(words[:100])"
   ]
  },
  {
   "cell_type": "markdown",
   "metadata": {},
   "source": [
    "Hay que tener en cuenta que en Castellano, al conjugarse los verbos, un mismo verbo utiliza más de 50 palabras distintas solamente para los tiempos simples , por este motivo vamos a extraer la raíz de las palabras con el fin de determinar su forma canónica a través del 'Stemming'"
   ]
  },
  {
   "cell_type": "markdown",
   "metadata": {},
   "source": [
    "Con el 'Stemming' podemos extraer la raíz de las palabras, y trabajar con ellas en lugar de con la palabra completa en la representación del modelo con documentos"
   ]
  },
  {
   "cell_type": "code",
   "execution_count": 152,
   "metadata": {},
   "outputs": [],
   "source": [
    "from nltk.stem.porter import PorterStemmer"
   ]
  },
  {
   "cell_type": "code",
   "execution_count": 153,
   "metadata": {},
   "outputs": [
    {
     "name": "stdout",
     "output_type": "stream",
     "text": [
      "[\"'la\", 'novela', 'empieza', 'con', 'edmundo', 'dantè', 'volviendo', 'a', 'marsella', ',', 'dond', 'se', 'encuentra', 'con', 'su', 'familia', 'y', 'su', 'amigo', '.', 'dantè', 'está', 'a', 'punto', 'de', 'recibir', 'una', 'promoción', 'a', 'capitán', ',', 'y', 'también', 'a', 'punto', 'de', 'casars', 'con', 'una', 'bella', 'española', ',', 'merced', 'herrera', '.', 'sin', 'embargo', ',', 'el', 'inocent', 'dantè', 'no', 'se', 'da', 'cuenta', 'de', 'cómo', 'su', 'fortuna', 'afecta', 'a', 'lo', 'que', 'él', 'considera', 'su', 'amigo', '.', 'danglar', ',', 'el', 'jefe', 'de', 'cargamento', 'que', 'envidia', 'la', 'promoción', 'de', 'edmond', ',', 'y', 'fernando', ',', 'el', 'primo', 'de', 'mercédè', 'que', 'ama', 'a', 'esta', ',', 'pretenden', 'acusar', 'a', 'edmond', 'como', 'agent', 'bonapartista']\n"
     ]
    }
   ],
   "source": [
    "porter = PorterStemmer()\n",
    "stemmed = [porter.stem(word) for word in tokens]\n",
    "print(stemmed[:100])"
   ]
  },
  {
   "cell_type": "markdown",
   "metadata": {},
   "source": [
    "Otra forma de ver las raices de las palabras es a través de esta vía"
   ]
  },
  {
   "cell_type": "code",
   "execution_count": 154,
   "metadata": {},
   "outputs": [
    {
     "name": "stdout",
     "output_type": "stream",
     "text": [
      "roots of task Tasked tasks tasking:  [\"'la\", 'novela', 'empieza', 'con', 'edmundo', 'dantè', 'volviendo', 'a', 'marsella', ',', 'dond', 'se', 'encuentra', 'con', 'su', 'familia', 'y', 'su', 'amigo', '.', 'dantè', 'está', 'a', 'punto', 'de', 'recibir', 'una', 'promoción', 'a', 'capitán', ',', 'y', 'también', 'a', 'punto', 'de', 'casars', 'con', 'una', 'bella', 'española', ',', 'merced', 'herrera', '.', 'sin', 'embargo', ',', 'el', 'inocent', 'dantè', 'no', 'se', 'da', 'cuenta', 'de', 'cómo', 'su', 'fortuna', 'afecta', 'a', 'lo', 'que', 'él', 'considera', 'su', 'amigo', '.', 'danglar', ',', 'el', 'jefe', 'de', 'cargamento', 'que', 'envidia', 'la', 'promoción', 'de', 'edmond', ',', 'y', 'fernando', ',', 'el', 'primo', 'de', 'mercédè', 'que', 'ama', 'a', 'esta', ',', 'pretenden', 'acusar', 'a', 'edmond', 'como', 'agent', 'bonapartista', '.', 'danté', ',', 'siguiendo', 'la', 'última', 'voluntad', 'del', 'capitán', 'del', 'barco', ',', 'que', 'muer', 'en', 'el', 'viaj', 'de', 'vuelta', 'a', 'marsella', ',', 'hace', 'una', 'parada', 'en', 'la', 'isla', 'de', 'elba', 'dond', 'se', 'encontraba', 'preso', 'napoleón', '.', 'est', 'le', 'da', 'una', 'carta', 'dirigida', 'a', 'un', 'hombr', 'en', 'parí', 'del', 'cual', 'sólo', 'le', 'dice', 'el', 'nombr', ',', 'noirtier', '.', 'Al', 'llegar', 'a', 'la', 'ciudad', 'y', 'preso', 'de', 'la', 'envidia', ',', 'danglar', 'y', 'fernando', 'redactan', 'una', 'carta', 'anónima', 'acusando', 'a', 'danté', 'de', 'agent', 'bonapartista', ',', 'en', 'presencia', 'del', 'vecino', 'de', 'edmond', '.', 'danté', 'es', 'arrestado', 'el', 'día', 'de', 'la', 'boda', 'y', 'es', 'llevado', 'ant', 'villefort', ',', 'el', 'sustituto', 'del', 'procurador', 'del', 'rey', '.', 'villefort', 'le', 'informa', 'de', 'que', 'ha', 'sido', 'denunciado', 'como', 'espía', 'de', 'napoleón', 'pero', 'que', 'dada', 'la', 'buena', 'reputación', 'de', 'edmond', 'no', 'cree', 'en', 'la', 'veracidad', 'de', 'la', 'denuncia', ',', 'ademá', ',', 'le', 'entrega', 'la', 'carta', 'que', 'había', 'recibido', 'del', 'emperador', 'la', 'cual', 'contien', 'lo', 'horario', 'de', 'lo', 'guardía', 'que', 'le', 'vigilan', '.', 'villefort', 'iba', 'a', 'dejar', 'marchar', 'al', 'muchacho', 'pero', 'le', 'pregunta', 'por', 'el', 'destinatario', 'de', 'la', 'carta', ',', 'noirtier', ',', 'y', 'al', 'conoc', 'est', 'dato', 'hace', 'arrestar', 'a', 'danté', 'en', 'el', 'castillo', 'de', 'If', '.', 'noirtier', 'es', 'el', 'padr', 'de', 'villefort', 'y', 'no', 'pued', 'permitir', 'que', 'se', 'le', 'involucr', 'en', 'un', 'asunto', 'de', 'traición', 'ayudando', 'al', 'emperador', 'a', 'regresar', 'a', 'francia', ',', 'denegando', 'toda', 'su', 'posibilidad', 'de', 'llegar', 'a', 'ser', 'una', 'persona', 'important', 'en', 'el', 'paí', '.']\n"
     ]
    }
   ],
   "source": [
    "porter_stemmer = nltk.PorterStemmer()\n",
    "roots = [porter_stemmer.stem(each) for each in tokens]\n",
    "print(\"roots of task Tasked tasks tasking: \",roots)"
   ]
  },
  {
   "cell_type": "markdown",
   "metadata": {},
   "source": [
    "# Lematización de los tokens"
   ]
  },
  {
   "cell_type": "markdown",
   "metadata": {},
   "source": [
    "La lematización requiere de un corpus ya que está entrenado, para desambiguar la palabra y para determinar su forma normal. En primer lugar trataremos con la librería 'WordNetlemmatizer' para posteriormente recorrer palabra por palabra descomponiendo la forma normal de cada una de ellas"
   ]
  },
  {
   "cell_type": "code",
   "execution_count": 155,
   "metadata": {},
   "outputs": [],
   "source": [
    "from nltk.stem import WordNetLemmatizer"
   ]
  },
  {
   "cell_type": "code",
   "execution_count": 156,
   "metadata": {},
   "outputs": [],
   "source": [
    "lemmatizer=WordNetLemmatizer()"
   ]
  },
  {
   "cell_type": "code",
   "execution_count": 157,
   "metadata": {},
   "outputs": [
    {
     "name": "stdout",
     "output_type": "stream",
     "text": [
      "'La\n",
      "novela\n",
      "empieza\n",
      "con\n",
      "Edmundo\n",
      "Dantès\n",
      "volviendo\n",
      "a\n",
      "Marsella\n",
      ",\n",
      "donde\n",
      "se\n",
      "encuentra\n",
      "con\n",
      "su\n",
      "familia\n",
      "y\n",
      "sus\n",
      "amigo\n",
      ".\n",
      "Dantès\n",
      "está\n",
      "a\n",
      "punto\n",
      "de\n",
      "recibir\n",
      "una\n",
      "promoción\n",
      "a\n",
      "capitán\n",
      ",\n",
      "y\n",
      "también\n",
      "a\n",
      "punto\n",
      "de\n",
      "casarse\n",
      "con\n",
      "una\n",
      "bella\n",
      "española\n",
      ",\n",
      "Mercedes\n",
      "Herrera\n",
      ".\n",
      "Sin\n",
      "embargo\n",
      ",\n",
      "el\n",
      "inocente\n",
      "Dantès\n",
      "no\n",
      "se\n",
      "da\n",
      "cuenta\n",
      "de\n",
      "cómo\n",
      "su\n",
      "fortuna\n",
      "afecta\n",
      "a\n",
      "los\n",
      "que\n",
      "él\n",
      "considera\n",
      "sus\n",
      "amigo\n",
      ".\n",
      "Danglars\n",
      ",\n",
      "el\n",
      "jefe\n",
      "de\n",
      "cargamento\n",
      "que\n",
      "envidia\n",
      "la\n",
      "promoción\n",
      "de\n",
      "Edmond\n",
      ",\n",
      "y\n",
      "Fernando\n",
      ",\n",
      "el\n",
      "primo\n",
      "de\n",
      "Mercédès\n",
      "que\n",
      "ama\n",
      "a\n",
      "esta\n",
      ",\n",
      "pretenden\n",
      "acusar\n",
      "a\n",
      "Edmond\n",
      "como\n",
      "agente\n",
      "bonapartista\n",
      ".\n",
      "Dantés\n",
      ",\n",
      "siguiendo\n",
      "la\n",
      "última\n",
      "voluntad\n",
      "del\n",
      "capitán\n",
      "del\n",
      "barco\n",
      ",\n",
      "que\n",
      "muere\n",
      "en\n",
      "el\n",
      "viaje\n",
      "de\n",
      "vuelta\n",
      "a\n",
      "Marsella\n",
      ",\n",
      "hace\n",
      "una\n",
      "parada\n",
      "en\n",
      "la\n",
      "isla\n",
      "de\n",
      "Elba\n",
      "donde\n",
      "se\n",
      "encontraba\n",
      "preso\n",
      "Napoleón\n",
      ".\n",
      "Este\n",
      "le\n",
      "da\n",
      "una\n",
      "carta\n",
      "dirigida\n",
      "a\n",
      "un\n",
      "hombre\n",
      "en\n",
      "París\n",
      "del\n",
      "cual\n",
      "sólo\n",
      "le\n",
      "dice\n",
      "el\n",
      "nombre\n",
      ",\n",
      "Noirtier\n",
      ".\n",
      "Al\n",
      "llegar\n",
      "a\n",
      "la\n",
      "ciudad\n",
      "y\n",
      "presos\n",
      "de\n",
      "la\n",
      "envidia\n",
      ",\n",
      "Danglars\n",
      "y\n",
      "Fernando\n",
      "redactan\n",
      "una\n",
      "carta\n",
      "anónima\n",
      "acusando\n",
      "a\n",
      "Dantés\n",
      "de\n",
      "agente\n",
      "bonapartista\n",
      ",\n",
      "en\n",
      "presencia\n",
      "del\n",
      "vecino\n",
      "de\n",
      "Edmond\n",
      ".\n",
      "Dantés\n",
      "e\n",
      "arrestado\n",
      "el\n",
      "día\n",
      "de\n",
      "la\n",
      "boda\n",
      "y\n",
      "e\n",
      "llevado\n",
      "ante\n",
      "Villefort\n",
      ",\n",
      "el\n",
      "sustituto\n",
      "del\n",
      "procurador\n",
      "del\n",
      "rey\n",
      ".\n",
      "Villefort\n",
      "le\n",
      "informa\n",
      "de\n",
      "que\n",
      "ha\n",
      "sido\n",
      "denunciado\n",
      "como\n",
      "espía\n",
      "de\n",
      "Napoleón\n",
      "pero\n",
      "que\n",
      "dada\n",
      "la\n",
      "buena\n",
      "reputación\n",
      "de\n",
      "Edmond\n",
      "no\n",
      "cree\n",
      "en\n",
      "la\n",
      "veracidad\n",
      "de\n",
      "la\n",
      "denuncia\n",
      ",\n",
      "además\n",
      ",\n",
      "le\n",
      "entrega\n",
      "la\n",
      "carta\n",
      "que\n",
      "había\n",
      "recibido\n",
      "del\n",
      "emperador\n",
      "la\n",
      "cual\n",
      "contiene\n",
      "los\n",
      "horarios\n",
      "de\n",
      "los\n",
      "guardías\n",
      "que\n",
      "le\n",
      "vigilan\n",
      ".\n",
      "Villefort\n",
      "iba\n",
      "a\n",
      "dejar\n",
      "marchar\n",
      "al\n",
      "muchacho\n",
      "pero\n",
      "le\n",
      "pregunta\n",
      "por\n",
      "el\n",
      "destinatario\n",
      "de\n",
      "la\n",
      "carta\n",
      ",\n",
      "Noirtier\n",
      ",\n",
      "y\n",
      "al\n",
      "conocer\n",
      "este\n",
      "dato\n",
      "hace\n",
      "arrestar\n",
      "a\n",
      "Dantés\n",
      "en\n",
      "el\n",
      "castillo\n",
      "de\n",
      "If\n",
      ".\n",
      "Noirtier\n",
      "e\n",
      "el\n",
      "padre\n",
      "de\n",
      "Villefort\n",
      "y\n",
      "no\n",
      "puede\n",
      "permitir\n",
      "que\n",
      "se\n",
      "le\n",
      "involucre\n",
      "en\n",
      "un\n",
      "asunto\n",
      "de\n",
      "traición\n",
      "ayudando\n",
      "al\n",
      "emperador\n",
      "a\n",
      "regresar\n",
      "a\n",
      "Francia\n",
      ",\n",
      "denegando\n",
      "toda\n",
      "sus\n",
      "posibilidades\n",
      "de\n",
      "llegar\n",
      "a\n",
      "ser\n",
      "una\n",
      "persona\n",
      "importante\n",
      "en\n",
      "el\n",
      "país\n",
      ".\n"
     ]
    }
   ],
   "source": [
    "for word in tokens:\n",
    "    print(lemmatizer.lemmatize(word))"
   ]
  },
  {
   "cell_type": "markdown",
   "metadata": {},
   "source": [
    "Tambien podemos realizar el análisis morfológico, en el cual categorizaremos las palabras que constituyen el texto según su categoría morfológica. Este análisis resulta fundamental para la desambiguación.\n"
   ]
  },
  {
   "cell_type": "code",
   "execution_count": 158,
   "metadata": {},
   "outputs": [
    {
     "name": "stdout",
     "output_type": "stream",
     "text": [
      "El análisis morfologíco resultante es el siguiente [(\"'La\", 'POS'), ('novela', 'JJ'), ('empieza', 'NN'), ('con', 'NN'), ('Edmundo', 'NNP'), ('Dantès', 'NNP'), ('volviendo', 'VBZ'), ('a', 'DT'), ('Marsella', 'NNP'), (',', ','), ('donde', 'NN'), ('se', 'NN'), ('encuentra', 'JJ'), ('con', 'NN'), ('su', 'NN'), ('familia', 'NN'), ('y', 'NN'), ('sus', 'NN'), ('amigos', 'NN'), ('.', '.'), ('Dantès', 'NNP'), ('está', 'VBD'), ('a', 'DT'), ('punto', 'NN'), ('de', 'FW'), ('recibir', 'FW'), ('una', 'JJ'), ('promoción', 'NN'), ('a', 'DT'), ('capitán', 'NN'), (',', ','), ('y', 'PRP'), ('también', 'VBP'), ('a', 'DT'), ('punto', 'NN'), ('de', 'FW'), ('casarse', 'FW'), ('con', 'NN'), ('una', 'JJ'), ('bella', 'NN'), ('española', 'NN'), (',', ','), ('Mercedes', 'NNP'), ('Herrera', 'NNP'), ('.', '.'), ('Sin', 'NNP'), ('embargo', 'NN'), (',', ','), ('el', 'FW'), ('inocente', 'FW'), ('Dantès', 'NNP'), ('no', 'DT'), ('se', 'NN'), ('da', 'VBZ'), ('cuenta', 'NN'), ('de', 'IN'), ('cómo', 'FW'), ('su', 'JJ'), ('fortuna', 'NN'), ('afecta', 'VBD'), ('a', 'DT'), ('los', 'NN'), ('que', 'NN'), ('él', 'NNP'), ('considera', 'NN'), ('sus', 'NN'), ('amigos', 'NN'), ('.', '.'), ('Danglars', 'NNP'), (',', ','), ('el', 'JJ'), ('jefe', 'NN'), ('de', 'IN'), ('cargamento', 'FW'), ('que', 'JJ'), ('envidia', 'NN'), ('la', 'NN'), ('promoción', 'FW'), ('de', 'FW'), ('Edmond', 'NNP'), (',', ','), ('y', 'NNP'), ('Fernando', 'NNP'), (',', ','), ('el', 'JJ'), ('primo', 'NN'), ('de', 'IN'), ('Mercédès', 'NNP'), ('que', 'NN'), ('ama', 'VBZ'), ('a', 'DT'), ('esta', 'NN'), (',', ','), ('pretenden', 'JJ'), ('acusar', 'NN'), ('a', 'DT'), ('Edmond', 'NNP'), ('como', 'NN'), ('agente', 'NN'), ('bonapartista', 'NN'), ('.', '.'), ('Dantés', 'NNP'), (',', ','), ('siguiendo', 'NN'), ('la', 'NN'), ('última', 'NNP'), ('voluntad', 'NN'), ('del', 'NN'), ('capitán', 'NN'), ('del', 'NN'), ('barco', 'NN'), (',', ','), ('que', 'NN'), ('muere', 'RB'), ('en', 'VBZ'), ('el', 'JJ'), ('viaje', 'FW'), ('de', 'FW'), ('vuelta', 'FW'), ('a', 'DT'), ('Marsella', 'NNP'), (',', ','), ('hace', 'NN'), ('una', 'JJ'), ('parada', 'NN'), ('en', 'IN'), ('la', 'FW'), ('isla', 'FW'), ('de', 'FW'), ('Elba', 'NNP'), ('donde', 'FW'), ('se', 'NN'), ('encontraba', 'FW'), ('preso', 'NN'), ('Napoleón', 'NNP'), ('.', '.'), ('Este', 'NNP'), ('le', 'JJ'), ('da', 'NN'), ('una', 'NN'), ('carta', 'NN'), ('dirigida', 'VBZ'), ('a', 'DT'), ('un', 'JJ'), ('hombre', 'NN'), ('en', 'IN'), ('París', 'NNP'), ('del', 'FW'), ('cual', 'JJ'), ('sólo', 'NN'), ('le', 'NN'), ('dice', 'NN'), ('el', 'NN'), ('nombre', 'NN'), (',', ','), ('Noirtier', 'NNP'), ('.', '.'), ('Al', 'NNP'), ('llegar', 'VBD'), ('a', 'DT'), ('la', 'NN'), ('ciudad', 'NN'), ('y', 'NN'), ('presos', 'NN'), ('de', 'IN'), ('la', 'FW'), ('envidia', 'FW'), (',', ','), ('Danglars', 'NNP'), ('y', 'VBZ'), ('Fernando', 'NNP'), ('redactan', 'NN'), ('una', 'NN'), ('carta', 'NN'), ('anónima', 'VBZ'), ('acusando', 'RP'), ('a', 'DT'), ('Dantés', 'NNP'), ('de', 'FW'), ('agente', 'FW'), ('bonapartista', 'NN'), (',', ','), ('en', 'FW'), ('presencia', 'FW'), ('del', 'FW'), ('vecino', 'NN'), ('de', 'IN'), ('Edmond', 'NNP'), ('.', '.'), ('Dantés', 'NNP'), ('es', 'JJ'), ('arrestado', 'NN'), ('el', 'NN'), ('día', 'NN'), ('de', 'IN'), ('la', 'FW'), ('boda', 'FW'), ('y', 'FW'), ('es', 'FW'), ('llevado', 'FW'), ('ante', 'FW'), ('Villefort', 'NNP'), (',', ','), ('el', 'JJ'), ('sustituto', 'NN'), ('del', 'NN'), ('procurador', 'NN'), ('del', 'NN'), ('rey', 'NN'), ('.', '.'), ('Villefort', 'NNP'), ('le', 'VBD'), ('informa', 'FW'), ('de', 'FW'), ('que', 'FW'), ('ha', 'FW'), ('sido', 'NN'), ('denunciado', 'NN'), ('como', 'NN'), ('espía', 'FW'), ('de', 'FW'), ('Napoleón', 'NNP'), ('pero', 'NN'), ('que', 'NN'), ('dada', 'NN'), ('la', 'FW'), ('buena', 'FW'), ('reputación', 'FW'), ('de', 'FW'), ('Edmond', 'NNP'), ('no', 'DT'), ('cree', 'NN'), ('en', 'VBZ'), ('la', 'FW'), ('veracidad', 'FW'), ('de', 'FW'), ('la', 'FW'), ('denuncia', 'FW'), (',', ','), ('además', 'NN'), (',', ','), ('le', 'JJ'), ('entrega', 'JJ'), ('la', 'NN'), ('carta', 'NN'), ('que', 'NN'), ('había', 'NN'), ('recibido', 'NN'), ('del', 'FW'), ('emperador', 'NN'), ('la', 'FW'), ('cual', 'JJ'), ('contiene', 'NN'), ('los', 'JJ'), ('horarios', 'NNS'), ('de', 'IN'), ('los', 'FW'), ('guardías', 'JJ'), ('que', 'NN'), ('le', 'NN'), ('vigilan', 'NN'), ('.', '.'), ('Villefort', 'NNP'), ('iba', 'VBD'), ('a', 'DT'), ('dejar', 'NN'), ('marchar', 'NN'), ('al', 'NN'), ('muchacho', 'NN'), ('pero', 'NN'), ('le', 'NN'), ('pregunta', 'NN'), ('por', 'NN'), ('el', 'FW'), ('destinatario', 'NN'), ('de', 'IN'), ('la', 'FW'), ('carta', 'NN'), (',', ','), ('Noirtier', 'NNP'), (',', ','), ('y', 'NNP'), ('al', 'VBZ'), ('conocer', 'NN'), ('este', 'NN'), ('dato', 'NN'), ('hace', 'NN'), ('arrestar', 'VBZ'), ('a', 'DT'), ('Dantés', 'NNP'), ('en', 'FW'), ('el', 'FW'), ('castillo', 'FW'), ('de', 'FW'), ('If', 'IN'), ('.', '.'), ('Noirtier', 'NNP'), ('es', 'JJ'), ('el', 'NN'), ('padre', 'NN'), ('de', 'IN'), ('Villefort', 'NNP'), ('y', 'VBZ'), ('no', 'DT'), ('puede', 'NN'), ('permitir', 'NN'), ('que', 'NN'), ('se', 'NN'), ('le', 'JJ'), ('involucre', 'NN'), ('en', 'FW'), ('un', 'JJ'), ('asunto', 'NN'), ('de', 'IN'), ('traición', 'FW'), ('ayudando', 'JJ'), ('al', 'NN'), ('emperador', 'VBZ'), ('a', 'DT'), ('regresar', 'NN'), ('a', 'DT'), ('Francia', 'NNP'), (',', ','), ('denegando', 'NN'), ('todas', 'NNS'), ('sus', 'VBP'), ('posibilidades', 'NNS'), ('de', 'FW'), ('llegar', 'FW'), ('a', 'DT'), ('ser', 'NN'), ('una', 'JJ'), ('persona', 'NN'), ('importante', 'NN'), ('en', 'FW'), ('el', 'NN'), ('país', 'NN'), ('.', '.')]\n"
     ]
    }
   ],
   "source": [
    "print('El análisis morfologíco resultante es el siguiente', nltk.pos_tag(tokens))"
   ]
  },
  {
   "cell_type": "markdown",
   "metadata": {},
   "source": [
    "# ¿Cambia la calidad de los resultados si el documento no está en español sino en inglés?"
   ]
  },
  {
   "cell_type": "code",
   "execution_count": 159,
   "metadata": {},
   "outputs": [],
   "source": [
    "frase_ingles= '''The novel begins with Edmundo Dantès returning to Marseille, where he meets his family and friends. Dantès is about to receive a promotion to captain, and also about to marry a beautiful Spanish, Mercedes Herrera.\n",
    "\n",
    "However, the innocent Dantès does not realize how his fortune affects those he considers his friends. Danglars, the cargo boss who envies Edmond's promotion, and Fernando, Mercédès' cousin who loves Edmond, claim to accuse Edmond as a Bonapartist agent. Dantes, following the last will of the captain of the ship, who dies on the trip back to Marseille, makes a stop on the island of Elba where Napoleon was imprisoned. This gives him a letter addressed to a man in Paris of which he only tells him the name, Noirtier. Upon reaching the city and prisoners of envy, Danglars and Fernando write an anonymous letter accusing Dantes of Bonapartist agent, in the presence of Edmond's neighbor. Dantes is arrested on the day of the wedding and is taken before Villefort, the substitute of the king's procurator. Villefort informs him that he has been denounced as Napoleon's spy but given the good reputation of Edmond does not believe in the truth of the complaint, also gives him the letter he had received from the emperor which contains the hours of the guards who they watch Villefort was going to let the boy go but he asks for the recipient of the letter, Noirtier, and when he knows this fact he arrests Dantes in the castle of If. Noirtier is the father of Villefort and can not allow himself to be involved in a treason issue by helping the emperor return to France, denying all his chances of becoming an important person in the country.'''"
   ]
  },
  {
   "cell_type": "code",
   "execution_count": 160,
   "metadata": {},
   "outputs": [
    {
     "name": "stdout",
     "output_type": "stream",
     "text": [
      "El número total de caracteres es de : 1657\n"
     ]
    }
   ],
   "source": [
    "print('El número total de caracteres es de : {}'.format(len(frase_ingles)))"
   ]
  },
  {
   "cell_type": "code",
   "execution_count": 161,
   "metadata": {},
   "outputs": [],
   "source": [
    "trozos_ingles = frase_ingles.split()"
   ]
  },
  {
   "cell_type": "code",
   "execution_count": 162,
   "metadata": {},
   "outputs": [
    {
     "name": "stdout",
     "output_type": "stream",
     "text": [
      "Las palabras con más de 14 letras son:  ['Bonapartist', 'imprisoned.', 'Bonapartist', 'procurator.']\n",
      " El número total de palabras que tienen más de 14 letras es de 4 palabras\n"
     ]
    }
   ],
   "source": [
    "palabras_largas = [word for word in trozos_ingles if(len(word)>10)]\n",
    "print(\"Las palabras con más de 14 letras son: \",palabras_largas)\n",
    "print(' El número total de palabras que tienen más de 14 letras es de {} palabras'.format(len(palabras_largas)))"
   ]
  },
  {
   "cell_type": "code",
   "execution_count": 163,
   "metadata": {},
   "outputs": [
    {
     "name": "stdout",
     "output_type": "stream",
     "text": [
      "Palabras con la letra f:  ['family', 'friends.', 'fortune', 'friends.', 'following', 'from', 'for', 'fact', 'father']\n",
      "El número total de palabras que empiezan con la letra F es de 9 palabras\n"
     ]
    }
   ],
   "source": [
    "palabras_con_f = [word for word in trozos_ingles if word.startswith(\"f\")]\n",
    "print(\"Palabras con la letra f: \",palabras_con_f)\n",
    "print('El número total de palabras que empiezan con la letra F es de {} palabras'.format(len(palabras_con_f)))"
   ]
  },
  {
   "cell_type": "code",
   "execution_count": 164,
   "metadata": {},
   "outputs": [
    {
     "name": "stdout",
     "output_type": "stream",
     "text": [
      "Capitalized words:  ['The', 'Edmundo', 'Dantès', 'Marseille,', 'Dantès', 'Spanish,', 'Mercedes', 'Herrera.', 'However,', 'Dantès', 'Danglars,', 'Fernando,', \"Mercédès'\", 'Edmond,', 'Edmond', 'Bonapartist', 'Dantes,', 'Marseille,', 'Elba', 'Napoleon', 'This', 'Paris', 'Noirtier.', 'Upon', 'Danglars', 'Fernando', 'Dantes', 'Bonapartist', 'Dantes', 'Villefort,', 'Villefort', 'Edmond', 'Villefort', 'Noirtier,', 'Dantes', 'If.', 'Noirtier', 'Villefort', 'France,']\n",
      "El número de palabras que empiezan con mayúscula es de 39 palabras\n"
     ]
    }
   ],
   "source": [
    "palabras_mayuscula = [ word for word in trozos_ingles if word.istitle()]\n",
    "print(\"Capitalized words: \",palabras_mayuscula)\n",
    "print('El número de palabras que empiezan con mayúscula es de {} palabras'.format(len(palabras_mayuscula)))"
   ]
  },
  {
   "cell_type": "code",
   "execution_count": 165,
   "metadata": {},
   "outputs": [
    {
     "name": "stdout",
     "output_type": "stream",
     "text": [
      "Las palabras que no se repiten son:  {'agent,', 'an', 'knows', 'Danglars,', 'family', 'begins', 'how', 'him', 'Fernando,', 'Dantes,', 'Edmundo', 'who', 'letter', 'Marseille,', 'has', 'had', 'asks', 'If.', 'Napoleon', 'Noirtier', 'spy', 'by', 'neighbor.', 'fortune', 'hours', 'good', 'Dantes', 'let', 'chances', 'affects', 'makes', 'ship,', 'reputation', 'name,', 'go', 'he', 'Edmond', 'Noirtier.', 'gives', 'believe', 'wedding', 'on', 'of', 'recipient', 'marry', 'meets', 'Edmond,', 'trip', 'with', 'city', 'but', 'accuse', 'denounced', 'realize', \"Edmond's\", 'accusing', 'for', 'guards', 'is', 'which', 'given', 'dies', 'prisoners', 'will', 'was', 'friends.', 'those', 'cargo', 'contains', 'receive', 'Paris', 'fact', 'Villefort', 'this', 'loves', 'procurator.', 'his', 'person', 'when', 'claim', 'Upon', 'innocent', 'to', 'addressed', 'boss', 'arrested', 'This', 'agent.', 'back', 'issue', 'where', 'beautiful', 'Mercedes', 'going', 'The', 'a', 'promotion', 'substitute', 'last', 'himself', 'island', 'presence', 'before', 'received', 'letter,', 'from', 'helping', 'However,', 'and', 'returning', 'complaint,', 'man', 'envy,', 'important', 'treason', 'does', 'father', 'informs', 'in', 'reaching', 'as', 'all', 'Spanish,', 'involved', 'arrests', 'Dantès', 'write', 'allow', 'becoming', 'they', 'been', 'can', 'envies', 'Bonapartist', 'captain,', 'that', 'watch', 'anonymous', \"king's\", 'about', \"Mercédès'\", 'Elba', 'also', 'following', 'Danglars', \"Napoleon's\", 'be', 'Herrera.', 'the', 'emperor', 'tells', 'boy', 'castle', 'not', 'France,', 'denying', 'day', 'truth', 'stop', 'country.', 'Noirtier,', 'promotion,', 'novel', 'Fernando', 'imprisoned.', 'cousin', 'only', 'return', 'captain', 'considers', 'taken', 'Villefort,'}\n"
     ]
    }
   ],
   "source": [
    "print(\"Las palabras que no se repiten son: \",set(trozos_ingles))"
   ]
  },
  {
   "cell_type": "code",
   "execution_count": 166,
   "metadata": {},
   "outputs": [
    {
     "name": "stdout",
     "output_type": "stream",
     "text": [
      "El número de líneas es de 3\n"
     ]
    }
   ],
   "source": [
    "lineas= frase_ingles.splitlines()\n",
    "print('El número de líneas es de {}'. format(len(lineas)))"
   ]
  },
  {
   "cell_type": "code",
   "execution_count": 167,
   "metadata": {},
   "outputs": [
    {
     "name": "stdout",
     "output_type": "stream",
     "text": [
      "\n",
      "Idioma:  en\n"
     ]
    }
   ],
   "source": [
    "print(\"\")\n",
    "print(\"Idioma: \",textacy.text_utils.detect_language(frase_ingles))"
   ]
  },
  {
   "cell_type": "code",
   "execution_count": 168,
   "metadata": {},
   "outputs": [
    {
     "name": "stdout",
     "output_type": "stream",
     "text": [
      "Danglars, the cargo boss who envies Edmond's promotion, and Fernando, Mercédès' cousin who loves Edmond, claim to accuse Edmond as a Bonapartist agent.\n"
     ]
    }
   ],
   "source": [
    "sentences = sent_tokenize(frase_ingles)\n",
    "print(sentences[3])"
   ]
  },
  {
   "cell_type": "code",
   "execution_count": 169,
   "metadata": {},
   "outputs": [
    {
     "data": {
      "text/plain": [
       "[('The novel begins with Edmundo Dantès returning to Marseille, where he meets his family and friends.',\n",
       "  'NNP'),\n",
       " ('Dantès is about to receive a promotion to captain, and also about to marry a beautiful Spanish, Mercedes Herrera.',\n",
       "  'NNP'),\n",
       " ('However, the innocent Dantès does not realize how his fortune affects those he considers his friends.',\n",
       "  'NNP'),\n",
       " (\"Danglars, the cargo boss who envies Edmond's promotion, and Fernando, Mercédès' cousin who loves Edmond, claim to accuse Edmond as a Bonapartist agent.\",\n",
       "  'NNP'),\n",
       " ('Dantes, following the last will of the captain of the ship, who dies on the trip back to Marseille, makes a stop on the island of Elba where Napoleon was imprisoned.',\n",
       "  'NNP'),\n",
       " ('This gives him a letter addressed to a man in Paris of which he only tells him the name, Noirtier.',\n",
       "  'NNP')]"
      ]
     },
     "execution_count": 169,
     "metadata": {},
     "output_type": "execute_result"
    }
   ],
   "source": [
    "tagged = nltk.pos_tag(sentences)\n",
    "tagged[0:6]"
   ]
  },
  {
   "cell_type": "code",
   "execution_count": 170,
   "metadata": {},
   "outputs": [
    {
     "data": {
      "text/plain": [
       "['The',\n",
       " 'novel',\n",
       " 'begins',\n",
       " 'with',\n",
       " 'Edmundo',\n",
       " 'Dantès',\n",
       " 'returning',\n",
       " 'to',\n",
       " 'Marseille',\n",
       " ',']"
      ]
     },
     "execution_count": 170,
     "metadata": {},
     "output_type": "execute_result"
    }
   ],
   "source": [
    "tokens = nltk.word_tokenize(frase_ingles)\n",
    "tokens[:10]"
   ]
  },
  {
   "cell_type": "code",
   "execution_count": 171,
   "metadata": {},
   "outputs": [
    {
     "name": "stdout",
     "output_type": "stream",
     "text": [
      "The\n",
      "novel\n",
      "begin\n",
      "with\n",
      "Edmundo\n",
      "Dantès\n",
      "returning\n",
      "to\n",
      "Marseille\n",
      ",\n",
      "where\n",
      "he\n",
      "meet\n",
      "his\n",
      "family\n",
      "and\n",
      "friend\n",
      ".\n",
      "Dantès\n",
      "is\n",
      "about\n",
      "to\n",
      "receive\n",
      "a\n",
      "promotion\n",
      "to\n",
      "captain\n",
      ",\n",
      "and\n",
      "also\n",
      "about\n",
      "to\n",
      "marry\n",
      "a\n",
      "beautiful\n",
      "Spanish\n",
      ",\n",
      "Mercedes\n",
      "Herrera\n",
      ".\n",
      "However\n",
      ",\n",
      "the\n",
      "innocent\n",
      "Dantès\n",
      "doe\n",
      "not\n",
      "realize\n",
      "how\n",
      "his\n",
      "fortune\n",
      "affect\n",
      "those\n",
      "he\n",
      "considers\n",
      "his\n",
      "friend\n",
      ".\n",
      "Danglars\n",
      ",\n",
      "the\n",
      "cargo\n",
      "bos\n",
      "who\n",
      "envy\n",
      "Edmond\n",
      "'s\n",
      "promotion\n",
      ",\n",
      "and\n",
      "Fernando\n",
      ",\n",
      "Mercédès\n",
      "'\n",
      "cousin\n",
      "who\n",
      "love\n",
      "Edmond\n",
      ",\n",
      "claim\n",
      "to\n",
      "accuse\n",
      "Edmond\n",
      "a\n",
      "a\n",
      "Bonapartist\n",
      "agent\n",
      ".\n",
      "Dantes\n",
      ",\n",
      "following\n",
      "the\n",
      "last\n",
      "will\n",
      "of\n",
      "the\n",
      "captain\n",
      "of\n",
      "the\n",
      "ship\n",
      ",\n",
      "who\n",
      "dy\n",
      "on\n",
      "the\n",
      "trip\n",
      "back\n",
      "to\n",
      "Marseille\n",
      ",\n",
      "make\n",
      "a\n",
      "stop\n",
      "on\n",
      "the\n",
      "island\n",
      "of\n",
      "Elba\n",
      "where\n",
      "Napoleon\n",
      "wa\n",
      "imprisoned\n",
      ".\n",
      "This\n",
      "give\n",
      "him\n",
      "a\n",
      "letter\n",
      "addressed\n",
      "to\n",
      "a\n",
      "man\n",
      "in\n",
      "Paris\n",
      "of\n",
      "which\n",
      "he\n",
      "only\n",
      "tell\n",
      "him\n",
      "the\n",
      "name\n",
      ",\n",
      "Noirtier\n",
      ".\n",
      "Upon\n",
      "reaching\n",
      "the\n",
      "city\n",
      "and\n",
      "prisoner\n",
      "of\n",
      "envy\n",
      ",\n",
      "Danglars\n",
      "and\n",
      "Fernando\n",
      "write\n",
      "an\n",
      "anonymous\n",
      "letter\n",
      "accusing\n",
      "Dantes\n",
      "of\n",
      "Bonapartist\n",
      "agent\n",
      ",\n",
      "in\n",
      "the\n",
      "presence\n",
      "of\n",
      "Edmond\n",
      "'s\n",
      "neighbor\n",
      ".\n",
      "Dantes\n",
      "is\n",
      "arrested\n",
      "on\n",
      "the\n",
      "day\n",
      "of\n",
      "the\n",
      "wedding\n",
      "and\n",
      "is\n",
      "taken\n",
      "before\n",
      "Villefort\n",
      ",\n",
      "the\n",
      "substitute\n",
      "of\n",
      "the\n",
      "king\n",
      "'s\n",
      "procurator\n",
      ".\n",
      "Villefort\n",
      "informs\n",
      "him\n",
      "that\n",
      "he\n",
      "ha\n",
      "been\n",
      "denounced\n",
      "a\n",
      "Napoleon\n",
      "'s\n",
      "spy\n",
      "but\n",
      "given\n",
      "the\n",
      "good\n",
      "reputation\n",
      "of\n",
      "Edmond\n",
      "doe\n",
      "not\n",
      "believe\n",
      "in\n",
      "the\n",
      "truth\n",
      "of\n",
      "the\n",
      "complaint\n",
      ",\n",
      "also\n",
      "give\n",
      "him\n",
      "the\n",
      "letter\n",
      "he\n",
      "had\n",
      "received\n",
      "from\n",
      "the\n",
      "emperor\n",
      "which\n",
      "contains\n",
      "the\n",
      "hour\n",
      "of\n",
      "the\n",
      "guard\n",
      "who\n",
      "they\n",
      "watch\n",
      "Villefort\n",
      "wa\n",
      "going\n",
      "to\n",
      "let\n",
      "the\n",
      "boy\n",
      "go\n",
      "but\n",
      "he\n",
      "asks\n",
      "for\n",
      "the\n",
      "recipient\n",
      "of\n",
      "the\n",
      "letter\n",
      ",\n",
      "Noirtier\n",
      ",\n",
      "and\n",
      "when\n",
      "he\n",
      "know\n",
      "this\n",
      "fact\n",
      "he\n",
      "arrest\n",
      "Dantes\n",
      "in\n",
      "the\n",
      "castle\n",
      "of\n",
      "If\n",
      ".\n",
      "Noirtier\n",
      "is\n",
      "the\n",
      "father\n",
      "of\n",
      "Villefort\n",
      "and\n",
      "can\n",
      "not\n",
      "allow\n",
      "himself\n",
      "to\n",
      "be\n",
      "involved\n",
      "in\n",
      "a\n",
      "treason\n",
      "issue\n",
      "by\n",
      "helping\n",
      "the\n",
      "emperor\n",
      "return\n",
      "to\n",
      "France\n",
      ",\n",
      "denying\n",
      "all\n",
      "his\n",
      "chance\n",
      "of\n",
      "becoming\n",
      "an\n",
      "important\n",
      "person\n",
      "in\n",
      "the\n",
      "country\n",
      ".\n"
     ]
    }
   ],
   "source": [
    "for word in tokens:\n",
    "    print(lemmatizer.lemmatize(word))"
   ]
  },
  {
   "cell_type": "markdown",
   "metadata": {},
   "source": [
    "# Conclusiones"
   ]
  },
  {
   "cell_type": "markdown",
   "metadata": {},
   "source": [
    "En nuestro analisis de texto en español, obtenemos los siguientes resultados"
   ]
  },
  {
   "cell_type": "markdown",
   "metadata": {},
   "source": [
    "- Número total de líneas: 3\n",
    "- Número total de letras: 1731 mayor número de palabras para explicar la misma información que en inglés\n",
    "- Formato de texto: string\n",
    "- Tipo de idioma reconocido: español\n",
    "- Divisón en frases y Tokenización del texto: devuelve las frases y la división por palabras en español, la cual resulta ser más compleja que con el inglés, debido a la amplitud de cambios gramaticales que existen con los tiempos en pasado.\n"
   ]
  },
  {
   "cell_type": "markdown",
   "metadata": {},
   "source": [
    "Por otra parte, de nuestro análisis en inglés:"
   ]
  },
  {
   "cell_type": "markdown",
   "metadata": {},
   "source": [
    "- Número total de líneas: 3\n",
    "- Número total de letras: 1657\n",
    "- Formato de texto: string\n",
    "- Tipo de idioma reconocido: español\n",
    "- Divisón en frases y Tokenización del texto: devuelve las frases y la división por palabras en inglés mucho mejor y más conciso."
   ]
  }
 ],
 "metadata": {
  "kernelspec": {
   "display_name": "Python 3",
   "language": "python",
   "name": "python3"
  },
  "language_info": {
   "codemirror_mode": {
    "name": "ipython",
    "version": 3
   },
   "file_extension": ".py",
   "mimetype": "text/x-python",
   "name": "python",
   "nbconvert_exporter": "python",
   "pygments_lexer": "ipython3",
   "version": "3.7.0"
  },
  "toc": {
   "base_numbering": 1,
   "nav_menu": {},
   "number_sections": true,
   "sideBar": true,
   "skip_h1_title": false,
   "title_cell": "Table of Contents",
   "title_sidebar": "Contents",
   "toc_cell": false,
   "toc_position": {
    "height": "calc(100% - 180px)",
    "left": "10px",
    "top": "150px",
    "width": "303.825px"
   },
   "toc_section_display": true,
   "toc_window_display": false
  }
 },
 "nbformat": 4,
 "nbformat_minor": 2
}

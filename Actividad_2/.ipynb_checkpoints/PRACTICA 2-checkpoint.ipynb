{
 "cells": [
  {
   "cell_type": "markdown",
   "metadata": {},
   "source": [
    "## PRACTICA DE EXTRACCIÓN DE ENTIDADES"
   ]
  },
  {
   "cell_type": "markdown",
   "metadata": {},
   "source": [
    "### Alumno: JORGE CASAN VÁZQUEZ"
   ]
  },
  {
   "cell_type": "markdown",
   "metadata": {},
   "source": [
    "Objetivo: El objetivo de esta práctica es realizar un script que extraiga las entidades que se presenten en un texto. Las entidades a extraer serán de tipo organización, localización y persona"
   ]
  },
  {
   "cell_type": "markdown",
   "metadata": {},
   "source": [
    "Para realizar esta tarea se utilizará un sistema ya entrenado, fundamentalmente el entrenamiento con que se cuenta en NLTK"
   ]
  },
  {
   "cell_type": "markdown",
   "metadata": {},
   "source": [
    "# EJERCICO 1:  "
   ]
  },
  {
   "cell_type": "markdown",
   "metadata": {},
   "source": [
    "## Obtenga dos ficheros en formato txt, uno de ellos en ingles y otro en español, que contengan textos con entidades a extraer. Busque textos con un conjunto amplio de entidades, no se limite a dos o tres de cada tipo"
   ]
  },
  {
   "cell_type": "code",
   "execution_count": 1,
   "metadata": {},
   "outputs": [],
   "source": [
    "import nltk, re, pprint\n",
    "import textacy\n",
    "import pandas as pd\n",
    "import langdetect\n",
    "from langdetect import detect\n",
    "from nltk.stem import WordNetLemmatizer"
   ]
  },
  {
   "cell_type": "markdown",
   "metadata": {},
   "source": [
    "Para el texto en español"
   ]
  },
  {
   "cell_type": "code",
   "execution_count": 2,
   "metadata": {},
   "outputs": [],
   "source": [
    "text_espanol= open('Texto en espanol.txt', encoding='utf-8')\n",
    "txt_esp = text_espanol.read()"
   ]
  },
  {
   "cell_type": "code",
   "execution_count": 3,
   "metadata": {},
   "outputs": [
    {
     "data": {
      "text/plain": [
       "str"
      ]
     },
     "execution_count": 3,
     "metadata": {},
     "output_type": "execute_result"
    }
   ],
   "source": [
    "type(txt_esp)"
   ]
  },
  {
   "cell_type": "code",
   "execution_count": 4,
   "metadata": {},
   "outputs": [
    {
     "name": "stdout",
     "output_type": "stream",
     "text": [
      "\n",
      "Idioma:  es\n"
     ]
    }
   ],
   "source": [
    "print(\"\\nIdioma: \", textacy.text_utils.detect_language(str(txt_esp)))"
   ]
  },
  {
   "cell_type": "code",
   "execution_count": 5,
   "metadata": {},
   "outputs": [
    {
     "name": "stdout",
     "output_type": "stream",
     "text": [
      "Idioma segun langdetect:  es\n"
     ]
    }
   ],
   "source": [
    "print (\"Idioma segun langdetect: \", detect(str(txt_esp)))"
   ]
  },
  {
   "cell_type": "markdown",
   "metadata": {},
   "source": [
    "Para el texto en inglés"
   ]
  },
  {
   "cell_type": "code",
   "execution_count": 6,
   "metadata": {},
   "outputs": [],
   "source": [
    "text_ingles= open('Texto_ingles.txt')\n",
    "txt_ingles = text_ingles.read()"
   ]
  },
  {
   "cell_type": "code",
   "execution_count": 7,
   "metadata": {},
   "outputs": [
    {
     "data": {
      "text/plain": [
       "str"
      ]
     },
     "execution_count": 7,
     "metadata": {},
     "output_type": "execute_result"
    }
   ],
   "source": [
    "type(txt_ingles)"
   ]
  },
  {
   "cell_type": "code",
   "execution_count": 8,
   "metadata": {},
   "outputs": [
    {
     "name": "stdout",
     "output_type": "stream",
     "text": [
      "\n",
      "Idioma:  en\n"
     ]
    }
   ],
   "source": [
    "print(\"\\nIdioma: \", textacy.text_utils.detect_language(str(text_ingles)))"
   ]
  },
  {
   "cell_type": "code",
   "execution_count": 9,
   "metadata": {},
   "outputs": [
    {
     "name": "stdout",
     "output_type": "stream",
     "text": [
      "Idioma segun langdetect:  en\n"
     ]
    }
   ],
   "source": [
    "print (\"Idioma segun langdetect: \", detect(str(text_ingles)))"
   ]
  },
  {
   "cell_type": "markdown",
   "metadata": {},
   "source": [
    "# EJERCICIO 2 "
   ]
  },
  {
   "cell_type": "markdown",
   "metadata": {},
   "source": [
    "## Lea estos textos desde un programa Python, y realice las labores de pre-procesamiento habituales: división en frases, división en palabras y conversión a las formas normales. Utilice instrucciones como nltk.sent_tokenize()"
   ]
  },
  {
   "cell_type": "markdown",
   "metadata": {},
   "source": [
    "Con el texto en español, lo que haremos será:\n",
    "- Division en frases\n",
    "- División en palabras\n",
    "- Convesión a las formas normales"
   ]
  },
  {
   "cell_type": "code",
   "execution_count": 10,
   "metadata": {},
   "outputs": [
    {
     "name": "stdout",
     "output_type": "stream",
     "text": [
      "\n",
      "Frases:  ['A pesar de la tradición, que ha llegado a nuestros días, hoy por hoy sepuede afirmar que Rómulo - el fundador de Roma - no existió, y que laverdadera fundación de Roma sería a manos de Tarquinio Prisco a principiosdel siglo VI.', 'Los datos que se extraen de la literatura romana, aseguran sufundación a mediados del siglo VIII por Rómulo, pero por el contrario, losdatos arqueológicos no permiten hablar de un nacimiento urbano antes del625 o incluso del 575 a.C.El mismo caso ocurre en el momento de fechar el principio de laRepública, el 509 a. C. año que la tradición fija como el principio de laRepública, y el 450 a.C. que, según otros datos históricos, se corresponderíamejor con los cambios históricos de una nueva época en la política romana\\n\\nSe llama República al periodo de la historia de Roma caracterizado por elrégimen republicano como forma de gobierno, que se extiende desde el510 a.C., cuando se puso fin a la monarquía con la expulsión del último rey,Lucio Tarquino el Soberbio, hasta el 27 a.C., fecha en que tuvo su inicio elImperio.Augusto estableció algunos servicios públicos durante este periodo, elmás importante era el ser prefecto de la ciudad; vigilantes nocturnos;bomberos, para prevenir incendios y castigar a los que los provocaran.Entre otros servicios.', 'Pero todos ellos eran de propiedad imperial.La tradición sitúa el establecimiento de la República entre los años509-510 a.C. Así comienza otra etapa fundamental de la historia de Romaque dura dos siglos y medio, en la cual Roma se prepara para dominar lapenínsula itálica, después el Mediterráneo para acabar dominando en elImperio casi todo el mundo hasta el entonces conocido.', 'En sustitución del rey, el conjunto de la ciudadanía elegía anualmente ados magistrados, conocidos como pretores (o jefes militares), que más tarderecibieron el título de cónsules.', 'El carácter del Senado, ya existente durantela monarquía, fue modificado al ingresar en él los plebeyos, conocidos como conscripti (conscriptos).En el 494 a.C., la secesión (retirada) al Aventino (una de las siete colinas deRoma) de los plebeyos, obligó a las clases patricias a conceder la instituciónde los tribuni plebis (tribunos de la plebe) que eran elegidos anualmente \\n) como representantes de los plebeyos para la defensa de sus intereses.Estos cambios políticos dieron paso a una nueva aristocracia compuesta por patricios y plebeyos enriquecidos y propiciaron que el ingreso en el Senadofuera casi un privilegio hereditario de estas familias.']\n"
     ]
    }
   ],
   "source": [
    "frases = nltk.sent_tokenize(str(txt_esp))\n",
    "print(\"\\nFrases: \", frases)"
   ]
  },
  {
   "cell_type": "code",
   "execution_count": 11,
   "metadata": {},
   "outputs": [
    {
     "name": "stdout",
     "output_type": "stream",
     "text": [
      "\n",
      "Palabras:  ['A', 'pesar', 'de', 'la', 'tradición', ',', 'que', 'ha', 'llegado', 'a', 'nuestros', 'días', ',', 'hoy', 'por', 'hoy', 'sepuede', 'afirmar', 'que', 'Rómulo', '-', 'el', 'fundador', 'de', 'Roma', '-', 'no', 'existió', ',', 'y', 'que', 'laverdadera', 'fundación', 'de', 'Roma', 'sería', 'a', 'manos', 'de', 'Tarquinio', 'Prisco', 'a', 'principiosdel', 'siglo', 'VI', '.', 'Los', 'datos', 'que', 'se', 'extraen', 'de', 'la', 'literatura', 'romana', ',', 'aseguran', 'sufundación', 'a', 'mediados', 'del', 'siglo', 'VIII', 'por', 'Rómulo', ',', 'pero', 'por', 'el', 'contrario', ',', 'losdatos', 'arqueológicos', 'no', 'permiten', 'hablar', 'de', 'un', 'nacimiento', 'urbano', 'antes', 'del625', 'o', 'incluso', 'del', '575', 'a.C.El', 'mismo', 'caso', 'ocurre', 'en', 'el', 'momento', 'de', 'fechar', 'el', 'principio', 'de', 'laRepública', ',', 'el', '509', 'a.', 'C.', 'año', 'que', 'la', 'tradición', 'fija', 'como', 'el', 'principio', 'de', 'laRepública', ',', 'y', 'el', '450', 'a.C.', 'que', ',', 'según', 'otros', 'datos', 'históricos', ',', 'se', 'corresponderíamejor', 'con', 'los', 'cambios', 'históricos', 'de', 'una', 'nueva', 'época', 'en', 'la', 'política', 'romana', 'Se', 'llama', 'República', 'al', 'periodo', 'de', 'la', 'historia', 'de', 'Roma', 'caracterizado', 'por', 'elrégimen', 'republicano', 'como', 'forma', 'de', 'gobierno', ',', 'que', 'se', 'extiende', 'desde', 'el510', 'a.C.', ',', 'cuando', 'se', 'puso', 'fin', 'a', 'la', 'monarquía', 'con', 'la', 'expulsión', 'del', 'último', 'rey', ',', 'Lucio', 'Tarquino', 'el', 'Soberbio', ',', 'hasta', 'el', '27', 'a.C.', ',', 'fecha', 'en', 'que', 'tuvo', 'su', 'inicio', 'elImperio.Augusto', 'estableció', 'algunos', 'servicios', 'públicos', 'durante', 'este', 'periodo', ',', 'elmás', 'importante', 'era', 'el', 'ser', 'prefecto', 'de', 'la', 'ciudad', ';', 'vigilantes', 'nocturnos', ';', 'bomberos', ',', 'para', 'prevenir', 'incendios', 'y', 'castigar', 'a', 'los', 'que', 'los', 'provocaran.Entre', 'otros', 'servicios', '.', 'Pero', 'todos', 'ellos', 'eran', 'de', 'propiedad', 'imperial.La', 'tradición', 'sitúa', 'el', 'establecimiento', 'de', 'la', 'República', 'entre', 'los', 'años509-510', 'a.C.', 'Así', 'comienza', 'otra', 'etapa', 'fundamental', 'de', 'la', 'historia', 'de', 'Romaque', 'dura', 'dos', 'siglos', 'y', 'medio', ',', 'en', 'la', 'cual', 'Roma', 'se', 'prepara', 'para', 'dominar', 'lapenínsula', 'itálica', ',', 'después', 'el', 'Mediterráneo', 'para', 'acabar', 'dominando', 'en', 'elImperio', 'casi', 'todo', 'el', 'mundo', 'hasta', 'el', 'entonces', 'conocido', '.', 'En', 'sustitución', 'del', 'rey', ',', 'el', 'conjunto', 'de', 'la', 'ciudadanía', 'elegía', 'anualmente', 'ados', 'magistrados', ',', 'conocidos', 'como', 'pretores', '(', 'o', 'jefes', 'militares', ')', ',', 'que', 'más', 'tarderecibieron', 'el', 'título', 'de', 'cónsules', '.', 'El', 'carácter', 'del', 'Senado', ',', 'ya', 'existente', 'durantela', 'monarquía', ',', 'fue', 'modificado', 'al', 'ingresar', 'en', 'él', 'los', 'plebeyos', ',', 'conocidos', 'como', 'conscripti', '(', 'conscriptos', ')', '.En', 'el', '494', 'a.C.', ',', 'la', 'secesión', '(', 'retirada', ')', 'al', 'Aventino', '(', 'una', 'de', 'las', 'siete', 'colinas', 'deRoma', ')', 'de', 'los', 'plebeyos', ',', 'obligó', 'a', 'las', 'clases', 'patricias', 'a', 'conceder', 'la', 'instituciónde', 'los', 'tribuni', 'plebis', '(', 'tribunos', 'de', 'la', 'plebe', ')', 'que', 'eran', 'elegidos', 'anualmente', ')', 'como', 'representantes', 'de', 'los', 'plebeyos', 'para', 'la', 'defensa', 'de', 'sus', 'intereses.Estos', 'cambios', 'políticos', 'dieron', 'paso', 'a', 'una', 'nueva', 'aristocracia', 'compuesta', 'por', 'patricios', 'y', 'plebeyos', 'enriquecidos', 'y', 'propiciaron', 'que', 'el', 'ingreso', 'en', 'el', 'Senadofuera', 'casi', 'un', 'privilegio', 'hereditario', 'de', 'estas', 'familias', '.']\n"
     ]
    }
   ],
   "source": [
    "palabras = nltk.word_tokenize(txt_esp)\n",
    "print(\"\\nPalabras: \", palabras)"
   ]
  },
  {
   "cell_type": "code",
   "execution_count": 12,
   "metadata": {},
   "outputs": [
    {
     "name": "stdout",
     "output_type": "stream",
     "text": [
      "\n",
      "Lemas\n",
      "A                   A                   \n",
      "pesar               pesar               \n",
      "de                  de                  \n",
      "la                  la                  \n",
      "tradición           tradición           \n",
      ",                   ,                   \n",
      "que                 que                 \n",
      "ha                  ha                  \n",
      "llegado             llegado             \n",
      "a                   a                   \n",
      "nuestros            nuestros            \n",
      "días                días                \n",
      ",                   ,                   \n",
      "hoy                 hoy                 \n",
      "por                 por                 \n",
      "hoy                 hoy                 \n",
      "sepuede             sepuede             \n",
      "afirmar             afirmar             \n",
      "que                 que                 \n",
      "Rómulo              Rómulo              \n",
      "-                   -                   \n",
      "el                  el                  \n",
      "fundador            fundador            \n",
      "de                  de                  \n",
      "Roma                Roma                \n",
      "-                   -                   \n",
      "no                  no                  \n",
      "existió             existió             \n",
      ",                   ,                   \n",
      "y                   y                   \n",
      "que                 que                 \n",
      "laverdadera         laverdadera         \n",
      "fundación           fundación           \n",
      "de                  de                  \n",
      "Roma                Roma                \n",
      "sería               sería               \n",
      "a                   a                   \n",
      "manos               manos               \n",
      "de                  de                  \n",
      "Tarquinio           Tarquinio           \n",
      "Prisco              Prisco              \n",
      "a                   a                   \n",
      "principiosdel       principiosdel       \n",
      "siglo               siglo               \n",
      "VI                  VI                  \n",
      ".                   .                   \n",
      "Los                 Los                 \n",
      "datos               datos               \n",
      "que                 que                 \n",
      "se                  se                  \n",
      "extraen             extraen             \n",
      "de                  de                  \n",
      "la                  la                  \n",
      "literatura          literatura          \n",
      "romana              romana              \n",
      ",                   ,                   \n",
      "aseguran            aseguran            \n",
      "sufundación         sufundación         \n",
      "a                   a                   \n",
      "mediados            mediados            \n",
      "del                 del                 \n",
      "siglo               siglo               \n",
      "VIII                VIII                \n",
      "por                 por                 \n",
      "Rómulo              Rómulo              \n",
      ",                   ,                   \n",
      "pero                pero                \n",
      "por                 por                 \n",
      "el                  el                  \n",
      "contrario           contrario           \n",
      ",                   ,                   \n",
      "losdatos            losdatos            \n",
      "arqueológicos       arqueológicos       \n",
      "no                  no                  \n",
      "permiten            permiten            \n",
      "hablar              hablar              \n",
      "de                  de                  \n",
      "un                  un                  \n",
      "nacimiento          nacimiento          \n",
      "urbano              urbano              \n",
      "antes               ante                \n",
      "del625              del625              \n",
      "o                   o                   \n",
      "incluso             incluso             \n",
      "del                 del                 \n",
      "575                 575                 \n",
      "a.C.El              a.C.El              \n",
      "mismo               mismo               \n",
      "caso                caso                \n",
      "ocurre              ocurre              \n",
      "en                  en                  \n",
      "el                  el                  \n",
      "momento             momento             \n",
      "de                  de                  \n",
      "fechar              fechar              \n",
      "el                  el                  \n",
      "principio           principio           \n",
      "de                  de                  \n",
      "laRepública         laRepública         \n",
      ",                   ,                   \n",
      "el                  el                  \n",
      "509                 509                 \n",
      "a.                  a.                  \n",
      "C.                  C.                  \n",
      "año                 año                 \n",
      "que                 que                 \n",
      "la                  la                  \n",
      "tradición           tradición           \n",
      "fija                fija                \n",
      "como                como                \n",
      "el                  el                  \n",
      "principio           principio           \n",
      "de                  de                  \n",
      "laRepública         laRepública         \n",
      ",                   ,                   \n",
      "y                   y                   \n",
      "el                  el                  \n",
      "450                 450                 \n",
      "a.C.                a.C.                \n",
      "que                 que                 \n",
      ",                   ,                   \n",
      "según               según               \n",
      "otros               otros               \n",
      "datos               datos               \n",
      "históricos          históricos          \n",
      ",                   ,                   \n",
      "se                  se                  \n",
      "corresponderíamejor corresponderíamejor \n",
      "con                 con                 \n",
      "los                 los                 \n",
      "cambios             cambios             \n",
      "históricos          históricos          \n",
      "de                  de                  \n",
      "una                 una                 \n",
      "nueva               nueva               \n",
      "época               época               \n",
      "en                  en                  \n",
      "la                  la                  \n",
      "política            política            \n",
      "romana              romana              \n",
      "Se                  Se                  \n",
      "llama               llama               \n",
      "República           República           \n",
      "al                  al                  \n",
      "periodo             periodo             \n",
      "de                  de                  \n",
      "la                  la                  \n",
      "historia            historia            \n",
      "de                  de                  \n",
      "Roma                Roma                \n",
      "caracterizado       caracterizado       \n",
      "por                 por                 \n",
      "elrégimen           elrégimen           \n",
      "republicano         republicano         \n",
      "como                como                \n",
      "forma               forma               \n",
      "de                  de                  \n",
      "gobierno            gobierno            \n",
      ",                   ,                   \n",
      "que                 que                 \n",
      "se                  se                  \n",
      "extiende            extiende            \n",
      "desde               desde               \n",
      "el510               el510               \n",
      "a.C.                a.C.                \n",
      ",                   ,                   \n",
      "cuando              cuando              \n",
      "se                  se                  \n",
      "puso                puso                \n",
      "fin                 fin                 \n",
      "a                   a                   \n",
      "la                  la                  \n",
      "monarquía           monarquía           \n",
      "con                 con                 \n",
      "la                  la                  \n",
      "expulsión           expulsión           \n",
      "del                 del                 \n",
      "último              último              \n",
      "rey                 rey                 \n",
      ",                   ,                   \n",
      "Lucio               Lucio               \n",
      "Tarquino            Tarquino            \n",
      "el                  el                  \n",
      "Soberbio            Soberbio            \n",
      ",                   ,                   \n",
      "hasta               hasta               \n",
      "el                  el                  \n",
      "27                  27                  \n",
      "a.C.                a.C.                \n",
      ",                   ,                   \n",
      "fecha               fecha               \n",
      "en                  en                  \n",
      "que                 que                 \n",
      "tuvo                tuvo                \n",
      "su                  su                  \n",
      "inicio              inicio              \n",
      "elImperio.Augusto   elImperio.Augusto   \n",
      "estableció          estableció          \n",
      "algunos             algunos             \n"
     ]
    },
    {
     "name": "stdout",
     "output_type": "stream",
     "text": [
      "servicios           servicios           \n",
      "públicos            públicos            \n",
      "durante             durante             \n",
      "este                este                \n",
      "periodo             periodo             \n",
      ",                   ,                   \n",
      "elmás               elmás               \n",
      "importante          importante          \n",
      "era                 era                 \n",
      "el                  el                  \n",
      "ser                 ser                 \n",
      "prefecto            prefecto            \n",
      "de                  de                  \n",
      "la                  la                  \n",
      "ciudad              ciudad              \n",
      ";                   ;                   \n",
      "vigilantes          vigilantes          \n",
      "nocturnos           nocturnos           \n",
      ";                   ;                   \n",
      "bomberos            bomberos            \n",
      ",                   ,                   \n",
      "para                para                \n",
      "prevenir            prevenir            \n",
      "incendios           incendios           \n",
      "y                   y                   \n",
      "castigar            castigar            \n",
      "a                   a                   \n",
      "los                 los                 \n",
      "que                 que                 \n",
      "los                 los                 \n",
      "provocaran.Entre    provocaran.Entre    \n",
      "otros               otros               \n",
      "servicios           servicios           \n",
      ".                   .                   \n",
      "Pero                Pero                \n",
      "todos               todos               \n",
      "ellos               ellos               \n",
      "eran                eran                \n",
      "de                  de                  \n",
      "propiedad           propiedad           \n",
      "imperial.La         imperial.La         \n",
      "tradición           tradición           \n",
      "sitúa               sitúa               \n",
      "el                  el                  \n",
      "establecimiento     establecimiento     \n",
      "de                  de                  \n",
      "la                  la                  \n",
      "República           República           \n",
      "entre               entre               \n",
      "los                 los                 \n",
      "años509-510         años509-510         \n",
      "a.C.                a.C.                \n",
      "Así                 Así                 \n",
      "comienza            comienza            \n",
      "otra                otra                \n",
      "etapa               etapa               \n",
      "fundamental         fundamental         \n",
      "de                  de                  \n",
      "la                  la                  \n",
      "historia            historia            \n",
      "de                  de                  \n",
      "Romaque             Romaque             \n",
      "dura                dura                \n",
      "dos                 do                  \n",
      "siglos              siglos              \n",
      "y                   y                   \n",
      "medio               medio               \n",
      ",                   ,                   \n",
      "en                  en                  \n",
      "la                  la                  \n",
      "cual                cual                \n",
      "Roma                Roma                \n",
      "se                  se                  \n",
      "prepara             prepara             \n",
      "para                para                \n",
      "dominar             dominar             \n",
      "lapenínsula         lapenínsula         \n",
      "itálica             itálica             \n",
      ",                   ,                   \n",
      "después             después             \n",
      "el                  el                  \n",
      "Mediterráneo        Mediterráneo        \n",
      "para                para                \n",
      "acabar              acabar              \n",
      "dominando           dominando           \n",
      "en                  en                  \n",
      "elImperio           elImperio           \n",
      "casi                casi                \n",
      "todo                todo                \n",
      "el                  el                  \n",
      "mundo               mundo               \n",
      "hasta               hasta               \n",
      "el                  el                  \n",
      "entonces            entonces            \n",
      "conocido            conocido            \n",
      ".                   .                   \n",
      "En                  En                  \n",
      "sustitución         sustitución         \n",
      "del                 del                 \n",
      "rey                 rey                 \n",
      ",                   ,                   \n",
      "el                  el                  \n",
      "conjunto            conjunto            \n",
      "de                  de                  \n",
      "la                  la                  \n",
      "ciudadanía          ciudadanía          \n",
      "elegía              elegía              \n",
      "anualmente          anualmente          \n",
      "ados                ados                \n",
      "magistrados         magistrados         \n",
      ",                   ,                   \n",
      "conocidos           conocidos           \n",
      "como                como                \n",
      "pretores            pretores            \n",
      "(                   (                   \n",
      "o                   o                   \n",
      "jefes               jefes               \n",
      "militares           militares           \n",
      ")                   )                   \n",
      ",                   ,                   \n",
      "que                 que                 \n",
      "más                 más                 \n",
      "tarderecibieron     tarderecibieron     \n",
      "el                  el                  \n",
      "título              título              \n",
      "de                  de                  \n",
      "cónsules            cónsules            \n",
      ".                   .                   \n",
      "El                  El                  \n",
      "carácter            carácter            \n",
      "del                 del                 \n",
      "Senado              Senado              \n",
      ",                   ,                   \n",
      "ya                  ya                  \n",
      "existente           existente           \n",
      "durantela           durantela           \n",
      "monarquía           monarquía           \n",
      ",                   ,                   \n",
      "fue                 fue                 \n",
      "modificado          modificado          \n",
      "al                  al                  \n",
      "ingresar            ingresar            \n",
      "en                  en                  \n",
      "él                  él                  \n",
      "los                 los                 \n",
      "plebeyos            plebeyos            \n",
      ",                   ,                   \n",
      "conocidos           conocidos           \n",
      "como                como                \n",
      "conscripti          conscripti          \n",
      "(                   (                   \n",
      "conscriptos         conscriptos         \n",
      ")                   )                   \n",
      ".En                 .En                 \n",
      "el                  el                  \n",
      "494                 494                 \n",
      "a.C.                a.C.                \n",
      ",                   ,                   \n",
      "la                  la                  \n",
      "secesión            secesión            \n",
      "(                   (                   \n",
      "retirada            retirada            \n",
      ")                   )                   \n",
      "al                  al                  \n",
      "Aventino            Aventino            \n",
      "(                   (                   \n",
      "una                 una                 \n",
      "de                  de                  \n",
      "las                 las                 \n",
      "siete               siete               \n",
      "colinas             colinas             \n",
      "deRoma              deRoma              \n",
      ")                   )                   \n",
      "de                  de                  \n",
      "los                 los                 \n",
      "plebeyos            plebeyos            \n",
      ",                   ,                   \n",
      "obligó              obligó              \n",
      "a                   a                   \n",
      "las                 las                 \n",
      "clases              clases              \n",
      "patricias           patricias           \n",
      "a                   a                   \n",
      "conceder            conceder            \n",
      "la                  la                  \n",
      "instituciónde       instituciónde       \n",
      "los                 los                 \n",
      "tribuni             tribuni             \n",
      "plebis              plebis              \n",
      "(                   (                   \n",
      "tribunos            tribunos            \n",
      "de                  de                  \n",
      "la                  la                  \n",
      "plebe               plebe               \n",
      ")                   )                   \n",
      "que                 que                 \n",
      "eran                eran                \n",
      "elegidos            elegidos            \n",
      "anualmente          anualmente          \n"
     ]
    },
    {
     "name": "stdout",
     "output_type": "stream",
     "text": [
      ")                   )                   \n",
      "como                como                \n",
      "representantes      representantes      \n",
      "de                  de                  \n",
      "los                 los                 \n",
      "plebeyos            plebeyos            \n",
      "para                para                \n",
      "la                  la                  \n",
      "defensa             defensa             \n",
      "de                  de                  \n",
      "sus                 sus                 \n",
      "intereses.Estos     intereses.Estos     \n",
      "cambios             cambios             \n",
      "políticos           políticos           \n",
      "dieron              dieron              \n",
      "paso                paso                \n",
      "a                   a                   \n",
      "una                 una                 \n",
      "nueva               nueva               \n",
      "aristocracia        aristocracia        \n",
      "compuesta           compuesta           \n",
      "por                 por                 \n",
      "patricios           patricios           \n",
      "y                   y                   \n",
      "plebeyos            plebeyos            \n",
      "enriquecidos        enriquecidos        \n",
      "y                   y                   \n",
      "propiciaron         propiciaron         \n",
      "que                 que                 \n",
      "el                  el                  \n",
      "ingreso             ingreso             \n",
      "en                  en                  \n",
      "el                  el                  \n",
      "Senadofuera         Senadofuera         \n",
      "casi                casi                \n",
      "un                  un                  \n",
      "privilegio          privilegio          \n",
      "hereditario         hereditario         \n",
      "de                  de                  \n",
      "estas               estas               \n",
      "familias            familias            \n",
      ".                   .                   \n"
     ]
    }
   ],
   "source": [
    "print(\"\\nLemas\")\n",
    "wordnet_lemmatizer = WordNetLemmatizer()\n",
    "for palabra in palabras:\n",
    "    print (\"{0:20}{1:20}\".format(palabra,wordnet_lemmatizer.lemmatize(palabra, pos=\"v\")))"
   ]
  },
  {
   "cell_type": "markdown",
   "metadata": {},
   "source": [
    "Realizamos la misma tarea para el texto en inglés"
   ]
  },
  {
   "cell_type": "code",
   "execution_count": 13,
   "metadata": {},
   "outputs": [
    {
     "name": "stdout",
     "output_type": "stream",
     "text": [
      "\n",
      "Frases:  ['\\nIn spite of the tradition that has reached our days, today we can affirm that Romulus - the founder of Rome - did not exist, and that the true foundation of Rome would be at the hands of Tarquinius Prisco at the beginning of the 6th century.', 'The data extracted from Roman literature, assure suffocation in the middle of the eighth century by Romulus, but on the contrary, the archaeological data do not allow to speak of an urban birth before 625 or even 575 aCEl same case occurs at the time of dating the beginning of the Republic, 509 a. C. year that the tradition fixes as the beginning of the Republic, and 450 a.C. that, according to other historical data, would correspond better with the historical changes of a new epoch in Roman politics\\n\\nRepublic is called the period of the history of Rome characterized by the republican regime as a form of government, which extends from 510 BC, when the monarchy ended with the expulsion of the last king, Lucius Tarquino the Superb, until 27 BC, date on which the Empire began.', 'Augusto established some public services during this period, the most important being the prefect of the city; night watchmen, firemen, to prevent fires and punish those who provoked them.', 'Among other services.', 'But all of them were of imperial property.', 'The tradition locates the establishment of the Republic between the years 509-510 a.C.', 'Thus begins another fundamental stage in the history of Rome that lasts two and a half centuries, in which Rome is preparing to dominate the Italic peninsula, then the Mediterranean to eventually dominate almost everyone in the Empire until then known.', 'In substitution of the king, the group of citizens elected annually two magistrates, known as praetors (or military chiefs), who later received the title of consuls.', 'The character of the Senate, already existing during the monarchy, was modified when the commoners entered it, known as conscripti (conscripts).', 'In 494 BC, the secession (withdrawal) to the Aventine (one of the seven hills of Rome) of the plebeians, forced the patrician classes to grant the institution of the tribuni plebis (tribunes of the plebs) who were elected annually\\n) as representatives of the plebeians for the defense of their interests.', 'These political changes gave way to a new aristocracy composed of patricians and plebeians enriched and propitiated that the entry into the Senate is almost a hereditary privilege of these families.']\n"
     ]
    }
   ],
   "source": [
    "frases_ingles = nltk.sent_tokenize(str(txt_ingles))\n",
    "print(\"\\nFrases: \", frases_ingles)"
   ]
  },
  {
   "cell_type": "code",
   "execution_count": 14,
   "metadata": {},
   "outputs": [
    {
     "name": "stdout",
     "output_type": "stream",
     "text": [
      "\n",
      "Palabras:  ['In', 'spite', 'of', 'the', 'tradition', 'that', 'has', 'reached', 'our', 'days', ',', 'today', 'we', 'can', 'affirm', 'that', 'Romulus', '-', 'the', 'founder', 'of', 'Rome', '-', 'did', 'not', 'exist', ',', 'and', 'that', 'the', 'true', 'foundation', 'of', 'Rome', 'would', 'be', 'at', 'the', 'hands', 'of', 'Tarquinius', 'Prisco', 'at', 'the', 'beginning', 'of', 'the', '6th', 'century', '.', 'The', 'data', 'extracted', 'from', 'Roman', 'literature', ',', 'assure', 'suffocation', 'in', 'the', 'middle', 'of', 'the', 'eighth', 'century', 'by', 'Romulus', ',', 'but', 'on', 'the', 'contrary', ',', 'the', 'archaeological', 'data', 'do', 'not', 'allow', 'to', 'speak', 'of', 'an', 'urban', 'birth', 'before', '625', 'or', 'even', '575', 'aCEl', 'same', 'case', 'occurs', 'at', 'the', 'time', 'of', 'dating', 'the', 'beginning', 'of', 'the', 'Republic', ',', '509', 'a.', 'C.', 'year', 'that', 'the', 'tradition', 'fixes', 'as', 'the', 'beginning', 'of', 'the', 'Republic', ',', 'and', '450', 'a.C.', 'that', ',', 'according', 'to', 'other', 'historical', 'data', ',', 'would', 'correspond', 'better', 'with', 'the', 'historical', 'changes', 'of', 'a', 'new', 'epoch', 'in', 'Roman', 'politics', 'Republic', 'is', 'called', 'the', 'period', 'of', 'the', 'history', 'of', 'Rome', 'characterized', 'by', 'the', 'republican', 'regime', 'as', 'a', 'form', 'of', 'government', ',', 'which', 'extends', 'from', '510', 'BC', ',', 'when', 'the', 'monarchy', 'ended', 'with', 'the', 'expulsion', 'of', 'the', 'last', 'king', ',', 'Lucius', 'Tarquino', 'the', 'Superb', ',', 'until', '27', 'BC', ',', 'date', 'on', 'which', 'the', 'Empire', 'began', '.', 'Augusto', 'established', 'some', 'public', 'services', 'during', 'this', 'period', ',', 'the', 'most', 'important', 'being', 'the', 'prefect', 'of', 'the', 'city', ';', 'night', 'watchmen', ',', 'firemen', ',', 'to', 'prevent', 'fires', 'and', 'punish', 'those', 'who', 'provoked', 'them', '.', 'Among', 'other', 'services', '.', 'But', 'all', 'of', 'them', 'were', 'of', 'imperial', 'property', '.', 'The', 'tradition', 'locates', 'the', 'establishment', 'of', 'the', 'Republic', 'between', 'the', 'years', '509-510', 'a.C', '.', 'Thus', 'begins', 'another', 'fundamental', 'stage', 'in', 'the', 'history', 'of', 'Rome', 'that', 'lasts', 'two', 'and', 'a', 'half', 'centuries', ',', 'in', 'which', 'Rome', 'is', 'preparing', 'to', 'dominate', 'the', 'Italic', 'peninsula', ',', 'then', 'the', 'Mediterranean', 'to', 'eventually', 'dominate', 'almost', 'everyone', 'in', 'the', 'Empire', 'until', 'then', 'known', '.', 'In', 'substitution', 'of', 'the', 'king', ',', 'the', 'group', 'of', 'citizens', 'elected', 'annually', 'two', 'magistrates', ',', 'known', 'as', 'praetors', '(', 'or', 'military', 'chiefs', ')', ',', 'who', 'later', 'received', 'the', 'title', 'of', 'consuls', '.', 'The', 'character', 'of', 'the', 'Senate', ',', 'already', 'existing', 'during', 'the', 'monarchy', ',', 'was', 'modified', 'when', 'the', 'commoners', 'entered', 'it', ',', 'known', 'as', 'conscripti', '(', 'conscripts', ')', '.', 'In', '494', 'BC', ',', 'the', 'secession', '(', 'withdrawal', ')', 'to', 'the', 'Aventine', '(', 'one', 'of', 'the', 'seven', 'hills', 'of', 'Rome', ')', 'of', 'the', 'plebeians', ',', 'forced', 'the', 'patrician', 'classes', 'to', 'grant', 'the', 'institution', 'of', 'the', 'tribuni', 'plebis', '(', 'tribunes', 'of', 'the', 'plebs', ')', 'who', 'were', 'elected', 'annually', ')', 'as', 'representatives', 'of', 'the', 'plebeians', 'for', 'the', 'defense', 'of', 'their', 'interests', '.', 'These', 'political', 'changes', 'gave', 'way', 'to', 'a', 'new', 'aristocracy', 'composed', 'of', 'patricians', 'and', 'plebeians', 'enriched', 'and', 'propitiated', 'that', 'the', 'entry', 'into', 'the', 'Senate', 'is', 'almost', 'a', 'hereditary', 'privilege', 'of', 'these', 'families', '.']\n"
     ]
    }
   ],
   "source": [
    "palabras_ingles = nltk.word_tokenize(txt_ingles)\n",
    "print(\"\\nPalabras: \", palabras_ingles)"
   ]
  },
  {
   "cell_type": "code",
   "execution_count": 15,
   "metadata": {},
   "outputs": [
    {
     "name": "stdout",
     "output_type": "stream",
     "text": [
      "\n",
      "Lemas\n",
      "In                  In                  \n",
      "spite               spite               \n",
      "of                  of                  \n",
      "the                 the                 \n",
      "tradition           tradition           \n",
      "that                that                \n",
      "has                 have                \n",
      "reached             reach               \n",
      "our                 our                 \n",
      "days                days                \n",
      ",                   ,                   \n",
      "today               today               \n",
      "we                  we                  \n",
      "can                 can                 \n",
      "affirm              affirm              \n",
      "that                that                \n",
      "Romulus             Romulus             \n",
      "-                   -                   \n",
      "the                 the                 \n",
      "founder             founder             \n",
      "of                  of                  \n",
      "Rome                Rome                \n",
      "-                   -                   \n",
      "did                 do                  \n",
      "not                 not                 \n",
      "exist               exist               \n",
      ",                   ,                   \n",
      "and                 and                 \n",
      "that                that                \n",
      "the                 the                 \n",
      "true                true                \n",
      "foundation          foundation          \n",
      "of                  of                  \n",
      "Rome                Rome                \n",
      "would               would               \n",
      "be                  be                  \n",
      "at                  at                  \n",
      "the                 the                 \n",
      "hands               hand                \n",
      "of                  of                  \n",
      "Tarquinius          Tarquinius          \n",
      "Prisco              Prisco              \n",
      "at                  at                  \n",
      "the                 the                 \n",
      "beginning           begin               \n",
      "of                  of                  \n",
      "the                 the                 \n",
      "6th                 6th                 \n",
      "century             century             \n",
      ".                   .                   \n",
      "The                 The                 \n",
      "data                data                \n",
      "extracted           extract             \n",
      "from                from                \n",
      "Roman               Roman               \n",
      "literature          literature          \n",
      ",                   ,                   \n",
      "assure              assure              \n",
      "suffocation         suffocation         \n",
      "in                  in                  \n",
      "the                 the                 \n",
      "middle              middle              \n",
      "of                  of                  \n",
      "the                 the                 \n",
      "eighth              eighth              \n",
      "century             century             \n",
      "by                  by                  \n",
      "Romulus             Romulus             \n",
      ",                   ,                   \n",
      "but                 but                 \n",
      "on                  on                  \n",
      "the                 the                 \n",
      "contrary            contrary            \n",
      ",                   ,                   \n",
      "the                 the                 \n",
      "archaeological      archaeological      \n",
      "data                data                \n",
      "do                  do                  \n",
      "not                 not                 \n",
      "allow               allow               \n",
      "to                  to                  \n",
      "speak               speak               \n",
      "of                  of                  \n",
      "an                  an                  \n",
      "urban               urban               \n",
      "birth               birth               \n",
      "before              before              \n",
      "625                 625                 \n",
      "or                  or                  \n",
      "even                even                \n",
      "575                 575                 \n",
      "aCEl                aCEl                \n",
      "same                same                \n",
      "case                case                \n",
      "occurs              occur               \n",
      "at                  at                  \n",
      "the                 the                 \n",
      "time                time                \n",
      "of                  of                  \n",
      "dating              date                \n",
      "the                 the                 \n",
      "beginning           begin               \n",
      "of                  of                  \n",
      "the                 the                 \n",
      "Republic            Republic            \n",
      ",                   ,                   \n",
      "509                 509                 \n",
      "a.                  a.                  \n",
      "C.                  C.                  \n",
      "year                year                \n",
      "that                that                \n",
      "the                 the                 \n",
      "tradition           tradition           \n",
      "fixes               fix                 \n",
      "as                  as                  \n",
      "the                 the                 \n",
      "beginning           begin               \n",
      "of                  of                  \n",
      "the                 the                 \n",
      "Republic            Republic            \n",
      ",                   ,                   \n",
      "and                 and                 \n",
      "450                 450                 \n",
      "a.C.                a.C.                \n",
      "that                that                \n",
      ",                   ,                   \n",
      "according           accord              \n",
      "to                  to                  \n",
      "other               other               \n",
      "historical          historical          \n",
      "data                data                \n",
      ",                   ,                   \n",
      "would               would               \n",
      "correspond          correspond          \n",
      "better              better              \n",
      "with                with                \n",
      "the                 the                 \n",
      "historical          historical          \n",
      "changes             change              \n",
      "of                  of                  \n",
      "a                   a                   \n",
      "new                 new                 \n",
      "epoch               epoch               \n",
      "in                  in                  \n",
      "Roman               Roman               \n",
      "politics            politics            \n",
      "Republic            Republic            \n",
      "is                  be                  \n",
      "called              call                \n",
      "the                 the                 \n",
      "period              period              \n",
      "of                  of                  \n",
      "the                 the                 \n",
      "history             history             \n",
      "of                  of                  \n",
      "Rome                Rome                \n",
      "characterized       characterize        \n",
      "by                  by                  \n",
      "the                 the                 \n",
      "republican          republican          \n",
      "regime              regime              \n",
      "as                  as                  \n",
      "a                   a                   \n",
      "form                form                \n",
      "of                  of                  \n",
      "government          government          \n",
      ",                   ,                   \n",
      "which               which               \n",
      "extends             extend              \n",
      "from                from                \n",
      "510                 510                 \n",
      "BC                  BC                  \n",
      ",                   ,                   \n",
      "when                when                \n",
      "the                 the                 \n",
      "monarchy            monarchy            \n",
      "ended               end                 \n",
      "with                with                \n",
      "the                 the                 \n",
      "expulsion           expulsion           \n",
      "of                  of                  \n",
      "the                 the                 \n",
      "last                last                \n",
      "king                king                \n",
      ",                   ,                   \n",
      "Lucius              Lucius              \n",
      "Tarquino            Tarquino            \n",
      "the                 the                 \n",
      "Superb              Superb              \n",
      ",                   ,                   \n",
      "until               until               \n",
      "27                  27                  \n",
      "BC                  BC                  \n",
      ",                   ,                   \n",
      "date                date                \n",
      "on                  on                  \n",
      "which               which               \n",
      "the                 the                 \n",
      "Empire              Empire              \n"
     ]
    },
    {
     "name": "stdout",
     "output_type": "stream",
     "text": [
      "began               begin               \n",
      ".                   .                   \n",
      "Augusto             Augusto             \n",
      "established         establish           \n",
      "some                some                \n",
      "public              public              \n",
      "services            service             \n",
      "during              during              \n",
      "this                this                \n",
      "period              period              \n",
      ",                   ,                   \n",
      "the                 the                 \n",
      "most                most                \n",
      "important           important           \n",
      "being               be                  \n",
      "the                 the                 \n",
      "prefect             prefect             \n",
      "of                  of                  \n",
      "the                 the                 \n",
      "city                city                \n",
      ";                   ;                   \n",
      "night               night               \n",
      "watchmen            watchmen            \n",
      ",                   ,                   \n",
      "firemen             firemen             \n",
      ",                   ,                   \n",
      "to                  to                  \n",
      "prevent             prevent             \n",
      "fires               fire                \n",
      "and                 and                 \n",
      "punish              punish              \n",
      "those               those               \n",
      "who                 who                 \n",
      "provoked            provoke             \n",
      "them                them                \n",
      ".                   .                   \n",
      "Among               Among               \n",
      "other               other               \n",
      "services            service             \n",
      ".                   .                   \n",
      "But                 But                 \n",
      "all                 all                 \n",
      "of                  of                  \n",
      "them                them                \n",
      "were                be                  \n",
      "of                  of                  \n",
      "imperial            imperial            \n",
      "property            property            \n",
      ".                   .                   \n",
      "The                 The                 \n",
      "tradition           tradition           \n",
      "locates             locate              \n",
      "the                 the                 \n",
      "establishment       establishment       \n",
      "of                  of                  \n",
      "the                 the                 \n",
      "Republic            Republic            \n",
      "between             between             \n",
      "the                 the                 \n",
      "years               years               \n",
      "509-510             509-510             \n",
      "a.C                 a.C                 \n",
      ".                   .                   \n",
      "Thus                Thus                \n",
      "begins              begin               \n",
      "another             another             \n",
      "fundamental         fundamental         \n",
      "stage               stage               \n",
      "in                  in                  \n",
      "the                 the                 \n",
      "history             history             \n",
      "of                  of                  \n",
      "Rome                Rome                \n",
      "that                that                \n",
      "lasts               last                \n",
      "two                 two                 \n",
      "and                 and                 \n",
      "a                   a                   \n",
      "half                half                \n",
      "centuries           centuries           \n",
      ",                   ,                   \n",
      "in                  in                  \n",
      "which               which               \n",
      "Rome                Rome                \n",
      "is                  be                  \n",
      "preparing           prepare             \n",
      "to                  to                  \n",
      "dominate            dominate            \n",
      "the                 the                 \n",
      "Italic              Italic              \n",
      "peninsula           peninsula           \n",
      ",                   ,                   \n",
      "then                then                \n",
      "the                 the                 \n",
      "Mediterranean       Mediterranean       \n",
      "to                  to                  \n",
      "eventually          eventually          \n",
      "dominate            dominate            \n",
      "almost              almost              \n",
      "everyone            everyone            \n",
      "in                  in                  \n",
      "the                 the                 \n",
      "Empire              Empire              \n",
      "until               until               \n",
      "then                then                \n",
      "known               know                \n",
      ".                   .                   \n",
      "In                  In                  \n",
      "substitution        substitution        \n",
      "of                  of                  \n",
      "the                 the                 \n",
      "king                king                \n",
      ",                   ,                   \n",
      "the                 the                 \n",
      "group               group               \n",
      "of                  of                  \n",
      "citizens            citizens            \n",
      "elected             elect               \n",
      "annually            annually            \n",
      "two                 two                 \n",
      "magistrates         magistrates         \n",
      ",                   ,                   \n",
      "known               know                \n",
      "as                  as                  \n",
      "praetors            praetors            \n",
      "(                   (                   \n",
      "or                  or                  \n",
      "military            military            \n",
      "chiefs              chiefs              \n",
      ")                   )                   \n",
      ",                   ,                   \n",
      "who                 who                 \n",
      "later               later               \n",
      "received            receive             \n",
      "the                 the                 \n",
      "title               title               \n",
      "of                  of                  \n",
      "consuls             consuls             \n",
      ".                   .                   \n",
      "The                 The                 \n",
      "character           character           \n",
      "of                  of                  \n",
      "the                 the                 \n",
      "Senate              Senate              \n",
      ",                   ,                   \n",
      "already             already             \n",
      "existing            exist               \n",
      "during              during              \n",
      "the                 the                 \n",
      "monarchy            monarchy            \n",
      ",                   ,                   \n",
      "was                 be                  \n",
      "modified            modify              \n",
      "when                when                \n",
      "the                 the                 \n",
      "commoners           commoners           \n",
      "entered             enter               \n",
      "it                  it                  \n",
      ",                   ,                   \n",
      "known               know                \n",
      "as                  as                  \n",
      "conscripti          conscripti          \n",
      "(                   (                   \n",
      "conscripts          conscript           \n",
      ")                   )                   \n",
      ".                   .                   \n",
      "In                  In                  \n",
      "494                 494                 \n",
      "BC                  BC                  \n",
      ",                   ,                   \n",
      "the                 the                 \n",
      "secession           secession           \n",
      "(                   (                   \n",
      "withdrawal          withdrawal          \n",
      ")                   )                   \n",
      "to                  to                  \n",
      "the                 the                 \n",
      "Aventine            Aventine            \n",
      "(                   (                   \n",
      "one                 one                 \n",
      "of                  of                  \n",
      "the                 the                 \n",
      "seven               seven               \n",
      "hills               hill                \n",
      "of                  of                  \n",
      "Rome                Rome                \n",
      ")                   )                   \n",
      "of                  of                  \n",
      "the                 the                 \n",
      "plebeians           plebeians           \n",
      ",                   ,                   \n",
      "forced              force               \n",
      "the                 the                 \n",
      "patrician           patrician           \n",
      "classes             class               \n",
      "to                  to                  \n",
      "grant               grant               \n",
      "the                 the                 \n",
      "institution         institution         \n"
     ]
    },
    {
     "name": "stdout",
     "output_type": "stream",
     "text": [
      "of                  of                  \n",
      "the                 the                 \n",
      "tribuni             tribuni             \n",
      "plebis              plebis              \n",
      "(                   (                   \n",
      "tribunes            tribunes            \n",
      "of                  of                  \n",
      "the                 the                 \n",
      "plebs               plebs               \n",
      ")                   )                   \n",
      "who                 who                 \n",
      "were                be                  \n",
      "elected             elect               \n",
      "annually            annually            \n",
      ")                   )                   \n",
      "as                  as                  \n",
      "representatives     representatives     \n",
      "of                  of                  \n",
      "the                 the                 \n",
      "plebeians           plebeians           \n",
      "for                 for                 \n",
      "the                 the                 \n",
      "defense             defense             \n",
      "of                  of                  \n",
      "their               their               \n",
      "interests           interest            \n",
      ".                   .                   \n",
      "These               These               \n",
      "political           political           \n",
      "changes             change              \n",
      "gave                give                \n",
      "way                 way                 \n",
      "to                  to                  \n",
      "a                   a                   \n",
      "new                 new                 \n",
      "aristocracy         aristocracy         \n",
      "composed            compose             \n",
      "of                  of                  \n",
      "patricians          patricians          \n",
      "and                 and                 \n",
      "plebeians           plebeians           \n",
      "enriched            enrich              \n",
      "and                 and                 \n",
      "propitiated         propitiate          \n",
      "that                that                \n",
      "the                 the                 \n",
      "entry               entry               \n",
      "into                into                \n",
      "the                 the                 \n",
      "Senate              Senate              \n",
      "is                  be                  \n",
      "almost              almost              \n",
      "a                   a                   \n",
      "hereditary          hereditary          \n",
      "privilege           privilege           \n",
      "of                  of                  \n",
      "these               these               \n",
      "families            families            \n",
      ".                   .                   \n"
     ]
    }
   ],
   "source": [
    "print(\"\\nLemas\")\n",
    "wordnet_lemmatizer = WordNetLemmatizer()\n",
    "for palabra in palabras_ingles:\n",
    "    print (\"{0:20}{1:20}\".format(palabra,wordnet_lemmatizer.lemmatize(palabra, pos=\"v\")))"
   ]
  },
  {
   "cell_type": "markdown",
   "metadata": {},
   "source": [
    "# EJERCICIO 3 "
   ]
  },
  {
   "cell_type": "markdown",
   "metadata": {},
   "source": [
    "## Realice un análisis morfológico de los términos incluidos. Utilice nltk.pos_tag() "
   ]
  },
  {
   "cell_type": "code",
   "execution_count": 16,
   "metadata": {},
   "outputs": [
    {
     "name": "stdout",
     "output_type": "stream",
     "text": [
      "\n",
      "Con tags:  [('A', 'DT'), ('pesar', 'NN'), ('de', 'IN'), ('la', 'FW'), ('tradición', 'NN'), (',', ','), ('que', 'JJ'), ('ha', 'NN'), ('llegado', 'VBZ'), ('a', 'DT'), ('nuestros', 'JJ'), ('días', 'NN'), (',', ','), ('hoy', 'NN'), ('por', 'NN'), ('hoy', 'NN'), ('sepuede', 'NN'), ('afirmar', 'NN'), ('que', 'NN'), ('Rómulo', 'NNP'), ('-', ':'), ('el', 'NN'), ('fundador', 'NN'), ('de', 'IN'), ('Roma', 'NNP'), ('-', ':'), ('no', 'DT'), ('existió', 'NN'), (',', ','), ('y', 'NN'), ('que', 'NN'), ('laverdadera', 'NN'), ('fundación', 'NN'), ('de', 'IN'), ('Roma', 'NNP'), ('sería', 'VBD'), ('a', 'DT'), ('manos', 'FW'), ('de', 'FW'), ('Tarquinio', 'NNP'), ('Prisco', 'NNP'), ('a', 'DT'), ('principiosdel', 'NN'), ('siglo', 'NN'), ('VI', 'NNP'), ('.', '.'), ('Los', 'NNP'), ('datos', 'JJ'), ('que', 'NN'), ('se', 'FW'), ('extraen', 'FW'), ('de', 'FW'), ('la', 'FW'), ('literatura', 'FW'), ('romana', 'NN'), (',', ','), ('aseguran', 'NN'), ('sufundación', 'VBD'), ('a', 'DT'), ('mediados', 'JJ'), ('del', 'NN'), ('siglo', 'NN'), ('VIII', 'NNP'), ('por', 'NN'), ('Rómulo', 'NNP'), (',', ','), ('pero', 'NN'), ('por', 'NN'), ('el', 'NN'), ('contrario', 'NN'), (',', ','), ('losdatos', 'JJ'), ('arqueológicos', 'NN'), ('no', 'DT'), ('permiten', 'JJ'), ('hablar', 'NN'), ('de', 'IN'), ('un', 'FW'), ('nacimiento', 'JJ'), ('urbano', 'NN'), ('antes', 'NNS'), ('del625', 'VBP'), ('o', 'JJ'), ('incluso', 'NN'), ('del', 'NN'), ('575', 'CD'), ('a.C.El', 'NN'), ('mismo', 'NN'), ('caso', 'NN'), ('ocurre', 'JJ'), ('en', 'FW'), ('el', 'FW'), ('momento', 'FW'), ('de', 'FW'), ('fechar', 'FW'), ('el', 'FW'), ('principio', 'FW'), ('de', 'FW'), ('laRepública', 'FW'), (',', ','), ('el', 'FW'), ('509', 'CD'), ('a.', 'NN'), ('C.', 'NNP'), ('año', 'NN'), ('que', 'NN'), ('la', 'NN'), ('tradición', 'NN'), ('fija', 'NN'), ('como', 'NN'), ('el', 'JJ'), ('principio', 'NN'), ('de', 'IN'), ('laRepública', 'FW'), (',', ','), ('y', 'PRP'), ('el', 'VBP'), ('450', 'CD'), ('a.C.', 'NN'), ('que', 'NN'), (',', ','), ('según', 'JJ'), ('otros', 'FW'), ('datos', 'NN'), ('históricos', 'NN'), (',', ','), ('se', 'FW'), ('corresponderíamejor', 'JJ'), ('con', 'NN'), ('los', 'NN'), ('cambios', 'NNS'), ('históricos', 'VBP'), ('de', 'IN'), ('una', 'JJ'), ('nueva', 'JJ'), ('época', 'NN'), ('en', 'IN'), ('la', 'NN'), ('política', 'FW'), ('romana', 'FW'), ('Se', 'NNP'), ('llama', 'NN'), ('República', 'NNP'), ('al', 'VBZ'), ('periodo', 'FW'), ('de', 'FW'), ('la', 'FW'), ('historia', 'FW'), ('de', 'FW'), ('Roma', 'NNP'), ('caracterizado', 'NN'), ('por', 'NN'), ('elrégimen', 'NNS'), ('republicano', 'VBP'), ('como', 'JJ'), ('forma', 'NN'), ('de', 'IN'), ('gobierno', 'FW'), (',', ','), ('que', 'FW'), ('se', 'FW'), ('extiende', 'FW'), ('desde', 'NN'), ('el510', 'NN'), ('a.C.', 'NN'), (',', ','), ('cuando', 'NN'), ('se', 'NN'), ('puso', 'NN'), ('fin', 'VBD'), ('a', 'DT'), ('la', 'NN'), ('monarquía', 'FW'), ('con', 'NN'), ('la', 'FW'), ('expulsión', 'FW'), ('del', 'FW'), ('último', 'FW'), ('rey', 'NN'), (',', ','), ('Lucio', 'NNP'), ('Tarquino', 'NNP'), ('el', 'NN'), ('Soberbio', 'NNP'), (',', ','), ('hasta', 'NN'), ('el', 'NN'), ('27', 'CD'), ('a.C.', 'NN'), (',', ','), ('fecha', 'JJ'), ('en', 'FW'), ('que', 'NN'), ('tuvo', 'NN'), ('su', 'NN'), ('inicio', 'NN'), ('elImperio.Augusto', 'NN'), ('estableció', 'NN'), ('algunos', 'JJ'), ('servicios', 'NNS'), ('públicos', 'VBP'), ('durante', 'JJ'), ('este', 'NN'), ('periodo', 'NN'), (',', ','), ('elmás', 'JJ'), ('importante', 'NN'), ('era', 'NN'), ('el', 'NN'), ('ser', 'NN'), ('prefecto', 'NN'), ('de', 'IN'), ('la', 'FW'), ('ciudad', 'NN'), (';', ':'), ('vigilantes', 'VBZ'), ('nocturnos', 'NNS'), (';', ':'), ('bomberos', 'NNS'), (',', ','), ('para', 'NN'), ('prevenir', 'NN'), ('incendios', 'NNS'), ('y', 'VBP'), ('castigar', 'VB'), ('a', 'DT'), ('los', 'NN'), ('que', 'JJ'), ('los', 'NN'), ('provocaran.Entre', 'NN'), ('otros', 'JJ'), ('servicios', 'NNS'), ('.', '.'), ('Pero', 'NNP'), ('todos', 'JJ'), ('ellos', 'NN'), ('eran', 'NN'), ('de', 'IN'), ('propiedad', 'FW'), ('imperial.La', 'JJ'), ('tradición', 'NN'), ('sitúa', 'NN'), ('el', 'FW'), ('establecimiento', 'FW'), ('de', 'FW'), ('la', 'FW'), ('República', 'NNP'), ('entre', 'FW'), ('los', 'JJ'), ('años509-510', 'JJ'), ('a.C.', 'NN'), ('Así', 'NNP'), ('comienza', 'NN'), ('otra', 'JJ'), ('etapa', 'JJ'), ('fundamental', 'JJ'), ('de', 'FW'), ('la', 'FW'), ('historia', 'FW'), ('de', 'FW'), ('Romaque', 'NNP'), ('dura', 'NN'), ('dos', 'NN'), ('siglos', 'NN'), ('y', 'NN'), ('medio', 'NN'), (',', ','), ('en', 'FW'), ('la', 'FW'), ('cual', 'JJ'), ('Roma', 'NNP'), ('se', 'NN'), ('prepara', 'NN'), ('para', 'NN'), ('dominar', 'NN'), ('lapenínsula', 'NN'), ('itálica', 'NN'), (',', ','), ('después', 'NN'), ('el', 'NN'), ('Mediterráneo', 'NNP'), ('para', 'NN'), ('acabar', 'NN'), ('dominando', 'NN'), ('en', 'IN'), ('elImperio', 'NN'), ('casi', 'NN'), ('todo', 'NN'), ('el', 'FW'), ('mundo', 'NN'), ('hasta', 'NN'), ('el', 'NN'), ('entonces', 'NNS'), ('conocido', 'NN'), ('.', '.'), ('En', 'NNP'), ('sustitución', 'JJ'), ('del', 'NN'), ('rey', 'NN'), (',', ','), ('el', 'FW'), ('conjunto', 'FW'), ('de', 'FW'), ('la', 'FW'), ('ciudadanía', 'FW'), ('elegía', 'FW'), ('anualmente', 'FW'), ('ados', 'FW'), ('magistrados', 'NN'), (',', ','), ('conocidos', 'NN'), ('como', 'NN'), ('pretores', 'NNS'), ('(', '('), ('o', 'JJ'), ('jefes', 'NN'), ('militares', 'NNS'), (')', ')'), (',', ','), ('que', 'JJ'), ('más', 'NN'), ('tarderecibieron', 'NN'), ('el', 'NN'), ('título', 'NN'), ('de', 'IN'), ('cónsules', 'NNS'), ('.', '.'), ('El', 'NNP'), ('carácter', 'NN'), ('del', 'NN'), ('Senado', 'NNP'), (',', ','), ('ya', 'NNP'), ('existente', 'VBZ'), ('durantela', 'FW'), ('monarquía', 'NN'), (',', ','), ('fue', 'JJ'), ('modificado', 'NN'), ('al', 'NN'), ('ingresar', 'NN'), ('en', 'IN'), ('él', 'NNP'), ('los', 'NN'), ('plebeyos', 'NN'), (',', ','), ('conocidos', 'NN'), ('como', 'NN'), ('conscripti', 'NN'), ('(', '('), ('conscriptos', 'NN'), (')', ')'), ('.En', 'VBZ'), ('el', '$'), ('494', 'CD'), ('a.C.', 'NN'), (',', ','), ('la', 'FW'), ('secesión', 'FW'), ('(', '('), ('retirada', 'NN'), (')', ')'), ('al', 'NN'), ('Aventino', 'NNP'), ('(', '('), ('una', 'JJ'), ('de', 'FW'), ('las', 'FW'), ('siete', 'JJ'), ('colinas', 'NNS'), ('deRoma', 'NN'), (')', ')'), ('de', 'FW'), ('los', 'FW'), ('plebeyos', 'NN'), (',', ','), ('obligó', 'VBZ'), ('a', 'DT'), ('las', 'JJ'), ('clases', 'NNS'), ('patricias', 'VBP'), ('a', 'DT'), ('conceder', 'NN'), ('la', 'NN'), ('instituciónde', 'JJ'), ('los', 'NN'), ('tribuni', 'JJ'), ('plebis', 'NN'), ('(', '('), ('tribunos', 'FW'), ('de', 'FW'), ('la', 'FW'), ('plebe', 'NN'), (')', ')'), ('que', 'NN'), ('eran', 'VBD'), ('elegidos', 'RB'), ('anualmente', 'JJ'), (')', ')'), ('como', 'NN'), ('representantes', 'VBZ'), ('de', 'IN'), ('los', 'FW'), ('plebeyos', 'JJ'), ('para', 'NN'), ('la', 'NN'), ('defensa', 'FW'), ('de', 'FW'), ('sus', 'FW'), ('intereses.Estos', 'FW'), ('cambios', 'NNS'), ('políticos', 'VBP'), ('dieron', 'NN'), ('paso', 'NN'), ('a', 'DT'), ('una', 'JJ'), ('nueva', 'NN'), ('aristocracia', 'NN'), ('compuesta', 'NN'), ('por', 'NN'), ('patricios', 'NNS'), ('y', 'VBP'), ('plebeyos', 'JJ'), ('enriquecidos', 'NN'), ('y', 'NN'), ('propiciaron', 'NN'), ('que', 'NN'), ('el', 'NN'), ('ingreso', 'NN'), ('en', 'IN'), ('el', 'FW'), ('Senadofuera', 'NNP'), ('casi', 'NN'), ('un', 'JJ'), ('privilegio', 'NN'), ('hereditario', 'NN'), ('de', 'IN'), ('estas', 'FW'), ('familias', 'NNS'), ('.', '.')]\n"
     ]
    }
   ],
   "source": [
    "palabras_tag = nltk.pos_tag(palabras)\n",
    "print(\"\\nCon tags: \", palabras_tag)"
   ]
  },
  {
   "cell_type": "code",
   "execution_count": 17,
   "metadata": {},
   "outputs": [
    {
     "name": "stdout",
     "output_type": "stream",
     "text": [
      "\n",
      "Con tags:  [('In', 'IN'), ('spite', 'NN'), ('of', 'IN'), ('the', 'DT'), ('tradition', 'NN'), ('that', 'WDT'), ('has', 'VBZ'), ('reached', 'VBN'), ('our', 'PRP$'), ('days', 'NNS'), (',', ','), ('today', 'NN'), ('we', 'PRP'), ('can', 'MD'), ('affirm', 'VB'), ('that', 'DT'), ('Romulus', 'NNP'), ('-', ':'), ('the', 'DT'), ('founder', 'NN'), ('of', 'IN'), ('Rome', 'NNP'), ('-', ':'), ('did', 'VBD'), ('not', 'RB'), ('exist', 'VB'), (',', ','), ('and', 'CC'), ('that', 'IN'), ('the', 'DT'), ('true', 'JJ'), ('foundation', 'NN'), ('of', 'IN'), ('Rome', 'NNP'), ('would', 'MD'), ('be', 'VB'), ('at', 'IN'), ('the', 'DT'), ('hands', 'NNS'), ('of', 'IN'), ('Tarquinius', 'NNP'), ('Prisco', 'NNP'), ('at', 'IN'), ('the', 'DT'), ('beginning', 'NN'), ('of', 'IN'), ('the', 'DT'), ('6th', 'JJ'), ('century', 'NN'), ('.', '.'), ('The', 'DT'), ('data', 'NN'), ('extracted', 'VBD'), ('from', 'IN'), ('Roman', 'NNP'), ('literature', 'NN'), (',', ','), ('assure', 'NN'), ('suffocation', 'NN'), ('in', 'IN'), ('the', 'DT'), ('middle', 'NN'), ('of', 'IN'), ('the', 'DT'), ('eighth', 'JJ'), ('century', 'NN'), ('by', 'IN'), ('Romulus', 'NNP'), (',', ','), ('but', 'CC'), ('on', 'IN'), ('the', 'DT'), ('contrary', 'JJ'), (',', ','), ('the', 'DT'), ('archaeological', 'JJ'), ('data', 'NNS'), ('do', 'VBP'), ('not', 'RB'), ('allow', 'VB'), ('to', 'TO'), ('speak', 'VB'), ('of', 'IN'), ('an', 'DT'), ('urban', 'JJ'), ('birth', 'NN'), ('before', 'IN'), ('625', 'CD'), ('or', 'CC'), ('even', 'RB'), ('575', 'CD'), ('aCEl', 'NNS'), ('same', 'JJ'), ('case', 'NN'), ('occurs', 'VBZ'), ('at', 'IN'), ('the', 'DT'), ('time', 'NN'), ('of', 'IN'), ('dating', 'VBG'), ('the', 'DT'), ('beginning', 'NN'), ('of', 'IN'), ('the', 'DT'), ('Republic', 'NNP'), (',', ','), ('509', 'CD'), ('a.', 'NN'), ('C.', 'NNP'), ('year', 'NN'), ('that', 'IN'), ('the', 'DT'), ('tradition', 'NN'), ('fixes', 'NNS'), ('as', 'IN'), ('the', 'DT'), ('beginning', 'NN'), ('of', 'IN'), ('the', 'DT'), ('Republic', 'NNP'), (',', ','), ('and', 'CC'), ('450', 'CD'), ('a.C.', 'NN'), ('that', 'IN'), (',', ','), ('according', 'VBG'), ('to', 'TO'), ('other', 'JJ'), ('historical', 'JJ'), ('data', 'NNS'), (',', ','), ('would', 'MD'), ('correspond', 'VB'), ('better', 'JJR'), ('with', 'IN'), ('the', 'DT'), ('historical', 'JJ'), ('changes', 'NNS'), ('of', 'IN'), ('a', 'DT'), ('new', 'JJ'), ('epoch', 'NN'), ('in', 'IN'), ('Roman', 'NNP'), ('politics', 'NNS'), ('Republic', 'NNP'), ('is', 'VBZ'), ('called', 'VBN'), ('the', 'DT'), ('period', 'NN'), ('of', 'IN'), ('the', 'DT'), ('history', 'NN'), ('of', 'IN'), ('Rome', 'NNP'), ('characterized', 'VBN'), ('by', 'IN'), ('the', 'DT'), ('republican', 'JJ'), ('regime', 'NN'), ('as', 'IN'), ('a', 'DT'), ('form', 'NN'), ('of', 'IN'), ('government', 'NN'), (',', ','), ('which', 'WDT'), ('extends', 'VBZ'), ('from', 'IN'), ('510', 'CD'), ('BC', 'NNP'), (',', ','), ('when', 'WRB'), ('the', 'DT'), ('monarchy', 'NN'), ('ended', 'VBN'), ('with', 'IN'), ('the', 'DT'), ('expulsion', 'NN'), ('of', 'IN'), ('the', 'DT'), ('last', 'JJ'), ('king', 'NN'), (',', ','), ('Lucius', 'NNP'), ('Tarquino', 'NNP'), ('the', 'DT'), ('Superb', 'NNP'), (',', ','), ('until', 'IN'), ('27', 'CD'), ('BC', 'NNP'), (',', ','), ('date', 'NN'), ('on', 'IN'), ('which', 'WDT'), ('the', 'DT'), ('Empire', 'NNP'), ('began', 'VBD'), ('.', '.'), ('Augusto', 'NNP'), ('established', 'VBD'), ('some', 'DT'), ('public', 'JJ'), ('services', 'NNS'), ('during', 'IN'), ('this', 'DT'), ('period', 'NN'), (',', ','), ('the', 'DT'), ('most', 'RBS'), ('important', 'JJ'), ('being', 'VBG'), ('the', 'DT'), ('prefect', 'NN'), ('of', 'IN'), ('the', 'DT'), ('city', 'NN'), (';', ':'), ('night', 'NN'), ('watchmen', 'NNS'), (',', ','), ('firemen', 'NNS'), (',', ','), ('to', 'TO'), ('prevent', 'VB'), ('fires', 'NNS'), ('and', 'CC'), ('punish', 'JJ'), ('those', 'DT'), ('who', 'WP'), ('provoked', 'VBD'), ('them', 'PRP'), ('.', '.'), ('Among', 'IN'), ('other', 'JJ'), ('services', 'NNS'), ('.', '.'), ('But', 'CC'), ('all', 'DT'), ('of', 'IN'), ('them', 'PRP'), ('were', 'VBD'), ('of', 'IN'), ('imperial', 'JJ'), ('property', 'NN'), ('.', '.'), ('The', 'DT'), ('tradition', 'NN'), ('locates', 'VBZ'), ('the', 'DT'), ('establishment', 'NN'), ('of', 'IN'), ('the', 'DT'), ('Republic', 'NNP'), ('between', 'IN'), ('the', 'DT'), ('years', 'NNS'), ('509-510', 'JJ'), ('a.C', 'NN'), ('.', '.'), ('Thus', 'RB'), ('begins', 'VBZ'), ('another', 'DT'), ('fundamental', 'JJ'), ('stage', 'NN'), ('in', 'IN'), ('the', 'DT'), ('history', 'NN'), ('of', 'IN'), ('Rome', 'NNP'), ('that', 'WDT'), ('lasts', 'VBZ'), ('two', 'CD'), ('and', 'CC'), ('a', 'DT'), ('half', 'JJ'), ('centuries', 'NNS'), (',', ','), ('in', 'IN'), ('which', 'WDT'), ('Rome', 'NNP'), ('is', 'VBZ'), ('preparing', 'VBG'), ('to', 'TO'), ('dominate', 'VB'), ('the', 'DT'), ('Italic', 'NNP'), ('peninsula', 'NN'), (',', ','), ('then', 'RB'), ('the', 'DT'), ('Mediterranean', 'NNP'), ('to', 'TO'), ('eventually', 'RB'), ('dominate', 'VB'), ('almost', 'RB'), ('everyone', 'NN'), ('in', 'IN'), ('the', 'DT'), ('Empire', 'NNP'), ('until', 'IN'), ('then', 'RB'), ('known', 'VBN'), ('.', '.'), ('In', 'IN'), ('substitution', 'NN'), ('of', 'IN'), ('the', 'DT'), ('king', 'NN'), (',', ','), ('the', 'DT'), ('group', 'NN'), ('of', 'IN'), ('citizens', 'NNS'), ('elected', 'VBN'), ('annually', 'RB'), ('two', 'CD'), ('magistrates', 'NNS'), (',', ','), ('known', 'VBN'), ('as', 'IN'), ('praetors', 'NNS'), ('(', '('), ('or', 'CC'), ('military', 'JJ'), ('chiefs', 'NNS'), (')', ')'), (',', ','), ('who', 'WP'), ('later', 'RB'), ('received', 'VBD'), ('the', 'DT'), ('title', 'NN'), ('of', 'IN'), ('consuls', 'NN'), ('.', '.'), ('The', 'DT'), ('character', 'NN'), ('of', 'IN'), ('the', 'DT'), ('Senate', 'NNP'), (',', ','), ('already', 'RB'), ('existing', 'VBG'), ('during', 'IN'), ('the', 'DT'), ('monarchy', 'NN'), (',', ','), ('was', 'VBD'), ('modified', 'VBN'), ('when', 'WRB'), ('the', 'DT'), ('commoners', 'NNS'), ('entered', 'VBD'), ('it', 'PRP'), (',', ','), ('known', 'VBN'), ('as', 'IN'), ('conscripti', 'NN'), ('(', '('), ('conscripts', 'NNS'), (')', ')'), ('.', '.'), ('In', 'IN'), ('494', 'CD'), ('BC', 'NNP'), (',', ','), ('the', 'DT'), ('secession', 'NN'), ('(', '('), ('withdrawal', 'NN'), (')', ')'), ('to', 'TO'), ('the', 'DT'), ('Aventine', 'NNP'), ('(', '('), ('one', 'CD'), ('of', 'IN'), ('the', 'DT'), ('seven', 'CD'), ('hills', 'NNS'), ('of', 'IN'), ('Rome', 'NNP'), (')', ')'), ('of', 'IN'), ('the', 'DT'), ('plebeians', 'NNS'), (',', ','), ('forced', 'VBD'), ('the', 'DT'), ('patrician', 'JJ'), ('classes', 'NNS'), ('to', 'TO'), ('grant', 'VB'), ('the', 'DT'), ('institution', 'NN'), ('of', 'IN'), ('the', 'DT'), ('tribuni', 'JJ'), ('plebis', 'NN'), ('(', '('), ('tribunes', 'NNS'), ('of', 'IN'), ('the', 'DT'), ('plebs', 'NN'), (')', ')'), ('who', 'WP'), ('were', 'VBD'), ('elected', 'VBN'), ('annually', 'RB'), (')', ')'), ('as', 'IN'), ('representatives', 'NNS'), ('of', 'IN'), ('the', 'DT'), ('plebeians', 'NNS'), ('for', 'IN'), ('the', 'DT'), ('defense', 'NN'), ('of', 'IN'), ('their', 'PRP$'), ('interests', 'NNS'), ('.', '.'), ('These', 'DT'), ('political', 'JJ'), ('changes', 'NNS'), ('gave', 'VBD'), ('way', 'NN'), ('to', 'TO'), ('a', 'DT'), ('new', 'JJ'), ('aristocracy', 'NN'), ('composed', 'VBN'), ('of', 'IN'), ('patricians', 'NNS'), ('and', 'CC'), ('plebeians', 'NNS'), ('enriched', 'VBN'), ('and', 'CC'), ('propitiated', 'VBN'), ('that', 'IN'), ('the', 'DT'), ('entry', 'NN'), ('into', 'IN'), ('the', 'DT'), ('Senate', 'NNP'), ('is', 'VBZ'), ('almost', 'RB'), ('a', 'DT'), ('hereditary', 'JJ'), ('privilege', 'NN'), ('of', 'IN'), ('these', 'DT'), ('families', 'NNS'), ('.', '.')]\n"
     ]
    }
   ],
   "source": [
    "palabras_tag_ingles = nltk.pos_tag(palabras_ingles)\n",
    "print(\"\\nCon tags: \", palabras_tag_ingles)"
   ]
  },
  {
   "cell_type": "markdown",
   "metadata": {},
   "source": [
    "# EJERICICIO 4 "
   ]
  },
  {
   "cell_type": "markdown",
   "metadata": {},
   "source": [
    "## Extraiga entidades con la función nltk.ne_chunk() "
   ]
  },
  {
   "cell_type": "code",
   "execution_count": 18,
   "metadata": {},
   "outputs": [
    {
     "name": "stdout",
     "output_type": "stream",
     "text": [
      "PERSON Rómulo\n",
      "GPE Roma\n",
      "PERSON Roma\n",
      "PERSON Tarquinio Prisco\n",
      "GPE Los\n",
      "ORGANIZATION VIII\n",
      "PERSON Rómulo\n",
      "ORGANIZATION laRepública\n",
      "ORGANIZATION República\n",
      "GPE Roma\n",
      "PERSON Lucio Tarquino\n",
      "PERSON Soberbio\n",
      "GPE Pero\n",
      "GPE Romaque\n",
      "GPE Roma\n",
      "ORGANIZATION elImperio\n",
      "GPE En\n",
      "GPE El\n",
      "GPE Aventino\n",
      "ORGANIZATION deRoma\n"
     ]
    }
   ],
   "source": [
    "for sent in nltk.sent_tokenize(txt_esp):\n",
    "   for chunk in nltk.ne_chunk(nltk.pos_tag(nltk.word_tokenize(sent))):\n",
    "      if hasattr(chunk, 'label'):\n",
    "         print(chunk.label(), ' '.join(c[0] for c in chunk))"
   ]
  },
  {
   "cell_type": "code",
   "execution_count": 19,
   "metadata": {},
   "outputs": [
    {
     "name": "stdout",
     "output_type": "stream",
     "text": [
      "GPE Romulus\n",
      "GPE Rome\n",
      "GPE Rome\n",
      "PERSON Tarquinius Prisco\n",
      "GPE Roman\n",
      "PERSON Romulus\n",
      "ORGANIZATION Republic\n",
      "ORGANIZATION Republic\n",
      "GPE Roman\n",
      "ORGANIZATION Republic\n",
      "GPE Rome\n",
      "PERSON Lucius Tarquino\n",
      "GPE Superb\n",
      "ORGANIZATION Empire\n",
      "PERSON Augusto\n",
      "ORGANIZATION Republic\n",
      "GPE Rome\n",
      "GPE Rome\n",
      "ORGANIZATION Italic\n",
      "GPE Mediterranean\n",
      "ORGANIZATION Empire\n",
      "ORGANIZATION Senate\n",
      "GPE Aventine\n",
      "GPE Rome\n",
      "ORGANIZATION Senate\n"
     ]
    }
   ],
   "source": [
    "for sent in nltk.sent_tokenize(txt_ingles):\n",
    "   for chunk in nltk.ne_chunk(nltk.pos_tag(nltk.word_tokenize(sent))):\n",
    "      if hasattr(chunk, 'label'):\n",
    "         print(chunk.label(), ' '.join(c[0] for c in chunk))"
   ]
  },
  {
   "cell_type": "markdown",
   "metadata": {},
   "source": [
    "# EJERCICIO 5 "
   ]
  },
  {
   "cell_type": "markdown",
   "metadata": {},
   "source": [
    "## Una vez realizados todos los análisis, liste en pantalla las anotaciones obtenidas: frases, palabras, categoría gramatical del análisis morfológico, localizaciones, organizaciones y personas"
   ]
  },
  {
   "cell_type": "markdown",
   "metadata": {},
   "source": [
    "Un aspecto que me ha parecido clave ha sido la normalización, refieriéndose en cuanto tal a las tareas destinadas a poner todo el texto en igualdad de condiciones, es decir, con la normalización pone a todas las palabras en pie de igualdad y permite que el procesamiento proceda de manera uniforme."
   ]
  },
  {
   "cell_type": "markdown",
   "metadata": {},
   "source": [
    "Como resumen a todo lo obtenido, vamos a realizar un breve resumen de lo que hemos ido obteniendo hasta el momento:\n",
    "- Tokenización: División en frases\n",
    "- División en palabras\n",
    "- Normalización a través de la lematización de cada una de las palabras: Es aquí donde se encuentran las mayores diferencian entre el texto en español y el texto en inglés, en donde, como desarrollo en el apartado siguiente, la normalización se produce de forma consistente y clara con el texto inglés, no siendo así con el texto en español.\n",
    "- Análisis morfológico (POS): Las categorías gramaticales están mucho mejor definidas en el inglés que con el español. Realizando un recuento vemos que existe un mayor número de palabras bien clasificados en cuanto a su análisis morfológico que con el castellano. Por ejemplo, la palabra 'un' la clasifica como 'JJ' (Adverbio) o la palabra 'instituciones' la clasifica como también como elemento 'JJ'. \n",
    "- Extracción de entidades: Con la extracción en inglés las entidades están mucho mejor definidas que con el español. Existen clasificaciones mal realizadas en español en cuanto a personas y lugares. Por ejemplo, la palabra 'soberbio' la establece con la entidad de persona y la preposición 'pero' como un lugar. Las entidades que se han extraído , tanto para el texto en español como para el texto en inglés, han sido las siguientes:\n",
    "    - Organización: Senado, Imperio, República\n",
    "    - Persona: Lucius Tarquino, Tarquinius Prisco, Romulus\n",
    "    - Lugares: Rome, Aventine"
   ]
  },
  {
   "cell_type": "markdown",
   "metadata": {},
   "source": [
    "# EJERCICIO 6 "
   ]
  },
  {
   "cell_type": "markdown",
   "metadata": {},
   "source": [
    "## Comente las diferencias entre los resultados obtenidos en español y en inglés"
   ]
  },
  {
   "cell_type": "markdown",
   "metadata": {},
   "source": [
    "Sobre los resultados obtenidos del texto en español y del texto en inglés se realiza correctamente en ambos la tokenización y el análisis morfológico aunque para la conversión en las formas normales, NLTK selecciona correctamente las formas normales para el texto en inglés pero no para el texto en español. Esto es así puesto que la librería fue construida para extraer la tokenización de texto y su conversión para las formas normales únicamente en inglés, de ahí las diferencias en cuanto a su tratamiento"
   ]
  },
  {
   "cell_type": "markdown",
   "metadata": {},
   "source": [
    "# EJERCICIO 7 "
   ]
  },
  {
   "cell_type": "markdown",
   "metadata": {},
   "source": [
    "## Intente obtener mejores resultados en español. Para ello se sugiere utilizar la librería spaC"
   ]
  },
  {
   "cell_type": "code",
   "execution_count": 24,
   "metadata": {},
   "outputs": [],
   "source": [
    "import spacy\n",
    "from spacy.lang.es.examples import sentences "
   ]
  },
  {
   "cell_type": "markdown",
   "metadata": {},
   "source": [
    "Una vez importadas las librerías tendremos que realizar los siguientes comandos en nuestra consola (cmd) para activar nuestro espacio de carga:\n",
    "- python -m spacy download en_core_web_sm"
   ]
  },
  {
   "cell_type": "code",
   "execution_count": 25,
   "metadata": {},
   "outputs": [],
   "source": [
    "nlp = spacy.load(\"en_core_web_sm\")"
   ]
  },
  {
   "cell_type": "markdown",
   "metadata": {},
   "source": [
    "Vamos a realizar una primera aproximación con el texto en inglés"
   ]
  },
  {
   "cell_type": "code",
   "execution_count": 29,
   "metadata": {},
   "outputs": [],
   "source": [
    "doc=nlp(txt_ingles)"
   ]
  },
  {
   "cell_type": "code",
   "execution_count": 32,
   "metadata": {},
   "outputs": [
    {
     "name": "stdout",
     "output_type": "stream",
     "text": [
      "Noun phrases: ['spite', 'the tradition', 'our days', 'we', 'Romulus', 'the founder', 'Rome', 'the true foundation', 'Rome', 'the hands', 'Tarquinius Prisco', 'the beginning', 'the 6th century', 'The data', 'Roman literature', 'the middle', 'the eighth century', 'Romulus', 'the contrary', 'the archaeological data', 'an urban birth', 'even 575 aCEl same case', 'the time', 'the beginning', 'the Republic', 'the beginning', 'the Republic', 'C.', 'other historical data', 'the historical changes', 'a new epoch', 'Roman politics', 'Republic', 'the history', 'Rome', 'the republican regime', 'a form', 'government', '510 BC', 'the monarchy', 'the expulsion', 'the last king', 'Lucius Tarquino', 'the Superb', '27 BC', 'the Empire', 'Augusto', 'some public services', 'this period', 'the prefect', 'the city', 'firemen', 'fires', 'who', 'them', 'other services', 'them', 'imperial property', 'The tradition', 'the establishment', 'the Republic', 'the years', 'C.', 'another fundamental stage', 'the history', 'Rome', 'two and a half centuries', 'Rome', 'the Italic peninsula', 'the Mediterranean', 'almost everyone', 'the Empire', 'substitution', 'the king', 'the group', 'citizens', 'two magistrates', 'praetors', 'military chiefs', 'who', 'the title', 'consuls', 'The character', 'the Senate', 'the monarchy', 'the commoners', 'it', '(conscripts', '494 BC', 'the secession', '(withdrawal', 'the Aventine', 'the seven hills', 'Rome', 'the plebeians', 'the patrician classes', 'the institution', 'the tribuni plebis', 'the plebs', 'who', 'representatives', 'the plebeians', 'the defense', 'their interests', 'These political changes', 'way', 'a new aristocracy', 'patricians', 'plebeians', 'the entry', 'the Senate', 'almost a hereditary privilege', 'these families']\n"
     ]
    }
   ],
   "source": [
    "print(\"Noun phrases:\", [chunk.text for chunk in doc.noun_chunks])"
   ]
  },
  {
   "cell_type": "code",
   "execution_count": 33,
   "metadata": {},
   "outputs": [
    {
     "name": "stdout",
     "output_type": "stream",
     "text": [
      "Verbs: ['have', 'reach', 'can', 'affirm', 'do', 'exist', 'would', 'be', 'extract', 'assure', 'do', 'allow', 'speak', 'occur', 'date', 'fix', 'accord', 'would', 'correspond', 'be', 'call', 'characterize', 'extend', 'end', 'begin', 'establish', 'be', 'prevent', 'punish', 'provoke', 'be', 'locate', 'begin', 'last', 'be', 'prepare', 'dominate', 'dominate', 'know', 'elect', 'know', 'receive', 'exist', 'be', 'modify', 'enter', 'know', 'force', 'grant', 'be', 'elect', 'give', 'compose', 'enrich', 'propitiate', 'be']\n"
     ]
    }
   ],
   "source": [
    "print(\"Verbs:\", [token.lemma_ for token in doc if token.pos_ == \"VERB\"])"
   ]
  },
  {
   "cell_type": "markdown",
   "metadata": {},
   "source": [
    "Realizamos el mismo análisis para el texto en español"
   ]
  },
  {
   "cell_type": "code",
   "execution_count": 34,
   "metadata": {},
   "outputs": [],
   "source": [
    "doc2=nlp(txt_esp)"
   ]
  },
  {
   "cell_type": "code",
   "execution_count": 35,
   "metadata": {},
   "outputs": [
    {
     "name": "stdout",
     "output_type": "stream",
     "text": [
      "Noun phrases: ['A pesar de la tradición', 'por', 'afirmar que', 'Rómulo - el fundador', 'de Roma', 'no existió', 'y que laverdadera fundación de Roma', 'a manos de Tarquinio Prisco', 'a principiosdel siglo VI', 'aseguran', 'a mediados del siglo VIII por', 'Rómulo', 'pero por el contrario', 'losdatos arqueológicos', 'o incluso del', 'C.El mismo caso ocurre', 'de fechar el principio de laRepública', '509 a. C.', 'fija como el principio de laRepública', 'y el', 'C. que', 'según otros datos históricos', 'históricos de una nueva época', 'llama', 'de la historia de Roma caracterizado por', 'republicano como forma', 'extiende desde', 'se puso', 'Lucio Tarquino el Soberbio', 'hasta el', 'C.', 'fecha', 'que tuvo su', 'elImperio', 'Augusto estableció algunos', 'públicos durante este periodo', 'elmás importante era', 'prefecto de la ciudad', 'a los que los provocaran', 'Entre otros', 'Pero todos ellos', 'de propiedad', 'La', 'el', 'C. Así', 'fundamental de la historia de Romaque dura dos siglos', 'la cual Roma', 'prepara', 'dominar lapenínsula itálica', 'después el Mediterráneo', 'para acabar dominando', 'elImperio', 'casi todo', 'el mundo', 'el', 'sustitución', 'del rey', 'el conjunto de la ciudadanía elegía anualmente ados magistrados', 'conocidos como pretores', 'o jefes militares', 'el', 'de cónsules', 'ya', 'monarquía', 'fue modificado al ingresar', 'los plebeyos', 'C.', 'la secesión', 'retirada', 'al Aventino', 'deRoma', 'a las clases', 'instituciónde los tribuni plebis', '(tribunos de la plebe', 'eran elegidos anualmente', 'de los plebeyos para', 'a una nueva aristocracia', 'por patricios', 'y plebeyos', 'el Senadofuera', 'un privilegio']\n"
     ]
    }
   ],
   "source": [
    "print(\"Noun phrases:\", [chunk.text for chunk in doc2.noun_chunks])"
   ]
  },
  {
   "cell_type": "code",
   "execution_count": 36,
   "metadata": {},
   "outputs": [
    {
     "name": "stdout",
     "output_type": "stream",
     "text": [
      "Verbs: ['día', 'afirmar', 'sufundación', 'ante', 'año', 'tradición', 'datos', 'romana', 'periodo', 'rey', 'inicio', 'servicio', 'ser', 'incendio', 'castigar', 'servicio', 'tradición', 'los', 'para', 'el', 'colina', 'obligó', 'patricia', 'elegido', 'paso', 'compuesta', 'enriquecidos', 'ingreso']\n"
     ]
    }
   ],
   "source": [
    "print(\"Verbs:\", [token.lemma_ for token in doc2 if token.pos_ == \"VERB\"])"
   ]
  },
  {
   "cell_type": "code",
   "execution_count": 37,
   "metadata": {},
   "outputs": [
    {
     "name": "stdout",
     "output_type": "stream",
     "text": [
      "our days DATE\n",
      "today DATE\n",
      "Rome GPE\n",
      "Rome GPE\n",
      "Tarquinius Prisco GPE\n",
      "the beginning of the 6th century DATE\n",
      "Roman NORP\n",
      "the middle of the eighth century DATE\n",
      "625 CARDINAL\n",
      "575 CARDINAL\n",
      "509 CARDINAL\n",
      "C. year DATE\n",
      "450 CARDINAL\n",
      "Roman NORP\n",
      "Rome GPE\n",
      "510 CARDINAL\n",
      "BC ORG\n",
      "Lucius Tarquino PERSON\n",
      "Superb LOC\n",
      "27 CARDINAL\n",
      "BC ORG\n",
      "Empire GPE\n",
      "Augusto GPE\n",
      "the years DATE\n",
      "509 CARDINAL\n",
      "Rome GPE\n",
      "two and a half centuries DATE\n",
      "Rome GPE\n",
      "Mediterranean LOC\n",
      "Empire GPE\n",
      "Senate ORG\n",
      "494 CARDINAL\n",
      "BC ORG\n",
      "Aventine PERSON\n",
      "one CARDINAL\n",
      "seven CARDINAL\n",
      "Rome GPE\n",
      "annually DATE\n",
      "Senate ORG\n"
     ]
    }
   ],
   "source": [
    "for entity in doc.ents:\n",
    "    print(entity.text, entity.label_)"
   ]
  },
  {
   "cell_type": "markdown",
   "metadata": {},
   "source": [
    "La librería SpaCy arroja mejores resultados que NLTK para la extracción de entidades con textos en español, no confunde esta vez los lugares con las personas. Por ejemplo, con NLTK se clasificaba como entidad de lugar a 'Aventine' cuando en realidad es un nombre de una persona y con SpaCy no tenemos este error de clasificación. Además, cada uno de los años y fechas relevantes las clasifica con la entidad de cardinal, cuestión que antes no se tenía en cuenta con la librería NLTK"
   ]
  },
  {
   "cell_type": "markdown",
   "metadata": {},
   "source": [
    "# CONCLUSIONES"
   ]
  },
  {
   "cell_type": "markdown",
   "metadata": {},
   "source": [
    "Tomado todo ello en su conjunto, podemos decir que pese a las diferencias existentes entre el procesamiento de los textos en inglés y en español, la clasificación de entidades nos dá una idea precisa sobre cada una de las palabras más significativas."
   ]
  },
  {
   "cell_type": "markdown",
   "metadata": {},
   "source": [
    "En base a nuestro análisis se llega a la conclusión de:\n",
    "- Para textos en inglés: Trabajaremos mejor con la librería NLTK\n",
    "- Para textos en español: Trabajaremos mejor con la librería SpacY."
   ]
  }
 ],
 "metadata": {
  "kernelspec": {
   "display_name": "Python 3",
   "language": "python",
   "name": "python3"
  },
  "language_info": {
   "codemirror_mode": {
    "name": "ipython",
    "version": 3
   },
   "file_extension": ".py",
   "mimetype": "text/x-python",
   "name": "python",
   "nbconvert_exporter": "python",
   "pygments_lexer": "ipython3",
   "version": "3.7.0"
  },
  "toc": {
   "base_numbering": 1,
   "nav_menu": {},
   "number_sections": true,
   "sideBar": true,
   "skip_h1_title": false,
   "title_cell": "Table of Contents",
   "title_sidebar": "Contents",
   "toc_cell": false,
   "toc_position": {
    "height": "calc(100% - 180px)",
    "left": "10px",
    "top": "150px",
    "width": "307.2px"
   },
   "toc_section_display": true,
   "toc_window_display": false
  }
 },
 "nbformat": 4,
 "nbformat_minor": 2
}
